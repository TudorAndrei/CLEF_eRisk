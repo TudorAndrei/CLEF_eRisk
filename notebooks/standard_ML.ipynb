{
 "cells": [
  {
   "cell_type": "code",
   "execution_count": 5,
   "metadata": {},
   "outputs": [],
   "source": [
    "from glob import glob\n",
    "import numpy as np"
   ]
  },
  {
   "cell_type": "markdown",
   "metadata": {},
   "source": [
    "### Create the training dataset"
   ]
  },
  {
   "cell_type": "code",
   "execution_count": 2,
   "metadata": {},
   "outputs": [],
   "source": [
    "# Extract the subjects' label.\n",
    "path_labels = '../data/risk_golden_truth.txt'\n",
    "labels = {}\n",
    "with open(path_labels, 'r') as f:\n",
    "    for line in f:\n",
    "        subject, label = line.split()\n",
    "        labels[subject] = int(label)"
   ]
  },
  {
   "cell_type": "code",
   "execution_count": 3,
   "metadata": {},
   "outputs": [],
   "source": [
    "# Create the train dataset from the subjects' posts and label.\n",
    "txt_path = glob('../data/processed/*')\n",
    "rows_data = []\n",
    "for path in txt_path:\n",
    "   with open(path, 'r+') as f:\n",
    "      # Split the path, get the filename \n",
    "      # (which contains the subject) and remove '.txt'\n",
    "      subject = path.split('\\\\')[1][:-4] \n",
    "      txt = f.read()\n",
    "      rows_data.append((subject, txt, labels[subject]))\n",
    "\n",
    "# Training dataset.\n",
    "train_data = pd.DataFrame(rows_data, columns=['Subject', 'Text', 'Label'])"
   ]
  },
  {
   "cell_type": "code",
   "execution_count": 4,
   "metadata": {},
   "outputs": [
    {
     "data": {
      "text/html": [
       "<div>\n",
       "<style scoped>\n",
       "    .dataframe tbody tr th:only-of-type {\n",
       "        vertical-align: middle;\n",
       "    }\n",
       "\n",
       "    .dataframe tbody tr th {\n",
       "        vertical-align: top;\n",
       "    }\n",
       "\n",
       "    .dataframe thead th {\n",
       "        text-align: right;\n",
       "    }\n",
       "</style>\n",
       "<table border=\"1\" class=\"dataframe\">\n",
       "  <thead>\n",
       "    <tr style=\"text-align: right;\">\n",
       "      <th></th>\n",
       "      <th>Subject</th>\n",
       "      <th>Text</th>\n",
       "      <th>Label</th>\n",
       "    </tr>\n",
       "  </thead>\n",
       "  <tbody>\n",
       "    <tr>\n",
       "      <th>0</th>\n",
       "      <td>subject1</td>\n",
       "      <td>Vulcan's ultimate landing at max range is so s...</td>\n",
       "      <td>0</td>\n",
       "    </tr>\n",
       "    <tr>\n",
       "      <th>1</th>\n",
       "      <td>subject100</td>\n",
       "      <td>I almost only play Marathon/Huge. I enjoy slow...</td>\n",
       "      <td>0</td>\n",
       "    </tr>\n",
       "    <tr>\n",
       "      <th>2</th>\n",
       "      <td>subject1006</td>\n",
       "      <td>http://imgur.com/igov5qk http://imgur.com/vHu8...</td>\n",
       "      <td>0</td>\n",
       "    </tr>\n",
       "    <tr>\n",
       "      <th>3</th>\n",
       "      <td>subject1008</td>\n",
       "      <td>What are the list of softwares you use for day...</td>\n",
       "      <td>0</td>\n",
       "    </tr>\n",
       "    <tr>\n",
       "      <th>4</th>\n",
       "      <td>subject1011</td>\n",
       "      <td>Subscribe and like will help me #128522;\\nLoL\\...</td>\n",
       "      <td>0</td>\n",
       "    </tr>\n",
       "    <tr>\n",
       "      <th>...</th>\n",
       "      <td>...</td>\n",
       "      <td>...</td>\n",
       "      <td>...</td>\n",
       "    </tr>\n",
       "    <tr>\n",
       "      <th>2343</th>\n",
       "      <td>subject9980</td>\n",
       "      <td>\\n \\n \\n \\n \\n \\n \\n \\n \\n \\n \\n \\n \\n \\n \\n ...</td>\n",
       "      <td>0</td>\n",
       "    </tr>\n",
       "    <tr>\n",
       "      <th>2344</th>\n",
       "      <td>subject9981</td>\n",
       "      <td>\\n \\n \\n \\n \\n \\n \\n \\n \\n \\n \\n \\n \\n \\n \\n ...</td>\n",
       "      <td>0</td>\n",
       "    </tr>\n",
       "    <tr>\n",
       "      <th>2345</th>\n",
       "      <td>subject9986</td>\n",
       "      <td>Checkout r/GoGoJoJo against the qualified immu...</td>\n",
       "      <td>0</td>\n",
       "    </tr>\n",
       "    <tr>\n",
       "      <th>2346</th>\n",
       "      <td>subject9990</td>\n",
       "      <td>Only took about 10 tries to post correctly lol...</td>\n",
       "      <td>0</td>\n",
       "    </tr>\n",
       "    <tr>\n",
       "      <th>2347</th>\n",
       "      <td>subject9996</td>\n",
       "      <td>I see you need 1 more kitsune, so what you wan...</td>\n",
       "      <td>0</td>\n",
       "    </tr>\n",
       "  </tbody>\n",
       "</table>\n",
       "<p>2348 rows × 3 columns</p>\n",
       "</div>"
      ],
      "text/plain": [
       "          Subject                                               Text  Label\n",
       "0        subject1  Vulcan's ultimate landing at max range is so s...      0\n",
       "1      subject100  I almost only play Marathon/Huge. I enjoy slow...      0\n",
       "2     subject1006  http://imgur.com/igov5qk http://imgur.com/vHu8...      0\n",
       "3     subject1008  What are the list of softwares you use for day...      0\n",
       "4     subject1011  Subscribe and like will help me #128522;\\nLoL\\...      0\n",
       "...           ...                                                ...    ...\n",
       "2343  subject9980   \\n \\n \\n \\n \\n \\n \\n \\n \\n \\n \\n \\n \\n \\n \\n ...      0\n",
       "2344  subject9981   \\n \\n \\n \\n \\n \\n \\n \\n \\n \\n \\n \\n \\n \\n \\n ...      0\n",
       "2345  subject9986  Checkout r/GoGoJoJo against the qualified immu...      0\n",
       "2346  subject9990  Only took about 10 tries to post correctly lol...      0\n",
       "2347  subject9996  I see you need 1 more kitsune, so what you wan...      0\n",
       "\n",
       "[2348 rows x 3 columns]"
      ]
     },
     "execution_count": 4,
     "metadata": {},
     "output_type": "execute_result"
    }
   ],
   "source": [
    "train_data"
   ]
  },
  {
   "cell_type": "markdown",
   "metadata": {},
   "source": [
    "### Preprocess the subjects' posts\n",
    "Text normalization techniques:\n",
    "- lowercasing \n",
    "- whitespace removal\n",
    "- URL removal\n",
    "- tokenization\n",
    "- stopwords removal\n",
    "- punctuation removal\n",
    "- stemming"
   ]
  },
  {
   "cell_type": "code",
   "execution_count": 5,
   "metadata": {},
   "outputs": [],
   "source": [
    "import re\n",
    "from nltk import word_tokenize\n",
    "from nltk.corpus import stopwords\n",
    "from nltk.stem import PorterStemmer\n",
    "from nltk.tokenize import RegexpTokenizer"
   ]
  },
  {
   "cell_type": "code",
   "execution_count": 6,
   "metadata": {},
   "outputs": [],
   "source": [
    "# Normalize all words to lowercase.\n",
    "train_data[\"Text\"] = train_data[\"Text\"].str.lower()"
   ]
  },
  {
   "cell_type": "code",
   "execution_count": 7,
   "metadata": {},
   "outputs": [],
   "source": [
    "def remove_whitespace(text):\n",
    "   \"\"\" Removes all whitespaces from a given text.\"\"\"\n",
    "   return \" \".join(text.split())"
   ]
  },
  {
   "cell_type": "code",
   "execution_count": 8,
   "metadata": {},
   "outputs": [],
   "source": [
    "# Remove all whitespaces from texts.\n",
    "train_data[\"Text\"] = train_data[\"Text\"].apply(remove_whitespace)"
   ]
  },
  {
   "cell_type": "code",
   "execution_count": 9,
   "metadata": {},
   "outputs": [],
   "source": [
    "def remove_URLs(text):\n",
    "   \"Remove URLs from text using regular expressions.\"\n",
    "   url_re = re.compile(r'https?://\\S+|www\\.\\S+')\n",
    "   return url_re.sub(r'', text)"
   ]
  },
  {
   "cell_type": "code",
   "execution_count": 10,
   "metadata": {},
   "outputs": [
    {
     "data": {
      "text/plain": [
       "'http://imgur.com/igov5qk http://imgur.com/vhu8cjn this was just a lucky run all around. i got some good crew early and then got good system levels like shields and engines. this let me focus on a weap'"
      ]
     },
     "execution_count": 10,
     "metadata": {},
     "output_type": "execute_result"
    }
   ],
   "source": [
    "train_data[\"Text\"][2][:200]"
   ]
  },
  {
   "cell_type": "code",
   "execution_count": 11,
   "metadata": {},
   "outputs": [],
   "source": [
    "# Remove URLs from texts.\n",
    "train_data[\"Text\"] = train_data[\"Text\"].apply(remove_URLs)"
   ]
  },
  {
   "cell_type": "code",
   "execution_count": 12,
   "metadata": {},
   "outputs": [
    {
     "data": {
      "text/plain": [
       "'  this was just a lucky run all around. i got some good crew early and then got good system levels like shields and engines. this let me focus on a weapons system, and someone truly blessed me. triple'"
      ]
     },
     "execution_count": 12,
     "metadata": {},
     "output_type": "execute_result"
    }
   ],
   "source": [
    "train_data[\"Text\"][2][:200]"
   ]
  },
  {
   "cell_type": "code",
   "execution_count": 13,
   "metadata": {},
   "outputs": [],
   "source": [
    "# Extract tokens from texts.\n",
    "train_data[\"Text\"] = train_data[\"Text\"].apply(lambda x: word_tokenize(x))"
   ]
  },
  {
   "cell_type": "code",
   "execution_count": 14,
   "metadata": {},
   "outputs": [],
   "source": [
    "def remove_punctuation(text):\n",
    "   tokenizer = RegexpTokenizer(r'\\w+')\n",
    "   no_punct = tokenizer.tokenize(\" \".join(text))\n",
    "   return no_punct"
   ]
  },
  {
   "cell_type": "code",
   "execution_count": 15,
   "metadata": {},
   "outputs": [],
   "source": [
    "# Removes punctuation from texts.\n",
    "train_data[\"Text\"] = train_data[\"Text\"].apply(remove_punctuation)"
   ]
  },
  {
   "cell_type": "code",
   "execution_count": 16,
   "metadata": {},
   "outputs": [],
   "source": [
    "en_stopwords = stopwords.words('english')\n",
    "def remove_stopwords(text):\n",
    "   \"\"\"Removes english stopwords.\"\"\"\n",
    "   result = []\n",
    "   for token in text:\n",
    "      if token not in en_stopwords:\n",
    "         result.append(token)\n",
    "\n",
    "   return result"
   ]
  },
  {
   "cell_type": "code",
   "execution_count": 17,
   "metadata": {},
   "outputs": [],
   "source": [
    "# Removes stopwords from texts.\n",
    "train_data[\"Text\"] = train_data[\"Text\"].apply(remove_stopwords)"
   ]
  },
  {
   "cell_type": "code",
   "execution_count": 18,
   "metadata": {},
   "outputs": [],
   "source": [
    "def stemming(text):\n",
    "   porter = PorterStemmer()\n",
    "   result = []\n",
    "   for word in text:\n",
    "      result.append(porter.stem(word))\n",
    "\n",
    "   return result"
   ]
  },
  {
   "cell_type": "code",
   "execution_count": 19,
   "metadata": {},
   "outputs": [],
   "source": [
    "# Apply stemming to words from texts.\n",
    "train_data[\"Text\"] = train_data[\"Text\"].apply(stemming)"
   ]
  },
  {
   "cell_type": "code",
   "execution_count": 20,
   "metadata": {},
   "outputs": [],
   "source": [
    "# Save the dataset to a .csv file.\n",
    "train_data.to_csv('../data/train_dataset.csv')"
   ]
  },
  {
   "cell_type": "markdown",
   "metadata": {},
   "source": [
    "### Standard ML approaches"
   ]
  },
  {
   "cell_type": "code",
   "execution_count": 1,
   "metadata": {},
   "outputs": [],
   "source": [
    "import time\n",
    "import pandas as pd\n",
    "import numpy as np\n",
    "from sklearn.svm import LinearSVC\n",
    "from sklearn.pipeline import Pipeline\n",
    "from sklearn.model_selection import StratifiedKFold\n",
    "from sklearn.model_selection import cross_validate\n",
    "from sklearn.feature_extraction.text import CountVectorizer\n",
    "from sklearn.feature_extraction.text import TfidfVectorizer\n",
    "from sklearn.linear_model import LogisticRegression\n",
    "from sklearn.ensemble import RandomForestClassifier \n",
    "from sklearn.neighbors import KNeighborsClassifier\n",
    "from sklearn.tree import DecisionTreeClassifier\n",
    "from sklearn.metrics import make_scorer, accuracy_score, precision_score, recall_score, f1_score"
   ]
  },
  {
   "cell_type": "code",
   "execution_count": 2,
   "metadata": {},
   "outputs": [],
   "source": [
    "# Load the training dataset.\n",
    "train_data = pd.read_csv('../data/train_dataset.csv')"
   ]
  },
  {
   "cell_type": "code",
   "execution_count": 3,
   "metadata": {},
   "outputs": [
    {
     "data": {
      "text/plain": [
       "<AxesSubplot:>"
      ]
     },
     "execution_count": 3,
     "metadata": {},
     "output_type": "execute_result"
    },
    {
     "data": {
      "image/png": "[encoded data removed]",
      "text/plain": [
       "<Figure size 432x288 with 1 Axes>"
      ]
     },
     "metadata": {
      "needs_background": "light"
     },
     "output_type": "display_data"
    }
   ],
   "source": [
    "# Visualize the distribution of class labels.\n",
    "train_data[\"Label\"].value_counts().plot.bar()"
   ]
  },
  {
   "cell_type": "markdown",
   "metadata": {},
   "source": [
    "### ML experiments\n",
    "Feature extractors:\n",
    "- Bag-of-Words\n",
    "- TF-IDF\n",
    "\n",
    "Classifiers:\n",
    "- LinearSVC\n",
    "- Logistic Regression\n",
    "- Random Forest\n",
    "- K-neighbors\n",
    "- Decision Tree"
   ]
  },
  {
   "cell_type": "code",
   "execution_count": 4,
   "metadata": {},
   "outputs": [],
   "source": [
    "X = train_data[\"Text\"]\n",
    "y = train_data[\"Label\"]\n",
    "\n",
    "# Feature extractors.\n",
    "feature_extractors = [\n",
    "CountVectorizer(),\n",
    "# Ignore words that appear in less than 20% of posts (rare words).\n",
    "CountVectorizer(min_df=0.2),\n",
    "# Ignore words that appear in more than 80% of posts (frequent words).\n",
    "CountVectorizer(max_df=0.8),\n",
    "CountVectorizer(ngram_range=(2, 2)),\n",
    "CountVectorizer(ngram_range=(3, 3)),\n",
    "TfidfVectorizer(),\n",
    "TfidfVectorizer(min_df=0.2),\n",
    "TfidfVectorizer(max_df=0.8),\n",
    "TfidfVectorizer(ngram_range=(2, 2)),\n",
    "TfidfVectorizer(ngram_range=(3, 3))\n",
    "]\n",
    "\n",
    "# Classifiers.\n",
    "classifiers = [ \n",
    "LinearSVC(max_iter=100000), \n",
    "LogisticRegression(max_iter=100000), \n",
    "RandomForestClassifier(), \n",
    "KNeighborsClassifier(), \n",
    "DecisionTreeClassifier()\n",
    "]\n",
    "# Use a stratified 5-fold CV to try to reduce\n",
    "# the class imbalance in train/validation splits.\n",
    "cv = StratifiedKFold(n_splits=5)"
   ]
  },
  {
   "cell_type": "code",
   "execution_count": 5,
   "metadata": {},
   "outputs": [
    {
     "name": "stdout",
     "output_type": "stream",
     "text": [
      "Time:  1.23  min\n",
      "Experiment:  LinearSVC(max_iter=100000) + CountVectorizer()\n",
      "F1 score=  0.85 , 5-fold CV= [0.82191781 0.87878788 0.84848485 0.85294118 0.8358209 ]\n",
      "Precision=  0.82 , 5-fold CV= [0.75       0.87878788 0.84848485 0.80555556 0.82352941]\n",
      "Recall=  0.88 , 5-fold CV= [0.90909091 0.87878788 0.84848485 0.90625    0.84848485]\n",
      "Accuracy=  0.98 , 5-fold CV= [0.97234043 0.98297872 0.9787234  0.97867804 0.97654584]\n",
      "====================================================================================================\n",
      "Time:  1.17  min\n",
      "Experiment:  LinearSVC(max_iter=100000) + CountVectorizer(min_df=0.2)\n",
      "F1 score=  0.82 , 5-fold CV= [0.80555556 0.85294118 0.84848485 0.79411765 0.79411765]\n",
      "Precision=  0.79 , 5-fold CV= [0.74358974 0.82857143 0.84848485 0.75       0.77142857]\n",
      "Recall=  0.85 , 5-fold CV= [0.87878788 0.87878788 0.84848485 0.84375    0.81818182]\n",
      "Accuracy=  0.97 , 5-fold CV= [0.97021277 0.9787234  0.9787234  0.97014925 0.97014925]\n",
      "====================================================================================================\n",
      "Time:  1.24  min\n",
      "Experiment:  LinearSVC(max_iter=100000) + CountVectorizer(max_df=0.8)\n",
      "F1 score=  0.86 , 5-fold CV= [0.86486486 0.875      0.85294118 0.88235294 0.8358209 ]\n",
      "Precision=  0.83 , 5-fold CV= [0.7804878  0.90322581 0.82857143 0.83333333 0.82352941]\n",
      "Recall=  0.9 , 5-fold CV= [0.96969697 0.84848485 0.87878788 0.9375     0.84848485]\n",
      "Accuracy=  0.98 , 5-fold CV= [0.9787234  0.98297872 0.9787234  0.98294243 0.97654584]\n",
      "====================================================================================================\n",
      "Time:  3.87  min\n",
      "Experiment:  LinearSVC(max_iter=100000) + CountVectorizer(ngram_range=(2, 2))\n",
      "F1 score=  0.73 , 5-fold CV= [0.73846154 0.75757576 0.72413793 0.69090909 0.74193548]\n",
      "Precision=  0.79 , 5-fold CV= [0.75       0.75757576 0.84       0.82608696 0.79310345]\n",
      "Recall=  0.68 , 5-fold CV= [0.72727273 0.75757576 0.63636364 0.59375    0.6969697 ]\n",
      "Accuracy=  0.97 , 5-fold CV= [0.96382979 0.96595745 0.96595745 0.96375267 0.96588486]\n",
      "====================================================================================================\n",
      "Time:  5.67  min\n",
      "Experiment:  LinearSVC(max_iter=100000) + CountVectorizer(ngram_range=(3, 3))\n",
      "F1 score=  0.25 , 5-fold CV= [0.41860465 0.35       0.16666667 0.22222222 0.11428571]\n",
      "Precision=  0.98 , 5-fold CV= [0.9 1.  1.  1.  1. ]\n",
      "Recall=  0.15 , 5-fold CV= [0.27272727 0.21212121 0.09090909 0.125      0.06060606]\n",
      "Accuracy=  0.94 , 5-fold CV= [0.94680851 0.94468085 0.93617021 0.94029851 0.93390192]\n",
      "====================================================================================================\n",
      "Time:  1.17  min\n",
      "Experiment:  LinearSVC(max_iter=100000) + TfidfVectorizer()\n",
      "F1 score=  0.89 , 5-fold CV= [0.88135593 0.88135593 0.86206897 0.95081967 0.88135593]\n",
      "Precision=  1.0 , 5-fold CV= [1. 1. 1. 1. 1.]\n",
      "Recall=  0.81 , 5-fold CV= [0.78787879 0.78787879 0.75757576 0.90625    0.78787879]\n",
      "Accuracy=  0.99 , 5-fold CV= [0.98510638 0.98510638 0.98297872 0.99360341 0.98507463]\n",
      "====================================================================================================\n",
      "Time:  1.1  min\n",
      "Experiment:  LinearSVC(max_iter=100000) + TfidfVectorizer(min_df=0.2)\n",
      "F1 score=  0.9 , 5-fold CV= [0.9        0.91803279 0.88135593 0.93548387 0.88135593]\n",
      "Precision=  0.99 , 5-fold CV= [1.         1.         1.         0.96666667 1.        ]\n",
      "Recall=  0.83 , 5-fold CV= [0.81818182 0.84848485 0.78787879 0.90625    0.78787879]\n",
      "Accuracy=  0.99 , 5-fold CV= [0.98723404 0.9893617  0.98510638 0.99147122 0.98507463]\n",
      "====================================================================================================\n",
      "Time:  1.16  min\n",
      "Experiment:  LinearSVC(max_iter=100000) + TfidfVectorizer(max_df=0.8)\n",
      "F1 score=  0.89 , 5-fold CV= [0.88135593 0.88135593 0.86206897 0.96774194 0.88135593]\n",
      "Precision=  1.0 , 5-fold CV= [1. 1. 1. 1. 1.]\n",
      "Recall=  0.81 , 5-fold CV= [0.78787879 0.78787879 0.75757576 0.9375     0.78787879]\n",
      "Accuracy=  0.99 , 5-fold CV= [0.98510638 0.98510638 0.98297872 0.99573561 0.98507463]\n",
      "====================================================================================================\n",
      "Time:  4.14  min\n",
      "Experiment:  LinearSVC(max_iter=100000) + TfidfVectorizer(ngram_range=(2, 2))\n",
      "F1 score=  0.67 , 5-fold CV= [0.73076923 0.71698113 0.625      0.63829787 0.625     ]\n",
      "Precision=  0.99 , 5-fold CV= [1.   0.95 1.   1.   1.  ]\n",
      "Recall=  0.51 , 5-fold CV= [0.57575758 0.57575758 0.45454545 0.46875    0.45454545]\n",
      "Accuracy=  0.97 , 5-fold CV= [0.97021277 0.96808511 0.96170213 0.96375267 0.96162047]\n",
      "====================================================================================================\n"
     ]
    },
    {
     "name": "stderr",
     "output_type": "stream",
     "text": [
      "d:\\_School\\Master AI (2020-2022)\\Anul 2\\Semestrul 2\\Bio-medical NLP\\Project - Early Risk Detection of Pathological Gambling\\Github\\CLEF_eRisk\\bioNLP_venv\\lib\\site-packages\\sklearn\\metrics\\_classification.py:1318: UndefinedMetricWarning: Precision is ill-defined and being set to 0.0 due to no predicted samples. Use `zero_division` parameter to control this behavior.\n",
      "  _warn_prf(average, modifier, msg_start, len(result))\n"
     ]
    },
    {
     "name": "stdout",
     "output_type": "stream",
     "text": [
      "Time:  6.18  min\n",
      "Experiment:  LinearSVC(max_iter=100000) + TfidfVectorizer(ngram_range=(3, 3))\n",
      "F1 score=  0.13 , 5-fold CV= [0.26315789 0.16666667 0.05882353 0.17142857 0.        ]\n",
      "Precision=  0.8 , 5-fold CV= [1. 1. 1. 1. 0.]\n",
      "Recall=  0.07 , 5-fold CV= [0.15151515 0.09090909 0.03030303 0.09375    0.        ]\n",
      "Accuracy=  0.94 , 5-fold CV= [0.94042553 0.93617021 0.93191489 0.93816631 0.92963753]\n",
      "====================================================================================================\n",
      "Time:  2.76  min\n",
      "Experiment:  LogisticRegression(max_iter=100000) + CountVectorizer()\n",
      "F1 score=  0.86 , 5-fold CV= [0.84057971 0.90625    0.84848485 0.87878788 0.8358209 ]\n",
      "Precision=  0.85 , 5-fold CV= [0.80555556 0.93548387 0.84848485 0.85294118 0.82352941]\n",
      "Recall=  0.87 , 5-fold CV= [0.87878788 0.87878788 0.84848485 0.90625    0.84848485]\n",
      "Accuracy=  0.98 , 5-fold CV= [0.97659574 0.98723404 0.9787234  0.98294243 0.97654584]\n",
      "====================================================================================================\n",
      "Time:  1.31  min\n",
      "Experiment:  LogisticRegression(max_iter=100000) + CountVectorizer(min_df=0.2)\n",
      "F1 score=  0.84 , 5-fold CV= [0.84057971 0.84057971 0.86153846 0.84375    0.83076923]\n",
      "Precision=  0.83 , 5-fold CV= [0.80555556 0.80555556 0.875      0.84375    0.84375   ]\n",
      "Recall=  0.85 , 5-fold CV= [0.87878788 0.87878788 0.84848485 0.84375    0.81818182]\n",
      "Accuracy=  0.98 , 5-fold CV= [0.97659574 0.97659574 0.98085106 0.97867804 0.97654584]\n",
      "====================================================================================================\n",
      "Time:  2.57  min\n",
      "Experiment:  LogisticRegression(max_iter=100000) + CountVectorizer(max_df=0.8)\n",
      "F1 score=  0.87 , 5-fold CV= [0.86111111 0.88888889 0.84375    0.90625    0.8358209 ]\n",
      "Precision=  0.87 , 5-fold CV= [0.79487179 0.93333333 0.87096774 0.90625    0.82352941]\n",
      "Recall=  0.87 , 5-fold CV= [0.93939394 0.84848485 0.81818182 0.90625    0.84848485]\n",
      "Accuracy=  0.98 , 5-fold CV= [0.9787234  0.98510638 0.9787234  0.98720682 0.97654584]\n",
      "====================================================================================================\n",
      "Time:  44.11  min\n",
      "Experiment:  LogisticRegression(max_iter=100000) + CountVectorizer(ngram_range=(2, 2))\n",
      "F1 score=  0.72 , 5-fold CV= [0.68965517 0.77966102 0.75       0.65306122 0.72727273]\n",
      "Precision=  0.89 , 5-fold CV= [0.8        0.88461538 0.91304348 0.94117647 0.90909091]\n",
      "Recall=  0.61 , 5-fold CV= [0.60606061 0.6969697  0.63636364 0.5        0.60606061]\n",
      "Accuracy=  0.97 , 5-fold CV= [0.96170213 0.97234043 0.97021277 0.96375267 0.96801706]\n",
      "====================================================================================================\n",
      "Time:  12.24  min\n",
      "Experiment:  LogisticRegression(max_iter=100000) + CountVectorizer(ngram_range=(3, 3))\n",
      "F1 score=  0.19 , 5-fold CV= [0.3902439  0.21621622 0.05882353 0.22222222 0.05882353]\n",
      "Precision=  1.0 , 5-fold CV= [1. 1. 1. 1. 1.]\n",
      "Recall=  0.11 , 5-fold CV= [0.24242424 0.12121212 0.03030303 0.125      0.03030303]\n",
      "Accuracy=  0.94 , 5-fold CV= [0.94680851 0.93829787 0.93191489 0.94029851 0.93176972]\n",
      "====================================================================================================\n",
      "Time:  1.33  min\n",
      "Experiment:  LogisticRegression(max_iter=100000) + TfidfVectorizer()\n",
      "F1 score=  0.8 , 5-fold CV= [0.77777778 0.73076923 0.77777778 0.87719298 0.82142857]\n",
      "Precision=  1.0 , 5-fold CV= [1. 1. 1. 1. 1.]\n",
      "Recall=  0.67 , 5-fold CV= [0.63636364 0.57575758 0.63636364 0.78125    0.6969697 ]\n",
      "Accuracy=  0.98 , 5-fold CV= [0.97446809 0.97021277 0.97446809 0.98507463 0.97867804]\n",
      "====================================================================================================\n",
      "Time:  1.14  min\n",
      "Experiment:  LogisticRegression(max_iter=100000) + TfidfVectorizer(min_df=0.2)\n",
      "F1 score=  0.77 , 5-fold CV= [0.84210526 0.73076923 0.75471698 0.74509804 0.8       ]\n",
      "Precision=  1.0 , 5-fold CV= [1. 1. 1. 1. 1.]\n",
      "Recall=  0.63 , 5-fold CV= [0.72727273 0.57575758 0.60606061 0.59375    0.66666667]\n",
      "Accuracy=  0.97 , 5-fold CV= [0.98085106 0.97021277 0.97234043 0.97228145 0.97654584]\n",
      "====================================================================================================\n",
      "Time:  1.3  min\n",
      "Experiment:  LogisticRegression(max_iter=100000) + TfidfVectorizer(max_df=0.8)\n",
      "F1 score=  0.8 , 5-fold CV= [0.77777778 0.73076923 0.77777778 0.87719298 0.82142857]\n",
      "Precision=  1.0 , 5-fold CV= [1. 1. 1. 1. 1.]\n",
      "Recall=  0.67 , 5-fold CV= [0.63636364 0.57575758 0.63636364 0.78125    0.6969697 ]\n",
      "Accuracy=  0.98 , 5-fold CV= [0.97446809 0.97021277 0.97446809 0.98507463 0.97867804]\n",
      "====================================================================================================\n"
     ]
    },
    {
     "name": "stderr",
     "output_type": "stream",
     "text": [
      "d:\\_School\\Master AI (2020-2022)\\Anul 2\\Semestrul 2\\Bio-medical NLP\\Project - Early Risk Detection of Pathological Gambling\\Github\\CLEF_eRisk\\bioNLP_venv\\lib\\site-packages\\sklearn\\metrics\\_classification.py:1318: UndefinedMetricWarning: Precision is ill-defined and being set to 0.0 due to no predicted samples. Use `zero_division` parameter to control this behavior.\n",
      "  _warn_prf(average, modifier, msg_start, len(result))\n"
     ]
    },
    {
     "name": "stdout",
     "output_type": "stream",
     "text": [
      "Time:  6.0  min\n",
      "Experiment:  LogisticRegression(max_iter=100000) + TfidfVectorizer(ngram_range=(2, 2))\n",
      "F1 score=  0.1 , 5-fold CV= [0.21621622 0.16666667 0.05882353 0.06060606 0.        ]\n",
      "Precision=  0.8 , 5-fold CV= [1. 1. 1. 1. 0.]\n",
      "Recall=  0.05 , 5-fold CV= [0.12121212 0.09090909 0.03030303 0.03125    0.        ]\n",
      "Accuracy=  0.93 , 5-fold CV= [0.93829787 0.93617021 0.93191489 0.93390192 0.92963753]\n",
      "====================================================================================================\n"
     ]
    },
    {
     "name": "stderr",
     "output_type": "stream",
     "text": [
      "d:\\_School\\Master AI (2020-2022)\\Anul 2\\Semestrul 2\\Bio-medical NLP\\Project - Early Risk Detection of Pathological Gambling\\Github\\CLEF_eRisk\\bioNLP_venv\\lib\\site-packages\\sklearn\\metrics\\_classification.py:1318: UndefinedMetricWarning: Precision is ill-defined and being set to 0.0 due to no predicted samples. Use `zero_division` parameter to control this behavior.\n",
      "  _warn_prf(average, modifier, msg_start, len(result))\n",
      "d:\\_School\\Master AI (2020-2022)\\Anul 2\\Semestrul 2\\Bio-medical NLP\\Project - Early Risk Detection of Pathological Gambling\\Github\\CLEF_eRisk\\bioNLP_venv\\lib\\site-packages\\sklearn\\metrics\\_classification.py:1318: UndefinedMetricWarning: Precision is ill-defined and being set to 0.0 due to no predicted samples. Use `zero_division` parameter to control this behavior.\n",
      "  _warn_prf(average, modifier, msg_start, len(result))\n",
      "d:\\_School\\Master AI (2020-2022)\\Anul 2\\Semestrul 2\\Bio-medical NLP\\Project - Early Risk Detection of Pathological Gambling\\Github\\CLEF_eRisk\\bioNLP_venv\\lib\\site-packages\\sklearn\\metrics\\_classification.py:1318: UndefinedMetricWarning: Precision is ill-defined and being set to 0.0 due to no predicted samples. Use `zero_division` parameter to control this behavior.\n",
      "  _warn_prf(average, modifier, msg_start, len(result))\n",
      "d:\\_School\\Master AI (2020-2022)\\Anul 2\\Semestrul 2\\Bio-medical NLP\\Project - Early Risk Detection of Pathological Gambling\\Github\\CLEF_eRisk\\bioNLP_venv\\lib\\site-packages\\sklearn\\metrics\\_classification.py:1318: UndefinedMetricWarning: Precision is ill-defined and being set to 0.0 due to no predicted samples. Use `zero_division` parameter to control this behavior.\n",
      "  _warn_prf(average, modifier, msg_start, len(result))\n",
      "d:\\_School\\Master AI (2020-2022)\\Anul 2\\Semestrul 2\\Bio-medical NLP\\Project - Early Risk Detection of Pathological Gambling\\Github\\CLEF_eRisk\\bioNLP_venv\\lib\\site-packages\\sklearn\\metrics\\_classification.py:1318: UndefinedMetricWarning: Precision is ill-defined and being set to 0.0 due to no predicted samples. Use `zero_division` parameter to control this behavior.\n",
      "  _warn_prf(average, modifier, msg_start, len(result))\n"
     ]
    },
    {
     "name": "stdout",
     "output_type": "stream",
     "text": [
      "Time:  8.73  min\n",
      "Experiment:  LogisticRegression(max_iter=100000) + TfidfVectorizer(ngram_range=(3, 3))\n",
      "F1 score=  0.0 , 5-fold CV= [0. 0. 0. 0. 0.]\n",
      "Precision=  0.0 , 5-fold CV= [0. 0. 0. 0. 0.]\n",
      "Recall=  0.0 , 5-fold CV= [0. 0. 0. 0. 0.]\n",
      "Accuracy=  0.93 , 5-fold CV= [0.92978723 0.92978723 0.92978723 0.93176972 0.92963753]\n",
      "====================================================================================================\n",
      "Time:  1.38  min\n",
      "Experiment:  RandomForestClassifier() + CountVectorizer()\n",
      "F1 score=  0.45 , 5-fold CV= [0.3902439  0.46511628 0.42857143 0.54545455 0.42857143]\n",
      "Precision=  1.0 , 5-fold CV= [1. 1. 1. 1. 1.]\n",
      "Recall=  0.29 , 5-fold CV= [0.24242424 0.3030303  0.27272727 0.375      0.27272727]\n",
      "Accuracy=  0.95 , 5-fold CV= [0.94680851 0.95106383 0.94893617 0.95735608 0.94882729]\n",
      "====================================================================================================\n",
      "Time:  1.27  min\n",
      "Experiment:  RandomForestClassifier() + CountVectorizer(min_df=0.2)\n",
      "F1 score=  0.63 , 5-fold CV= [0.59574468 0.59574468 0.68       0.63829787 0.65306122]\n",
      "Precision=  1.0 , 5-fold CV= [1. 1. 1. 1. 1.]\n",
      "Recall=  0.46 , 5-fold CV= [0.42424242 0.42424242 0.51515152 0.46875    0.48484848]\n",
      "Accuracy=  0.96 , 5-fold CV= [0.95957447 0.95957447 0.96595745 0.96375267 0.96375267]\n",
      "====================================================================================================\n",
      "Time:  1.37  min\n",
      "Experiment:  RandomForestClassifier() + CountVectorizer(max_df=0.8)\n",
      "F1 score=  0.44 , 5-fold CV= [0.3902439  0.53333333 0.46511628 0.51162791 0.30769231]\n",
      "Precision=  1.0 , 5-fold CV= [1. 1. 1. 1. 1.]\n",
      "Recall=  0.29 , 5-fold CV= [0.24242424 0.36363636 0.3030303  0.34375    0.18181818]\n",
      "Accuracy=  0.95 , 5-fold CV= [0.94680851 0.95531915 0.95106383 0.95522388 0.9424307 ]\n",
      "====================================================================================================\n",
      "Time:  4.61  min\n",
      "Experiment:  RandomForestClassifier() + CountVectorizer(ngram_range=(2, 2))\n",
      "F1 score=  0.58 , 5-fold CV= [0.59574468 0.74074074 0.56521739 0.47619048 0.5       ]\n",
      "Precision=  0.99 , 5-fold CV= [1.         0.95238095 1.         1.         1.        ]\n",
      "Recall=  0.41 , 5-fold CV= [0.42424242 0.60606061 0.39393939 0.3125     0.33333333]\n",
      "Accuracy=  0.96 , 5-fold CV= [0.95957447 0.97021277 0.95744681 0.95309168 0.95309168]\n",
      "====================================================================================================\n"
     ]
    },
    {
     "name": "stderr",
     "output_type": "stream",
     "text": [
      "d:\\_School\\Master AI (2020-2022)\\Anul 2\\Semestrul 2\\Bio-medical NLP\\Project - Early Risk Detection of Pathological Gambling\\Github\\CLEF_eRisk\\bioNLP_venv\\lib\\site-packages\\sklearn\\metrics\\_classification.py:1318: UndefinedMetricWarning: Precision is ill-defined and being set to 0.0 due to no predicted samples. Use `zero_division` parameter to control this behavior.\n",
      "  _warn_prf(average, modifier, msg_start, len(result))\n",
      "d:\\_School\\Master AI (2020-2022)\\Anul 2\\Semestrul 2\\Bio-medical NLP\\Project - Early Risk Detection of Pathological Gambling\\Github\\CLEF_eRisk\\bioNLP_venv\\lib\\site-packages\\sklearn\\metrics\\_classification.py:1318: UndefinedMetricWarning: Precision is ill-defined and being set to 0.0 due to no predicted samples. Use `zero_division` parameter to control this behavior.\n",
      "  _warn_prf(average, modifier, msg_start, len(result))\n"
     ]
    },
    {
     "name": "stdout",
     "output_type": "stream",
     "text": [
      "Time:  6.86  min\n",
      "Experiment:  RandomForestClassifier() + CountVectorizer(ngram_range=(3, 3))\n",
      "F1 score=  0.05 , 5-fold CV= [0.11428571 0.05882353 0.         0.06060606 0.        ]\n",
      "Precision=  0.6 , 5-fold CV= [1. 1. 0. 1. 0.]\n",
      "Recall=  0.02 , 5-fold CV= [0.06060606 0.03030303 0.         0.03125    0.        ]\n",
      "Accuracy=  0.93 , 5-fold CV= [0.93404255 0.93191489 0.92978723 0.93390192 0.92963753]\n",
      "====================================================================================================\n",
      "Time:  1.36  min\n",
      "Experiment:  RandomForestClassifier() + TfidfVectorizer()\n",
      "F1 score=  0.57 , 5-fold CV= [0.5        0.56521739 0.56521739 0.57777778 0.625     ]\n",
      "Precision=  1.0 , 5-fold CV= [1. 1. 1. 1. 1.]\n",
      "Recall=  0.4 , 5-fold CV= [0.33333333 0.39393939 0.39393939 0.40625    0.45454545]\n",
      "Accuracy=  0.96 , 5-fold CV= [0.95319149 0.95744681 0.95744681 0.95948827 0.96162047]\n",
      "====================================================================================================\n",
      "Time:  1.32  min\n",
      "Experiment:  RandomForestClassifier() + TfidfVectorizer(min_df=0.2)\n",
      "F1 score=  0.72 , 5-fold CV= [0.75471698 0.8        0.65306122 0.63829787 0.77777778]\n",
      "Precision=  1.0 , 5-fold CV= [1. 1. 1. 1. 1.]\n",
      "Recall=  0.57 , 5-fold CV= [0.60606061 0.66666667 0.48484848 0.46875    0.63636364]\n",
      "Accuracy=  0.97 , 5-fold CV= [0.97234043 0.97659574 0.96382979 0.96375267 0.97441365]\n",
      "====================================================================================================\n",
      "Time:  1.42  min\n",
      "Experiment:  RandomForestClassifier() + TfidfVectorizer(max_df=0.8)\n",
      "F1 score=  0.5 , 5-fold CV= [0.46511628 0.53333333 0.42857143 0.51162791 0.56521739]\n",
      "Precision=  1.0 , 5-fold CV= [1. 1. 1. 1. 1.]\n",
      "Recall=  0.34 , 5-fold CV= [0.3030303  0.36363636 0.27272727 0.34375    0.39393939]\n",
      "Accuracy=  0.95 , 5-fold CV= [0.95106383 0.95531915 0.94893617 0.95522388 0.95735608]\n",
      "====================================================================================================\n",
      "Time:  5.06  min\n",
      "Experiment:  RandomForestClassifier() + TfidfVectorizer(ngram_range=(2, 2))\n",
      "F1 score=  0.59 , 5-fold CV= [0.68       0.70588235 0.5        0.54545455 0.5       ]\n",
      "Precision=  1.0 , 5-fold CV= [1. 1. 1. 1. 1.]\n",
      "Recall=  0.42 , 5-fold CV= [0.51515152 0.54545455 0.33333333 0.375      0.33333333]\n",
      "Accuracy=  0.96 , 5-fold CV= [0.96595745 0.96808511 0.95319149 0.95735608 0.95309168]\n",
      "====================================================================================================\n"
     ]
    },
    {
     "name": "stderr",
     "output_type": "stream",
     "text": [
      "d:\\_School\\Master AI (2020-2022)\\Anul 2\\Semestrul 2\\Bio-medical NLP\\Project - Early Risk Detection of Pathological Gambling\\Github\\CLEF_eRisk\\bioNLP_venv\\lib\\site-packages\\sklearn\\metrics\\_classification.py:1318: UndefinedMetricWarning: Precision is ill-defined and being set to 0.0 due to no predicted samples. Use `zero_division` parameter to control this behavior.\n",
      "  _warn_prf(average, modifier, msg_start, len(result))\n",
      "d:\\_School\\Master AI (2020-2022)\\Anul 2\\Semestrul 2\\Bio-medical NLP\\Project - Early Risk Detection of Pathological Gambling\\Github\\CLEF_eRisk\\bioNLP_venv\\lib\\site-packages\\sklearn\\metrics\\_classification.py:1318: UndefinedMetricWarning: Precision is ill-defined and being set to 0.0 due to no predicted samples. Use `zero_division` parameter to control this behavior.\n",
      "  _warn_prf(average, modifier, msg_start, len(result))\n"
     ]
    },
    {
     "name": "stdout",
     "output_type": "stream",
     "text": [
      "Time:  7.23  min\n",
      "Experiment:  RandomForestClassifier() + TfidfVectorizer(ngram_range=(3, 3))\n",
      "F1 score=  0.08 , 5-fold CV= [0.11428571 0.21621622 0.         0.06060606 0.        ]\n",
      "Precision=  0.6 , 5-fold CV= [1. 1. 0. 1. 0.]\n",
      "Recall=  0.04 , 5-fold CV= [0.06060606 0.12121212 0.         0.03125    0.        ]\n",
      "Accuracy=  0.93 , 5-fold CV= [0.93404255 0.93829787 0.92978723 0.93390192 0.92963753]\n",
      "====================================================================================================\n",
      "Time:  1.27  min\n",
      "Experiment:  KNeighborsClassifier() + CountVectorizer()\n",
      "F1 score=  0.76 , 5-fold CV= [0.75       0.73076923 0.74074074 0.79245283 0.77192982]\n",
      "Precision=  0.96 , 5-fold CV= [0.91304348 1.         0.95238095 1.         0.91666667]\n",
      "Recall=  0.63 , 5-fold CV= [0.63636364 0.57575758 0.60606061 0.65625    0.66666667]\n",
      "Accuracy=  0.97 , 5-fold CV= [0.97021277 0.97021277 0.97021277 0.97654584 0.97228145]\n",
      "====================================================================================================\n",
      "Time:  1.17  min\n",
      "Experiment:  KNeighborsClassifier() + CountVectorizer(min_df=0.2)\n",
      "F1 score=  0.74 , 5-fold CV= [0.71698113 0.67924528 0.76363636 0.74509804 0.77192982]\n",
      "Precision=  0.94 , 5-fold CV= [0.95       0.9        0.95454545 1.         0.91666667]\n",
      "Recall=  0.6 , 5-fold CV= [0.57575758 0.54545455 0.63636364 0.59375    0.66666667]\n",
      "Accuracy=  0.97 , 5-fold CV= [0.96808511 0.96382979 0.97234043 0.97228145 0.97228145]\n",
      "====================================================================================================\n",
      "Time:  1.25  min\n",
      "Experiment:  KNeighborsClassifier() + CountVectorizer(max_df=0.8)\n",
      "F1 score=  0.83 , 5-fold CV= [0.82758621 0.86206897 0.84210526 0.77777778 0.83870968]\n",
      "Precision=  0.96 , 5-fold CV= [0.96       1.         1.         0.95454545 0.89655172]\n",
      "Recall=  0.73 , 5-fold CV= [0.72727273 0.75757576 0.72727273 0.65625    0.78787879]\n",
      "Accuracy=  0.98 , 5-fold CV= [0.9787234  0.98297872 0.98085106 0.97441365 0.97867804]\n",
      "====================================================================================================\n",
      "Time:  3.67  min\n",
      "Experiment:  KNeighborsClassifier() + CountVectorizer(ngram_range=(2, 2))\n",
      "F1 score=  0.2 , 5-fold CV= [0.38095238 0.26315789 0.11111111 0.17142857 0.05882353]\n",
      "Precision=  0.91 , 5-fold CV= [0.88888889 1.         0.66666667 1.         1.        ]\n",
      "Recall=  0.12 , 5-fold CV= [0.24242424 0.15151515 0.06060606 0.09375    0.03030303]\n",
      "Accuracy=  0.94 , 5-fold CV= [0.94468085 0.94042553 0.93191489 0.93816631 0.93176972]\n",
      "====================================================================================================\n"
     ]
    },
    {
     "name": "stderr",
     "output_type": "stream",
     "text": [
      "d:\\_School\\Master AI (2020-2022)\\Anul 2\\Semestrul 2\\Bio-medical NLP\\Project - Early Risk Detection of Pathological Gambling\\Github\\CLEF_eRisk\\bioNLP_venv\\lib\\site-packages\\sklearn\\metrics\\_classification.py:1318: UndefinedMetricWarning: Precision is ill-defined and being set to 0.0 due to no predicted samples. Use `zero_division` parameter to control this behavior.\n",
      "  _warn_prf(average, modifier, msg_start, len(result))\n",
      "d:\\_School\\Master AI (2020-2022)\\Anul 2\\Semestrul 2\\Bio-medical NLP\\Project - Early Risk Detection of Pathological Gambling\\Github\\CLEF_eRisk\\bioNLP_venv\\lib\\site-packages\\sklearn\\metrics\\_classification.py:1318: UndefinedMetricWarning: Precision is ill-defined and being set to 0.0 due to no predicted samples. Use `zero_division` parameter to control this behavior.\n",
      "  _warn_prf(average, modifier, msg_start, len(result))\n",
      "d:\\_School\\Master AI (2020-2022)\\Anul 2\\Semestrul 2\\Bio-medical NLP\\Project - Early Risk Detection of Pathological Gambling\\Github\\CLEF_eRisk\\bioNLP_venv\\lib\\site-packages\\sklearn\\metrics\\_classification.py:1318: UndefinedMetricWarning: Precision is ill-defined and being set to 0.0 due to no predicted samples. Use `zero_division` parameter to control this behavior.\n",
      "  _warn_prf(average, modifier, msg_start, len(result))\n",
      "d:\\_School\\Master AI (2020-2022)\\Anul 2\\Semestrul 2\\Bio-medical NLP\\Project - Early Risk Detection of Pathological Gambling\\Github\\CLEF_eRisk\\bioNLP_venv\\lib\\site-packages\\sklearn\\metrics\\_classification.py:1318: UndefinedMetricWarning: Precision is ill-defined and being set to 0.0 due to no predicted samples. Use `zero_division` parameter to control this behavior.\n",
      "  _warn_prf(average, modifier, msg_start, len(result))\n",
      "d:\\_School\\Master AI (2020-2022)\\Anul 2\\Semestrul 2\\Bio-medical NLP\\Project - Early Risk Detection of Pathological Gambling\\Github\\CLEF_eRisk\\bioNLP_venv\\lib\\site-packages\\sklearn\\metrics\\_classification.py:1318: UndefinedMetricWarning: Precision is ill-defined and being set to 0.0 due to no predicted samples. Use `zero_division` parameter to control this behavior.\n",
      "  _warn_prf(average, modifier, msg_start, len(result))\n"
     ]
    },
    {
     "name": "stdout",
     "output_type": "stream",
     "text": [
      "Time:  5.26  min\n",
      "Experiment:  KNeighborsClassifier() + CountVectorizer(ngram_range=(3, 3))\n",
      "F1 score=  0.0 , 5-fold CV= [0. 0. 0. 0. 0.]\n",
      "Precision=  0.0 , 5-fold CV= [0. 0. 0. 0. 0.]\n",
      "Recall=  0.0 , 5-fold CV= [0. 0. 0. 0. 0.]\n",
      "Accuracy=  0.93 , 5-fold CV= [0.92978723 0.92978723 0.92978723 0.93176972 0.92963753]\n",
      "====================================================================================================\n",
      "Time:  1.23  min\n",
      "Experiment:  KNeighborsClassifier() + TfidfVectorizer()\n",
      "F1 score=  0.78 , 5-fold CV= [0.77777778 0.75       0.71698113 0.86666667 0.77192982]\n",
      "Precision=  0.94 , 5-fold CV= [1.         0.91304348 0.95       0.92857143 0.91666667]\n",
      "Recall=  0.67 , 5-fold CV= [0.63636364 0.63636364 0.57575758 0.8125     0.66666667]\n",
      "Accuracy=  0.97 , 5-fold CV= [0.97446809 0.97021277 0.96808511 0.98294243 0.97228145]\n",
      "====================================================================================================\n",
      "Time:  1.15  min\n",
      "Experiment:  KNeighborsClassifier() + TfidfVectorizer(min_df=0.2)\n",
      "F1 score=  0.82 , 5-fold CV= [0.82758621 0.77192982 0.81355932 0.86153846 0.82539683]\n",
      "Precision=  0.9 , 5-fold CV= [0.96       0.91666667 0.92307692 0.84848485 0.86666667]\n",
      "Recall=  0.76 , 5-fold CV= [0.72727273 0.66666667 0.72727273 0.875      0.78787879]\n",
      "Accuracy=  0.98 , 5-fold CV= [0.9787234  0.97234043 0.97659574 0.98081023 0.97654584]\n",
      "====================================================================================================\n",
      "Time:  1.23  min\n",
      "Experiment:  KNeighborsClassifier() + TfidfVectorizer(max_df=0.8)\n",
      "F1 score=  0.75 , 5-fold CV= [0.75471698 0.71698113 0.70588235 0.87719298 0.69230769]\n",
      "Precision=  0.98 , 5-fold CV= [1.         0.95       1.         1.         0.94736842]\n",
      "Recall=  0.61 , 5-fold CV= [0.60606061 0.57575758 0.54545455 0.78125    0.54545455]\n",
      "Accuracy=  0.97 , 5-fold CV= [0.97234043 0.96808511 0.96808511 0.98507463 0.96588486]\n",
      "====================================================================================================\n"
     ]
    },
    {
     "name": "stderr",
     "output_type": "stream",
     "text": [
      "d:\\_School\\Master AI (2020-2022)\\Anul 2\\Semestrul 2\\Bio-medical NLP\\Project - Early Risk Detection of Pathological Gambling\\Github\\CLEF_eRisk\\bioNLP_venv\\lib\\site-packages\\sklearn\\metrics\\_classification.py:1318: UndefinedMetricWarning: Precision is ill-defined and being set to 0.0 due to no predicted samples. Use `zero_division` parameter to control this behavior.\n",
      "  _warn_prf(average, modifier, msg_start, len(result))\n",
      "d:\\_School\\Master AI (2020-2022)\\Anul 2\\Semestrul 2\\Bio-medical NLP\\Project - Early Risk Detection of Pathological Gambling\\Github\\CLEF_eRisk\\bioNLP_venv\\lib\\site-packages\\sklearn\\metrics\\_classification.py:1318: UndefinedMetricWarning: Precision is ill-defined and being set to 0.0 due to no predicted samples. Use `zero_division` parameter to control this behavior.\n",
      "  _warn_prf(average, modifier, msg_start, len(result))\n",
      "d:\\_School\\Master AI (2020-2022)\\Anul 2\\Semestrul 2\\Bio-medical NLP\\Project - Early Risk Detection of Pathological Gambling\\Github\\CLEF_eRisk\\bioNLP_venv\\lib\\site-packages\\sklearn\\metrics\\_classification.py:1318: UndefinedMetricWarning: Precision is ill-defined and being set to 0.0 due to no predicted samples. Use `zero_division` parameter to control this behavior.\n",
      "  _warn_prf(average, modifier, msg_start, len(result))\n",
      "d:\\_School\\Master AI (2020-2022)\\Anul 2\\Semestrul 2\\Bio-medical NLP\\Project - Early Risk Detection of Pathological Gambling\\Github\\CLEF_eRisk\\bioNLP_venv\\lib\\site-packages\\sklearn\\metrics\\_classification.py:1318: UndefinedMetricWarning: Precision is ill-defined and being set to 0.0 due to no predicted samples. Use `zero_division` parameter to control this behavior.\n",
      "  _warn_prf(average, modifier, msg_start, len(result))\n",
      "d:\\_School\\Master AI (2020-2022)\\Anul 2\\Semestrul 2\\Bio-medical NLP\\Project - Early Risk Detection of Pathological Gambling\\Github\\CLEF_eRisk\\bioNLP_venv\\lib\\site-packages\\sklearn\\metrics\\_classification.py:1318: UndefinedMetricWarning: Precision is ill-defined and being set to 0.0 due to no predicted samples. Use `zero_division` parameter to control this behavior.\n",
      "  _warn_prf(average, modifier, msg_start, len(result))\n"
     ]
    },
    {
     "name": "stdout",
     "output_type": "stream",
     "text": [
      "Time:  4.1  min\n",
      "Experiment:  KNeighborsClassifier() + TfidfVectorizer(ngram_range=(2, 2))\n",
      "F1 score=  0.0 , 5-fold CV= [0. 0. 0. 0. 0.]\n",
      "Precision=  0.0 , 5-fold CV= [0. 0. 0. 0. 0.]\n",
      "Recall=  0.0 , 5-fold CV= [0. 0. 0. 0. 0.]\n",
      "Accuracy=  0.93 , 5-fold CV= [0.92978723 0.92978723 0.92978723 0.93176972 0.92963753]\n",
      "====================================================================================================\n"
     ]
    },
    {
     "name": "stderr",
     "output_type": "stream",
     "text": [
      "d:\\_School\\Master AI (2020-2022)\\Anul 2\\Semestrul 2\\Bio-medical NLP\\Project - Early Risk Detection of Pathological Gambling\\Github\\CLEF_eRisk\\bioNLP_venv\\lib\\site-packages\\sklearn\\metrics\\_classification.py:1318: UndefinedMetricWarning: Precision is ill-defined and being set to 0.0 due to no predicted samples. Use `zero_division` parameter to control this behavior.\n",
      "  _warn_prf(average, modifier, msg_start, len(result))\n",
      "d:\\_School\\Master AI (2020-2022)\\Anul 2\\Semestrul 2\\Bio-medical NLP\\Project - Early Risk Detection of Pathological Gambling\\Github\\CLEF_eRisk\\bioNLP_venv\\lib\\site-packages\\sklearn\\metrics\\_classification.py:1318: UndefinedMetricWarning: Precision is ill-defined and being set to 0.0 due to no predicted samples. Use `zero_division` parameter to control this behavior.\n",
      "  _warn_prf(average, modifier, msg_start, len(result))\n",
      "d:\\_School\\Master AI (2020-2022)\\Anul 2\\Semestrul 2\\Bio-medical NLP\\Project - Early Risk Detection of Pathological Gambling\\Github\\CLEF_eRisk\\bioNLP_venv\\lib\\site-packages\\sklearn\\metrics\\_classification.py:1318: UndefinedMetricWarning: Precision is ill-defined and being set to 0.0 due to no predicted samples. Use `zero_division` parameter to control this behavior.\n",
      "  _warn_prf(average, modifier, msg_start, len(result))\n",
      "d:\\_School\\Master AI (2020-2022)\\Anul 2\\Semestrul 2\\Bio-medical NLP\\Project - Early Risk Detection of Pathological Gambling\\Github\\CLEF_eRisk\\bioNLP_venv\\lib\\site-packages\\sklearn\\metrics\\_classification.py:1318: UndefinedMetricWarning: Precision is ill-defined and being set to 0.0 due to no predicted samples. Use `zero_division` parameter to control this behavior.\n",
      "  _warn_prf(average, modifier, msg_start, len(result))\n",
      "d:\\_School\\Master AI (2020-2022)\\Anul 2\\Semestrul 2\\Bio-medical NLP\\Project - Early Risk Detection of Pathological Gambling\\Github\\CLEF_eRisk\\bioNLP_venv\\lib\\site-packages\\sklearn\\metrics\\_classification.py:1318: UndefinedMetricWarning: Precision is ill-defined and being set to 0.0 due to no predicted samples. Use `zero_division` parameter to control this behavior.\n",
      "  _warn_prf(average, modifier, msg_start, len(result))\n"
     ]
    },
    {
     "name": "stdout",
     "output_type": "stream",
     "text": [
      "Time:  5.64  min\n",
      "Experiment:  KNeighborsClassifier() + TfidfVectorizer(ngram_range=(3, 3))\n",
      "F1 score=  0.0 , 5-fold CV= [0. 0. 0. 0. 0.]\n",
      "Precision=  0.0 , 5-fold CV= [0. 0. 0. 0. 0.]\n",
      "Recall=  0.0 , 5-fold CV= [0. 0. 0. 0. 0.]\n",
      "Accuracy=  0.93 , 5-fold CV= [0.92978723 0.92978723 0.92978723 0.93176972 0.92963753]\n",
      "====================================================================================================\n",
      "Time:  1.42  min\n",
      "Experiment:  DecisionTreeClassifier() + CountVectorizer()\n",
      "F1 score=  0.85 , 5-fold CV= [0.90909091 0.84375    0.83076923 0.82352941 0.82352941]\n",
      "Precision=  0.84 , 5-fold CV= [0.90909091 0.87096774 0.84375    0.77777778 0.8       ]\n",
      "Recall=  0.85 , 5-fold CV= [0.90909091 0.81818182 0.81818182 0.875      0.84848485]\n",
      "Accuracy=  0.98 , 5-fold CV= [0.98723404 0.9787234  0.97659574 0.97441365 0.97441365]\n",
      "====================================================================================================\n",
      "Time:  1.22  min\n",
      "Experiment:  DecisionTreeClassifier() + CountVectorizer(min_df=0.2)\n",
      "F1 score=  0.68 , 5-fold CV= [0.7027027  0.70588235 0.59701493 0.6984127  0.67741935]\n",
      "Precision=  0.67 , 5-fold CV= [0.63414634 0.68571429 0.58823529 0.70967742 0.72413793]\n",
      "Recall=  0.69 , 5-fold CV= [0.78787879 0.72727273 0.60606061 0.6875     0.63636364]\n",
      "Accuracy=  0.95 , 5-fold CV= [0.95319149 0.95744681 0.94255319 0.95948827 0.95735608]\n",
      "====================================================================================================\n",
      "Time:  1.39  min\n",
      "Experiment:  DecisionTreeClassifier() + CountVectorizer(max_df=0.8)\n",
      "F1 score=  0.86 , 5-fold CV= [0.90909091 0.81818182 0.85714286 0.87878788 0.8358209 ]\n",
      "Precision=  0.86 , 5-fold CV= [0.90909091 0.81818182 0.9        0.85294118 0.82352941]\n",
      "Recall=  0.86 , 5-fold CV= [0.90909091 0.81818182 0.81818182 0.90625    0.84848485]\n",
      "Accuracy=  0.98 , 5-fold CV= [0.98723404 0.97446809 0.98085106 0.98294243 0.97654584]\n",
      "====================================================================================================\n",
      "Time:  6.28  min\n",
      "Experiment:  DecisionTreeClassifier() + CountVectorizer(ngram_range=(2, 2))\n",
      "F1 score=  0.85 , 5-fold CV= [0.86567164 0.86666667 0.77966102 0.90322581 0.81690141]\n",
      "Precision=  0.88 , 5-fold CV= [0.85294118 0.96296296 0.88461538 0.93333333 0.76315789]\n",
      "Recall=  0.82 , 5-fold CV= [0.87878788 0.78787879 0.6969697  0.875      0.87878788]\n",
      "Accuracy=  0.98 , 5-fold CV= [0.98085106 0.98297872 0.97234043 0.98720682 0.97228145]\n",
      "====================================================================================================\n",
      "Time:  16.87  min\n",
      "Experiment:  DecisionTreeClassifier() + CountVectorizer(ngram_range=(3, 3))\n",
      "F1 score=  0.55 , 5-fold CV= [0.50847458 0.67857143 0.52       0.56140351 0.45833333]\n",
      "Precision=  0.71 , 5-fold CV= [0.57692308 0.82608696 0.76470588 0.64       0.73333333]\n",
      "Recall=  0.45 , 5-fold CV= [0.45454545 0.57575758 0.39393939 0.5        0.33333333]\n",
      "Accuracy=  0.95 , 5-fold CV= [0.93829787 0.96170213 0.94893617 0.9466951  0.9445629 ]\n",
      "====================================================================================================\n",
      "Time:  1.37  min\n",
      "Experiment:  DecisionTreeClassifier() + TfidfVectorizer()\n",
      "F1 score=  0.91 , 5-fold CV= [0.89552239 0.92307692 0.92307692 0.87878788 0.92537313]\n",
      "Precision=  0.9 , 5-fold CV= [0.88235294 0.9375     0.9375     0.85294118 0.91176471]\n",
      "Recall=  0.91 , 5-fold CV= [0.90909091 0.90909091 0.90909091 0.90625    0.93939394]\n",
      "Accuracy=  0.99 , 5-fold CV= [0.98510638 0.9893617  0.9893617  0.98294243 0.98933902]\n",
      "====================================================================================================\n",
      "Time:  1.27  min\n",
      "Experiment:  DecisionTreeClassifier() + TfidfVectorizer(min_df=0.2)\n",
      "F1 score=  0.74 , 5-fold CV= [0.75362319 0.74193548 0.75409836 0.76923077 0.65671642]\n",
      "Precision=  0.75 , 5-fold CV= [0.72222222 0.79310345 0.82142857 0.75757576 0.64705882]\n",
      "Recall=  0.73 , 5-fold CV= [0.78787879 0.6969697  0.6969697  0.78125    0.66666667]\n",
      "Accuracy=  0.96 , 5-fold CV= [0.96382979 0.96595745 0.96808511 0.96801706 0.95095949]\n",
      "====================================================================================================\n",
      "Time:  1.38  min\n",
      "Experiment:  DecisionTreeClassifier() + TfidfVectorizer(max_df=0.8)\n",
      "F1 score=  0.87 , 5-fold CV= [0.84507042 0.93548387 0.85714286 0.8358209  0.88571429]\n",
      "Precision=  0.87 , 5-fold CV= [0.78947368 1.         0.9        0.8        0.83783784]\n",
      "Recall=  0.88 , 5-fold CV= [0.90909091 0.87878788 0.81818182 0.875      0.93939394]\n",
      "Accuracy=  0.98 , 5-fold CV= [0.97659574 0.99148936 0.98085106 0.97654584 0.98294243]\n",
      "====================================================================================================\n",
      "Time:  6.51  min\n",
      "Experiment:  DecisionTreeClassifier() + TfidfVectorizer(ngram_range=(2, 2))\n",
      "F1 score=  0.86 , 5-fold CV= [0.83333333 0.90625    0.8125     0.95081967 0.80597015]\n",
      "Precision=  0.87 , 5-fold CV= [0.76923077 0.93548387 0.83870968 1.         0.79411765]\n",
      "Recall=  0.86 , 5-fold CV= [0.90909091 0.87878788 0.78787879 0.90625    0.81818182]\n",
      "Accuracy=  0.98 , 5-fold CV= [0.97446809 0.98723404 0.97446809 0.99360341 0.97228145]\n",
      "====================================================================================================\n",
      "Time:  15.54  min\n",
      "Experiment:  DecisionTreeClassifier() + TfidfVectorizer(ngram_range=(3, 3))\n",
      "F1 score=  0.56 , 5-fold CV= [0.53932584 0.62162162 0.51428571 0.57971014 0.55072464]\n",
      "Precision=  0.51 , 5-fold CV= [0.42857143 0.56097561 0.48648649 0.54054054 0.52777778]\n",
      "Recall=  0.63 , 5-fold CV= [0.72727273 0.6969697  0.54545455 0.625      0.57575758]\n",
      "Accuracy=  0.93 , 5-fold CV= [0.91276596 0.94042553 0.92765957 0.93816631 0.93390192]\n",
      "====================================================================================================\n"
     ]
    }
   ],
   "source": [
    "scoring = {\n",
    "'accuracy': make_scorer(accuracy_score),\n",
    "'precision': make_scorer(precision_score),\n",
    "'recall': make_scorer(recall_score),\n",
    "'f1_score': make_scorer(f1_score)\n",
    "}\n",
    "\n",
    "for classifier in classifiers:\n",
    "   for extractor in feature_extractors:\n",
    "      start_time = time.time()\n",
    "      pipeline = Pipeline([('extractor', extractor), ('classifier', classifier)])\n",
    "      scores = cross_validate(pipeline, X, y, cv=cv, scoring=scoring)\n",
    "      end_time = time.time()\n",
    "      total_time = round((end_time - start_time)/60, 2)\n",
    "      \n",
    "      f1_score = round(np.mean(scores['test_f1_score']), 2)\n",
    "      precision = round(np.mean(scores['test_precision']), 2)\n",
    "      recall = round(np.mean(scores['test_recall']), 2)\n",
    "      acc = round(np.mean(scores['test_accuracy']), 2)\n",
    "\n",
    "      print(\"Time: \", total_time, \" min\")\n",
    "      print(\"Experiment: \", str(classifier), \"+\", str(extractor))\n",
    "      print(\"F1 score= \", f1_score, \", 5-fold CV=\", scores['test_f1_score'])\n",
    "      print(\"Precision= \", precision, \", 5-fold CV=\", scores['test_precision'])\n",
    "      print(\"Recall= \", recall, \", 5-fold CV=\", scores['test_recall'])\n",
    "      print(\"Accuracy= \", acc, \", 5-fold CV=\", scores['test_accuracy'])\n",
    "      print(\"=\"*100)"
   ]
  },
  {
   "cell_type": "markdown",
   "metadata": {},
   "source": [
    "### Todo: create a dataset with individual posts labeled separately"
   ]
  }
 ],
 "metadata": {
  "interpreter": {
   "hash": "c2df39527199e9c3424817245acb9a622fe910bfbc420b32efee2c316061d83c"
  },
  "kernelspec": {
   "display_name": "Python 3.9.6 ('bioNLP_venv')",
   "language": "python",
   "name": "python3"
  },
  "language_info": {
   "codemirror_mode": {
    "name": "ipython",
    "version": 3
   },
   "file_extension": ".py",
   "mimetype": "text/x-python",
   "name": "python",
   "nbconvert_exporter": "python",
   "pygments_lexer": "ipython3",
   "version": "3.9.6"
  },
  "orig_nbformat": 4
 },
 "nbformat": 4,
 "nbformat_minor": 2
}
