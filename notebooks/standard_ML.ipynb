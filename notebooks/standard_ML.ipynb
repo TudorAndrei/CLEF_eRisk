{
 "cells": [
  {
   "cell_type": "code",
   "execution_count": 190,
   "metadata": {},
   "outputs": [],
   "source": [
    "from glob import glob\n",
    "import numpy as np\n",
    "import pandas as pd"
   ]
  },
  {
   "cell_type": "markdown",
   "metadata": {},
   "source": [
    "### Create the training dataset"
   ]
  },
  {
   "cell_type": "code",
   "execution_count": 191,
   "metadata": {},
   "outputs": [],
   "source": [
    "# Extract the subjects' label.\n",
    "path_labels = '../data/risk_golden_truth.txt'\n",
    "labels = {}\n",
    "with open(path_labels, 'r') as f:\n",
    "    for line in f:\n",
    "        subject, label = line.split()\n",
    "        labels[subject] = int(label)"
   ]
  },
  {
   "cell_type": "code",
   "execution_count": 192,
   "metadata": {},
   "outputs": [],
   "source": [
    "def create_dataset():\n",
    "   # Create the train dataset from the subjects' posts and label.\n",
    "   txt_path = glob('../data/processed/*')\n",
    "   rows_data = []\n",
    "   for path in txt_path:\n",
    "      with open(path, 'r+') as f:\n",
    "         # Split the path, get the filename \n",
    "         # (which contains the subject) and remove '.txt'\n",
    "         subject = path.split('\\\\')[1][:-4] \n",
    "         txt = f.read()\n",
    "         rows_data.append((subject, txt, labels[subject]))\n",
    "\n",
    "   # Training dataset.\n",
    "   train_data = pd.DataFrame(rows_data, columns=['Subject', 'Text', 'Label'])\n",
    "   return train_data"
   ]
  },
  {
   "cell_type": "code",
   "execution_count": 193,
   "metadata": {},
   "outputs": [],
   "source": [
    "train_data = create_dataset()"
   ]
  },
  {
   "cell_type": "code",
   "execution_count": 194,
   "metadata": {},
   "outputs": [
    {
     "data": {
      "text/html": [
       "<div>\n",
       "<style scoped>\n",
       "    .dataframe tbody tr th:only-of-type {\n",
       "        vertical-align: middle;\n",
       "    }\n",
       "\n",
       "    .dataframe tbody tr th {\n",
       "        vertical-align: top;\n",
       "    }\n",
       "\n",
       "    .dataframe thead th {\n",
       "        text-align: right;\n",
       "    }\n",
       "</style>\n",
       "<table border=\"1\" class=\"dataframe\">\n",
       "  <thead>\n",
       "    <tr style=\"text-align: right;\">\n",
       "      <th></th>\n",
       "      <th>Subject</th>\n",
       "      <th>Text</th>\n",
       "      <th>Label</th>\n",
       "    </tr>\n",
       "  </thead>\n",
       "  <tbody>\n",
       "    <tr>\n",
       "      <th>0</th>\n",
       "      <td>subject1</td>\n",
       "      <td>Vulcan's ultimate landing at max range is so s...</td>\n",
       "      <td>0</td>\n",
       "    </tr>\n",
       "    <tr>\n",
       "      <th>1</th>\n",
       "      <td>subject100</td>\n",
       "      <td>I almost only play Marathon/Huge. I enjoy slow...</td>\n",
       "      <td>0</td>\n",
       "    </tr>\n",
       "    <tr>\n",
       "      <th>2</th>\n",
       "      <td>subject1006</td>\n",
       "      <td>http://imgur.com/igov5qk http://imgur.com/vHu8...</td>\n",
       "      <td>0</td>\n",
       "    </tr>\n",
       "    <tr>\n",
       "      <th>3</th>\n",
       "      <td>subject1008</td>\n",
       "      <td>What are the list of softwares you use for day...</td>\n",
       "      <td>0</td>\n",
       "    </tr>\n",
       "    <tr>\n",
       "      <th>4</th>\n",
       "      <td>subject1011</td>\n",
       "      <td>Subscribe and like will help me #128522;\\nLoL\\...</td>\n",
       "      <td>0</td>\n",
       "    </tr>\n",
       "    <tr>\n",
       "      <th>...</th>\n",
       "      <td>...</td>\n",
       "      <td>...</td>\n",
       "      <td>...</td>\n",
       "    </tr>\n",
       "    <tr>\n",
       "      <th>2343</th>\n",
       "      <td>subject9980</td>\n",
       "      <td>\\n \\n \\n \\n \\n \\n \\n \\n \\n \\n \\n \\n \\n \\n \\n ...</td>\n",
       "      <td>0</td>\n",
       "    </tr>\n",
       "    <tr>\n",
       "      <th>2344</th>\n",
       "      <td>subject9981</td>\n",
       "      <td>\\n \\n \\n \\n \\n \\n \\n \\n \\n \\n \\n \\n \\n \\n \\n ...</td>\n",
       "      <td>0</td>\n",
       "    </tr>\n",
       "    <tr>\n",
       "      <th>2345</th>\n",
       "      <td>subject9986</td>\n",
       "      <td>Checkout r/GoGoJoJo against the qualified immu...</td>\n",
       "      <td>0</td>\n",
       "    </tr>\n",
       "    <tr>\n",
       "      <th>2346</th>\n",
       "      <td>subject9990</td>\n",
       "      <td>Only took about 10 tries to post correctly lol...</td>\n",
       "      <td>0</td>\n",
       "    </tr>\n",
       "    <tr>\n",
       "      <th>2347</th>\n",
       "      <td>subject9996</td>\n",
       "      <td>I see you need 1 more kitsune, so what you wan...</td>\n",
       "      <td>0</td>\n",
       "    </tr>\n",
       "  </tbody>\n",
       "</table>\n",
       "<p>2348 rows × 3 columns</p>\n",
       "</div>"
      ],
      "text/plain": [
       "          Subject                                               Text  Label\n",
       "0        subject1  Vulcan's ultimate landing at max range is so s...      0\n",
       "1      subject100  I almost only play Marathon/Huge. I enjoy slow...      0\n",
       "2     subject1006  http://imgur.com/igov5qk http://imgur.com/vHu8...      0\n",
       "3     subject1008  What are the list of softwares you use for day...      0\n",
       "4     subject1011  Subscribe and like will help me #128522;\\nLoL\\...      0\n",
       "...           ...                                                ...    ...\n",
       "2343  subject9980   \\n \\n \\n \\n \\n \\n \\n \\n \\n \\n \\n \\n \\n \\n \\n ...      0\n",
       "2344  subject9981   \\n \\n \\n \\n \\n \\n \\n \\n \\n \\n \\n \\n \\n \\n \\n ...      0\n",
       "2345  subject9986  Checkout r/GoGoJoJo against the qualified immu...      0\n",
       "2346  subject9990  Only took about 10 tries to post correctly lol...      0\n",
       "2347  subject9996  I see you need 1 more kitsune, so what you wan...      0\n",
       "\n",
       "[2348 rows x 3 columns]"
      ]
     },
     "execution_count": 194,
     "metadata": {},
     "output_type": "execute_result"
    }
   ],
   "source": [
    "train_data"
   ]
  },
  {
   "cell_type": "markdown",
   "metadata": {},
   "source": [
    "### Preprocess the subjects' posts\n",
    "Text normalization techniques:\n",
    "- lowercasing \n",
    "- whitespace removal\n",
    "- URL removal\n",
    "- tokenization\n",
    "- stopwords removal\n",
    "- punctuation removal\n",
    "- stemming"
   ]
  },
  {
   "cell_type": "code",
   "execution_count": 195,
   "metadata": {},
   "outputs": [],
   "source": [
    "import re\n",
    "from nltk import word_tokenize\n",
    "from nltk.corpus import stopwords\n",
    "from nltk.stem import PorterStemmer\n",
    "from nltk.tokenize import RegexpTokenizer"
   ]
  },
  {
   "cell_type": "code",
   "execution_count": 196,
   "metadata": {},
   "outputs": [],
   "source": [
    "# Normalize all words to lowercase.\n",
    "train_data[\"Text\"] = train_data[\"Text\"].str.lower()"
   ]
  },
  {
   "cell_type": "code",
   "execution_count": 197,
   "metadata": {},
   "outputs": [],
   "source": [
    "def remove_whitespace(text):\n",
    "   \"\"\" Removes all whitespaces from a given text.\"\"\"\n",
    "   return \" \".join(text.split())"
   ]
  },
  {
   "cell_type": "code",
   "execution_count": 198,
   "metadata": {},
   "outputs": [],
   "source": [
    "# Remove all whitespaces from texts.\n",
    "train_data[\"Text\"] = train_data[\"Text\"].apply(remove_whitespace)"
   ]
  },
  {
   "cell_type": "code",
   "execution_count": 199,
   "metadata": {},
   "outputs": [],
   "source": [
    "def remove_URLs(text):\n",
    "   \"Remove URLs from text using regular expressions.\"\n",
    "   url_re = re.compile(r'https?://\\S+|www\\.\\S+')\n",
    "   return url_re.sub(r'', text)"
   ]
  },
  {
   "cell_type": "code",
   "execution_count": 200,
   "metadata": {},
   "outputs": [
    {
     "data": {
      "text/plain": [
       "'http://imgur.com/igov5qk http://imgur.com/vhu8cjn this was just a lucky run all around. i got some good crew early and then got good system levels like shields and engines. this let me focus on a weap'"
      ]
     },
     "execution_count": 200,
     "metadata": {},
     "output_type": "execute_result"
    }
   ],
   "source": [
    "train_data[\"Text\"][2][:200]"
   ]
  },
  {
   "cell_type": "code",
   "execution_count": 201,
   "metadata": {},
   "outputs": [
    {
     "data": {
      "text/html": [
       "<div>\n",
       "<style scoped>\n",
       "    .dataframe tbody tr th:only-of-type {\n",
       "        vertical-align: middle;\n",
       "    }\n",
       "\n",
       "    .dataframe tbody tr th {\n",
       "        vertical-align: top;\n",
       "    }\n",
       "\n",
       "    .dataframe thead th {\n",
       "        text-align: right;\n",
       "    }\n",
       "</style>\n",
       "<table border=\"1\" class=\"dataframe\">\n",
       "  <thead>\n",
       "    <tr style=\"text-align: right;\">\n",
       "      <th></th>\n",
       "      <th>Subject</th>\n",
       "      <th>Text</th>\n",
       "      <th>Label</th>\n",
       "    </tr>\n",
       "  </thead>\n",
       "  <tbody>\n",
       "    <tr>\n",
       "      <th>0</th>\n",
       "      <td>subject1</td>\n",
       "      <td>vulcan's ultimate landing at max range is so s...</td>\n",
       "      <td>0</td>\n",
       "    </tr>\n",
       "    <tr>\n",
       "      <th>1</th>\n",
       "      <td>subject100</td>\n",
       "      <td>i almost only play marathon/huge. i enjoy slow...</td>\n",
       "      <td>0</td>\n",
       "    </tr>\n",
       "    <tr>\n",
       "      <th>2</th>\n",
       "      <td>subject1006</td>\n",
       "      <td>this was just a lucky run all around. i got ...</td>\n",
       "      <td>0</td>\n",
       "    </tr>\n",
       "    <tr>\n",
       "      <th>3</th>\n",
       "      <td>subject1008</td>\n",
       "      <td>what are the list of softwares you use for day...</td>\n",
       "      <td>0</td>\n",
       "    </tr>\n",
       "    <tr>\n",
       "      <th>4</th>\n",
       "      <td>subject1011</td>\n",
       "      <td>subscribe and like will help me #128522; lol i...</td>\n",
       "      <td>0</td>\n",
       "    </tr>\n",
       "    <tr>\n",
       "      <th>...</th>\n",
       "      <td>...</td>\n",
       "      <td>...</td>\n",
       "      <td>...</td>\n",
       "    </tr>\n",
       "    <tr>\n",
       "      <th>2343</th>\n",
       "      <td>subject9980</td>\n",
       "      <td>i've been too lazy to go play recently, warm w...</td>\n",
       "      <td>0</td>\n",
       "    </tr>\n",
       "    <tr>\n",
       "      <th>2344</th>\n",
       "      <td>subject9981</td>\n",
       "      <td>[removed] [view poll]( read rule 3. read my fl...</td>\n",
       "      <td>0</td>\n",
       "    </tr>\n",
       "    <tr>\n",
       "      <th>2345</th>\n",
       "      <td>subject9986</td>\n",
       "      <td>checkout r/gogojojo against the qualified immu...</td>\n",
       "      <td>0</td>\n",
       "    </tr>\n",
       "    <tr>\n",
       "      <th>2346</th>\n",
       "      <td>subject9990</td>\n",
       "      <td>only took about 10 tries to post correctly lol...</td>\n",
       "      <td>0</td>\n",
       "    </tr>\n",
       "    <tr>\n",
       "      <th>2347</th>\n",
       "      <td>subject9996</td>\n",
       "      <td>i see you need 1 more kitsune, so what you wan...</td>\n",
       "      <td>0</td>\n",
       "    </tr>\n",
       "  </tbody>\n",
       "</table>\n",
       "<p>2348 rows × 3 columns</p>\n",
       "</div>"
      ],
      "text/plain": [
       "          Subject                                               Text  Label\n",
       "0        subject1  vulcan's ultimate landing at max range is so s...      0\n",
       "1      subject100  i almost only play marathon/huge. i enjoy slow...      0\n",
       "2     subject1006    this was just a lucky run all around. i got ...      0\n",
       "3     subject1008  what are the list of softwares you use for day...      0\n",
       "4     subject1011  subscribe and like will help me #128522; lol i...      0\n",
       "...           ...                                                ...    ...\n",
       "2343  subject9980  i've been too lazy to go play recently, warm w...      0\n",
       "2344  subject9981  [removed] [view poll]( read rule 3. read my fl...      0\n",
       "2345  subject9986  checkout r/gogojojo against the qualified immu...      0\n",
       "2346  subject9990  only took about 10 tries to post correctly lol...      0\n",
       "2347  subject9996  i see you need 1 more kitsune, so what you wan...      0\n",
       "\n",
       "[2348 rows x 3 columns]"
      ]
     },
     "execution_count": 201,
     "metadata": {},
     "output_type": "execute_result"
    }
   ],
   "source": [
    "# Remove URLs from texts.\n",
    "train_data[\"Text\"] = train_data[\"Text\"].apply(remove_URLs)"
   ]
  },
  {
   "cell_type": "code",
   "execution_count": 202,
   "metadata": {},
   "outputs": [
    {
     "data": {
      "text/plain": [
       "'  this was just a lucky run all around. i got some good crew early and then got good system levels like shields and engines. this let me focus on a weapons system, and someone truly blessed me. triple'"
      ]
     },
     "execution_count": 202,
     "metadata": {},
     "output_type": "execute_result"
    }
   ],
   "source": [
    "train_data[\"Text\"][2][:200]"
   ]
  },
  {
   "cell_type": "code",
   "execution_count": 203,
   "metadata": {},
   "outputs": [
    {
     "data": {
      "text/html": [
       "<div>\n",
       "<style scoped>\n",
       "    .dataframe tbody tr th:only-of-type {\n",
       "        vertical-align: middle;\n",
       "    }\n",
       "\n",
       "    .dataframe tbody tr th {\n",
       "        vertical-align: top;\n",
       "    }\n",
       "\n",
       "    .dataframe thead th {\n",
       "        text-align: right;\n",
       "    }\n",
       "</style>\n",
       "<table border=\"1\" class=\"dataframe\">\n",
       "  <thead>\n",
       "    <tr style=\"text-align: right;\">\n",
       "      <th></th>\n",
       "      <th>Subject</th>\n",
       "      <th>Text</th>\n",
       "      <th>Label</th>\n",
       "    </tr>\n",
       "  </thead>\n",
       "  <tbody>\n",
       "    <tr>\n",
       "      <th>0</th>\n",
       "      <td>subject1</td>\n",
       "      <td>[vulcan, 's, ultimate, landing, at, max, range...</td>\n",
       "      <td>0</td>\n",
       "    </tr>\n",
       "    <tr>\n",
       "      <th>1</th>\n",
       "      <td>subject100</td>\n",
       "      <td>[i, almost, only, play, marathon/huge, ., i, e...</td>\n",
       "      <td>0</td>\n",
       "    </tr>\n",
       "    <tr>\n",
       "      <th>2</th>\n",
       "      <td>subject1006</td>\n",
       "      <td>[this, was, just, a, lucky, run, all, around, ...</td>\n",
       "      <td>0</td>\n",
       "    </tr>\n",
       "    <tr>\n",
       "      <th>3</th>\n",
       "      <td>subject1008</td>\n",
       "      <td>[what, are, the, list, of, softwares, you, use...</td>\n",
       "      <td>0</td>\n",
       "    </tr>\n",
       "    <tr>\n",
       "      <th>4</th>\n",
       "      <td>subject1011</td>\n",
       "      <td>[subscribe, and, like, will, help, me, #, 1285...</td>\n",
       "      <td>0</td>\n",
       "    </tr>\n",
       "    <tr>\n",
       "      <th>...</th>\n",
       "      <td>...</td>\n",
       "      <td>...</td>\n",
       "      <td>...</td>\n",
       "    </tr>\n",
       "    <tr>\n",
       "      <th>2343</th>\n",
       "      <td>subject9980</td>\n",
       "      <td>[i, 've, been, too, lazy, to, go, play, recent...</td>\n",
       "      <td>0</td>\n",
       "    </tr>\n",
       "    <tr>\n",
       "      <th>2344</th>\n",
       "      <td>subject9981</td>\n",
       "      <td>[[, removed, ], [, view, poll, ], (, read, rul...</td>\n",
       "      <td>0</td>\n",
       "    </tr>\n",
       "    <tr>\n",
       "      <th>2345</th>\n",
       "      <td>subject9986</td>\n",
       "      <td>[checkout, r/gogojojo, against, the, qualified...</td>\n",
       "      <td>0</td>\n",
       "    </tr>\n",
       "    <tr>\n",
       "      <th>2346</th>\n",
       "      <td>subject9990</td>\n",
       "      <td>[only, took, about, 10, tries, to, post, corre...</td>\n",
       "      <td>0</td>\n",
       "    </tr>\n",
       "    <tr>\n",
       "      <th>2347</th>\n",
       "      <td>subject9996</td>\n",
       "      <td>[i, see, you, need, 1, more, kitsune, ,, so, w...</td>\n",
       "      <td>0</td>\n",
       "    </tr>\n",
       "  </tbody>\n",
       "</table>\n",
       "<p>2348 rows × 3 columns</p>\n",
       "</div>"
      ],
      "text/plain": [
       "          Subject                                               Text  Label\n",
       "0        subject1  [vulcan, 's, ultimate, landing, at, max, range...      0\n",
       "1      subject100  [i, almost, only, play, marathon/huge, ., i, e...      0\n",
       "2     subject1006  [this, was, just, a, lucky, run, all, around, ...      0\n",
       "3     subject1008  [what, are, the, list, of, softwares, you, use...      0\n",
       "4     subject1011  [subscribe, and, like, will, help, me, #, 1285...      0\n",
       "...           ...                                                ...    ...\n",
       "2343  subject9980  [i, 've, been, too, lazy, to, go, play, recent...      0\n",
       "2344  subject9981  [[, removed, ], [, view, poll, ], (, read, rul...      0\n",
       "2345  subject9986  [checkout, r/gogojojo, against, the, qualified...      0\n",
       "2346  subject9990  [only, took, about, 10, tries, to, post, corre...      0\n",
       "2347  subject9996  [i, see, you, need, 1, more, kitsune, ,, so, w...      0\n",
       "\n",
       "[2348 rows x 3 columns]"
      ]
     },
     "execution_count": 203,
     "metadata": {},
     "output_type": "execute_result"
    }
   ],
   "source": [
    "# Extract tokens from texts.\n",
    "train_data[\"Text\"] = train_data[\"Text\"].apply(lambda x: word_tokenize(x))"
   ]
  },
  {
   "cell_type": "code",
   "execution_count": 204,
   "metadata": {},
   "outputs": [],
   "source": [
    "def remove_punctuation(text):\n",
    "   tokenizer = RegexpTokenizer(r'\\w+')\n",
    "   no_punct = tokenizer.tokenize(\" \".join(text))\n",
    "   return no_punct"
   ]
  },
  {
   "cell_type": "code",
   "execution_count": 205,
   "metadata": {},
   "outputs": [],
   "source": [
    "# Removes punctuation from texts.\n",
    "train_data[\"Text\"] = train_data[\"Text\"].apply(remove_punctuation)"
   ]
  },
  {
   "cell_type": "code",
   "execution_count": 206,
   "metadata": {},
   "outputs": [],
   "source": [
    "en_stopwords = stopwords.words('english')\n",
    "def remove_stopwords(text):\n",
    "   \"\"\"Removes english stopwords.\"\"\"\n",
    "   result = []\n",
    "   for token in text:\n",
    "      if token not in en_stopwords:\n",
    "         result.append(token)\n",
    "\n",
    "   return result"
   ]
  },
  {
   "cell_type": "code",
   "execution_count": 207,
   "metadata": {},
   "outputs": [],
   "source": [
    "# Removes stopwords from texts.\n",
    "train_data[\"Text\"] = train_data[\"Text\"].apply(remove_stopwords)"
   ]
  },
  {
   "cell_type": "code",
   "execution_count": 208,
   "metadata": {},
   "outputs": [],
   "source": [
    "def stemming(text):\n",
    "   porter = PorterStemmer()\n",
    "   result = []\n",
    "   for word in text:\n",
    "      result.append(porter.stem(word))\n",
    "\n",
    "   return result"
   ]
  },
  {
   "cell_type": "code",
   "execution_count": 209,
   "metadata": {},
   "outputs": [],
   "source": [
    "# Apply stemming to words from texts.\n",
    "train_data[\"Text\"] = train_data[\"Text\"].apply(stemming)"
   ]
  },
  {
   "cell_type": "code",
   "execution_count": 210,
   "metadata": {},
   "outputs": [],
   "source": [
    "# Save the dataset to a .csv file.\n",
    "train_data.to_csv('../data/train_dataset.csv')"
   ]
  },
  {
   "cell_type": "markdown",
   "metadata": {},
   "source": [
    "### Standard ML approaches"
   ]
  },
  {
   "cell_type": "code",
   "execution_count": 211,
   "metadata": {},
   "outputs": [],
   "source": [
    "import time\n",
    "import pandas as pd\n",
    "import numpy as np\n",
    "from sklearn.svm import LinearSVC\n",
    "from sklearn.pipeline import Pipeline\n",
    "from sklearn.model_selection import StratifiedKFold\n",
    "from sklearn.model_selection import cross_validate\n",
    "from sklearn.feature_extraction.text import CountVectorizer\n",
    "from sklearn.feature_extraction.text import TfidfVectorizer\n",
    "from sklearn.linear_model import LogisticRegression\n",
    "from sklearn.ensemble import RandomForestClassifier \n",
    "from sklearn.neighbors import KNeighborsClassifier\n",
    "from sklearn.tree import DecisionTreeClassifier\n",
    "from sklearn.metrics import make_scorer, accuracy_score, precision_score, recall_score, f1_score"
   ]
  },
  {
   "cell_type": "code",
   "execution_count": 212,
   "metadata": {},
   "outputs": [],
   "source": [
    "# Load the training dataset.\n",
    "train_data = pd.read_csv('../data/train_dataset.csv')"
   ]
  },
  {
   "cell_type": "code",
   "execution_count": 213,
   "metadata": {},
   "outputs": [
    {
     "data": {
      "text/plain": [
       "0    2184\n",
       "1     164\n",
       "Name: Label, dtype: int64"
      ]
     },
     "execution_count": 213,
     "metadata": {},
     "output_type": "execute_result"
    }
   ],
   "source": [
    "# Visualize the distribution of class labels.\n",
    "train_data[\"Label\"].value_counts()"
   ]
  },
  {
   "cell_type": "code",
   "execution_count": 214,
   "metadata": {},
   "outputs": [
    {
     "data": {
      "text/plain": [
       "<AxesSubplot:>"
      ]
     },
     "execution_count": 214,
     "metadata": {},
     "output_type": "execute_result"
    },
    {
     "data": {
      "image/png": "[encoded data removed]",
      "text/plain": [
       "<Figure size 432x288 with 1 Axes>"
      ]
     },
     "metadata": {
      "needs_background": "light"
     },
     "output_type": "display_data"
    }
   ],
   "source": [
    "# Visualize the distribution of class labels.\n",
    "train_data[\"Label\"].value_counts().plot.bar()"
   ]
  },
  {
   "cell_type": "markdown",
   "metadata": {},
   "source": [
    "### ML experiments\n",
    "Feature extractors:\n",
    "- Bag-of-Words\n",
    "- TF-IDF\n",
    "\n",
    "Classifiers:\n",
    "- LinearSVC\n",
    "- Logistic Regression\n",
    "- Random Forest\n",
    "- K-neighbors\n",
    "- Decision Tree"
   ]
  },
  {
   "cell_type": "code",
   "execution_count": 215,
   "metadata": {},
   "outputs": [],
   "source": [
    "X = train_data[\"Text\"]\n",
    "y = train_data[\"Label\"]\n",
    "\n",
    "# Feature extractors.\n",
    "feature_extractors = [\n",
    "CountVectorizer(),\n",
    "TfidfVectorizer()\n",
    "# Ignore words that appear in less than 20% of posts (rare words).\n",
    "CountVectorizer(min_df=0.2),\n",
    "# Ignore words that appear in more than 80% of posts (frequent words).\n",
    "CountVectorizer(max_df=0.8),\n",
    "CountVectorizer(ngram_range=(2, 2)),\n",
    "CountVectorizer(ngram_range=(3, 3)),\n",
    "TfidfVectorizer(min_df=0.2),\n",
    "TfidfVectorizer(max_df=0.8),\n",
    "TfidfVectorizer(ngram_range=(2, 2)),\n",
    "TfidfVectorizer(ngram_range=(3, 3))\n",
    "]\n",
    "\n",
    "# Classifiers.\n",
    "classifiers = [ \n",
    "LinearSVC(max_iter=100000), \n",
    "LogisticRegression(max_iter=100000), \n",
    "RandomForestClassifier(), \n",
    "KNeighborsClassifier(), \n",
    "DecisionTreeClassifier()\n",
    "]\n",
    "# Use a stratified 5-fold CV to try to reduce\n",
    "# the class imbalance in train/validation splits.\n",
    "cv = StratifiedKFold(n_splits=5)\n",
    "\n",
    "scoring = {\n",
    "'accuracy': make_scorer(accuracy_score),\n",
    "'precision': make_scorer(precision_score),\n",
    "'recall': make_scorer(recall_score),\n",
    "'f1_score': make_scorer(f1_score)\n",
    "}"
   ]
  },
  {
   "cell_type": "code",
   "execution_count": 216,
   "metadata": {},
   "outputs": [],
   "source": [
    "def start_ML_pipeline():\n",
    "   for classifier in classifiers:\n",
    "      for extractor in feature_extractors:\n",
    "         start_time = time.time()\n",
    "         pipeline = Pipeline([('extractor', extractor), ('classifier', classifier)])\n",
    "         scores = cross_validate(pipeline, X, y, cv=cv, scoring=scoring)\n",
    "         end_time = time.time()\n",
    "         total_time = round((end_time - start_time)/60, 2)\n",
    "         \n",
    "         f1_score = round(np.mean(scores['test_f1_score']), 2)\n",
    "         precision = round(np.mean(scores['test_precision']), 2)\n",
    "         recall = round(np.mean(scores['test_recall']), 2)\n",
    "         acc = round(np.mean(scores['test_accuracy']), 2)\n",
    "\n",
    "         print(\"Time: \", total_time, \" min\")\n",
    "         print(\"Experiment: \", str(classifier), \"+\", str(extractor))\n",
    "         print(\"F1 score= \", f1_score, \", 5-fold CV=\", scores['test_f1_score'])\n",
    "         print(\"Precision= \", precision, \", 5-fold CV=\", scores['test_precision'])\n",
    "         print(\"Recall= \", recall, \", 5-fold CV=\", scores['test_recall'])\n",
    "         print(\"Accuracy= \", acc, \", 5-fold CV=\", scores['test_accuracy'])\n",
    "         print(\"=\"*100)"
   ]
  },
  {
   "cell_type": "code",
   "execution_count": 217,
   "metadata": {},
   "outputs": [
    {
     "name": "stdout",
     "output_type": "stream",
     "text": [
      "Time:  1.26  min\n",
      "Experiment:  LinearSVC(max_iter=100000) + CountVectorizer()\n",
      "F1 score=  0.85 , 5-fold CV= [0.82191781 0.87878788 0.84848485 0.85294118 0.8358209 ]\n",
      "Precision=  0.82 , 5-fold CV= [0.75       0.87878788 0.84848485 0.80555556 0.82352941]\n",
      "Recall=  0.88 , 5-fold CV= [0.90909091 0.87878788 0.84848485 0.90625    0.84848485]\n",
      "Accuracy=  0.98 , 5-fold CV= [0.97234043 0.98297872 0.9787234  0.97867804 0.97654584]\n",
      "====================================================================================================\n",
      "Time:  1.28  min\n",
      "Experiment:  LinearSVC(max_iter=100000) + TfidfVectorizer()\n",
      "F1 score=  0.89 , 5-fold CV= [0.88135593 0.88135593 0.86206897 0.95081967 0.88135593]\n",
      "Precision=  1.0 , 5-fold CV= [1. 1. 1. 1. 1.]\n",
      "Recall=  0.81 , 5-fold CV= [0.78787879 0.78787879 0.75757576 0.90625    0.78787879]\n",
      "Accuracy=  0.99 , 5-fold CV= [0.98510638 0.98510638 0.98297872 0.99360341 0.98507463]\n",
      "====================================================================================================\n"
     ]
    },
    {
     "ename": "KeyboardInterrupt",
     "evalue": "",
     "output_type": "error",
     "traceback": [
      "\u001b[1;31m---------------------------------------------------------------------------\u001b[0m",
      "\u001b[1;31mKeyboardInterrupt\u001b[0m                         Traceback (most recent call last)",
      "\u001b[1;32md:\\_School\\Master AI (2020-2022)\\Anul 2\\Semestrul 2\\Bio-medical NLP\\Project - Early Risk Detection of Pathological Gambling\\Github\\CLEF_eRisk\\notebooks\\standard_ML.ipynb Cell 32'\u001b[0m in \u001b[0;36m<cell line: 1>\u001b[1;34m()\u001b[0m\n\u001b[1;32m----> <a href='vscode-notebook-cell:/d%3A/_School/Master%20AI%20%282020-2022%29/Anul%202/Semestrul%202/Bio-medical%20NLP/Project%20-%20Early%20Risk%20Detection%20of%20Pathological%20Gambling/Github/CLEF_eRisk/notebooks/standard_ML.ipynb#ch0000052?line=0'>1</a>\u001b[0m start_ML_pipeline()\n",
      "\u001b[1;32md:\\_School\\Master AI (2020-2022)\\Anul 2\\Semestrul 2\\Bio-medical NLP\\Project - Early Risk Detection of Pathological Gambling\\Github\\CLEF_eRisk\\notebooks\\standard_ML.ipynb Cell 31'\u001b[0m in \u001b[0;36mstart_ML_pipeline\u001b[1;34m()\u001b[0m\n\u001b[0;32m      <a href='vscode-notebook-cell:/d%3A/_School/Master%20AI%20%282020-2022%29/Anul%202/Semestrul%202/Bio-medical%20NLP/Project%20-%20Early%20Risk%20Detection%20of%20Pathological%20Gambling/Github/CLEF_eRisk/notebooks/standard_ML.ipynb#ch0000028?line=3'>4</a>\u001b[0m start_time \u001b[39m=\u001b[39m time\u001b[39m.\u001b[39mtime()\n\u001b[0;32m      <a href='vscode-notebook-cell:/d%3A/_School/Master%20AI%20%282020-2022%29/Anul%202/Semestrul%202/Bio-medical%20NLP/Project%20-%20Early%20Risk%20Detection%20of%20Pathological%20Gambling/Github/CLEF_eRisk/notebooks/standard_ML.ipynb#ch0000028?line=4'>5</a>\u001b[0m pipeline \u001b[39m=\u001b[39m Pipeline([(\u001b[39m'\u001b[39m\u001b[39mextractor\u001b[39m\u001b[39m'\u001b[39m, extractor), (\u001b[39m'\u001b[39m\u001b[39mclassifier\u001b[39m\u001b[39m'\u001b[39m, classifier)])\n\u001b[1;32m----> <a href='vscode-notebook-cell:/d%3A/_School/Master%20AI%20%282020-2022%29/Anul%202/Semestrul%202/Bio-medical%20NLP/Project%20-%20Early%20Risk%20Detection%20of%20Pathological%20Gambling/Github/CLEF_eRisk/notebooks/standard_ML.ipynb#ch0000028?line=5'>6</a>\u001b[0m scores \u001b[39m=\u001b[39m cross_validate(pipeline, X, y, cv\u001b[39m=\u001b[39;49mcv, scoring\u001b[39m=\u001b[39;49mscoring)\n\u001b[0;32m      <a href='vscode-notebook-cell:/d%3A/_School/Master%20AI%20%282020-2022%29/Anul%202/Semestrul%202/Bio-medical%20NLP/Project%20-%20Early%20Risk%20Detection%20of%20Pathological%20Gambling/Github/CLEF_eRisk/notebooks/standard_ML.ipynb#ch0000028?line=6'>7</a>\u001b[0m end_time \u001b[39m=\u001b[39m time\u001b[39m.\u001b[39mtime()\n\u001b[0;32m      <a href='vscode-notebook-cell:/d%3A/_School/Master%20AI%20%282020-2022%29/Anul%202/Semestrul%202/Bio-medical%20NLP/Project%20-%20Early%20Risk%20Detection%20of%20Pathological%20Gambling/Github/CLEF_eRisk/notebooks/standard_ML.ipynb#ch0000028?line=7'>8</a>\u001b[0m total_time \u001b[39m=\u001b[39m \u001b[39mround\u001b[39m((end_time \u001b[39m-\u001b[39m start_time)\u001b[39m/\u001b[39m\u001b[39m60\u001b[39m, \u001b[39m2\u001b[39m)\n",
      "File \u001b[1;32md:\\_School\\Master AI (2020-2022)\\Anul 2\\Semestrul 2\\Bio-medical NLP\\Project - Early Risk Detection of Pathological Gambling\\Github\\CLEF_eRisk\\bioNLP_venv\\lib\\site-packages\\sklearn\\model_selection\\_validation.py:267\u001b[0m, in \u001b[0;36mcross_validate\u001b[1;34m(estimator, X, y, groups, scoring, cv, n_jobs, verbose, fit_params, pre_dispatch, return_train_score, return_estimator, error_score)\u001b[0m\n\u001b[0;32m    <a href='file:///d%3A/_School/Master%20AI%20%282020-2022%29/Anul%202/Semestrul%202/Bio-medical%20NLP/Project%20-%20Early%20Risk%20Detection%20of%20Pathological%20Gambling/Github/CLEF_eRisk/bioNLP_venv/lib/site-packages/sklearn/model_selection/_validation.py?line=263'>264</a>\u001b[0m \u001b[39m# We clone the estimator to make sure that all the folds are\u001b[39;00m\n\u001b[0;32m    <a href='file:///d%3A/_School/Master%20AI%20%282020-2022%29/Anul%202/Semestrul%202/Bio-medical%20NLP/Project%20-%20Early%20Risk%20Detection%20of%20Pathological%20Gambling/Github/CLEF_eRisk/bioNLP_venv/lib/site-packages/sklearn/model_selection/_validation.py?line=264'>265</a>\u001b[0m \u001b[39m# independent, and that it is pickle-able.\u001b[39;00m\n\u001b[0;32m    <a href='file:///d%3A/_School/Master%20AI%20%282020-2022%29/Anul%202/Semestrul%202/Bio-medical%20NLP/Project%20-%20Early%20Risk%20Detection%20of%20Pathological%20Gambling/Github/CLEF_eRisk/bioNLP_venv/lib/site-packages/sklearn/model_selection/_validation.py?line=265'>266</a>\u001b[0m parallel \u001b[39m=\u001b[39m Parallel(n_jobs\u001b[39m=\u001b[39mn_jobs, verbose\u001b[39m=\u001b[39mverbose, pre_dispatch\u001b[39m=\u001b[39mpre_dispatch)\n\u001b[1;32m--> <a href='file:///d%3A/_School/Master%20AI%20%282020-2022%29/Anul%202/Semestrul%202/Bio-medical%20NLP/Project%20-%20Early%20Risk%20Detection%20of%20Pathological%20Gambling/Github/CLEF_eRisk/bioNLP_venv/lib/site-packages/sklearn/model_selection/_validation.py?line=266'>267</a>\u001b[0m results \u001b[39m=\u001b[39m parallel(\n\u001b[0;32m    <a href='file:///d%3A/_School/Master%20AI%20%282020-2022%29/Anul%202/Semestrul%202/Bio-medical%20NLP/Project%20-%20Early%20Risk%20Detection%20of%20Pathological%20Gambling/Github/CLEF_eRisk/bioNLP_venv/lib/site-packages/sklearn/model_selection/_validation.py?line=267'>268</a>\u001b[0m     delayed(_fit_and_score)(\n\u001b[0;32m    <a href='file:///d%3A/_School/Master%20AI%20%282020-2022%29/Anul%202/Semestrul%202/Bio-medical%20NLP/Project%20-%20Early%20Risk%20Detection%20of%20Pathological%20Gambling/Github/CLEF_eRisk/bioNLP_venv/lib/site-packages/sklearn/model_selection/_validation.py?line=268'>269</a>\u001b[0m         clone(estimator),\n\u001b[0;32m    <a href='file:///d%3A/_School/Master%20AI%20%282020-2022%29/Anul%202/Semestrul%202/Bio-medical%20NLP/Project%20-%20Early%20Risk%20Detection%20of%20Pathological%20Gambling/Github/CLEF_eRisk/bioNLP_venv/lib/site-packages/sklearn/model_selection/_validation.py?line=269'>270</a>\u001b[0m         X,\n\u001b[0;32m    <a href='file:///d%3A/_School/Master%20AI%20%282020-2022%29/Anul%202/Semestrul%202/Bio-medical%20NLP/Project%20-%20Early%20Risk%20Detection%20of%20Pathological%20Gambling/Github/CLEF_eRisk/bioNLP_venv/lib/site-packages/sklearn/model_selection/_validation.py?line=270'>271</a>\u001b[0m         y,\n\u001b[0;32m    <a href='file:///d%3A/_School/Master%20AI%20%282020-2022%29/Anul%202/Semestrul%202/Bio-medical%20NLP/Project%20-%20Early%20Risk%20Detection%20of%20Pathological%20Gambling/Github/CLEF_eRisk/bioNLP_venv/lib/site-packages/sklearn/model_selection/_validation.py?line=271'>272</a>\u001b[0m         scorers,\n\u001b[0;32m    <a href='file:///d%3A/_School/Master%20AI%20%282020-2022%29/Anul%202/Semestrul%202/Bio-medical%20NLP/Project%20-%20Early%20Risk%20Detection%20of%20Pathological%20Gambling/Github/CLEF_eRisk/bioNLP_venv/lib/site-packages/sklearn/model_selection/_validation.py?line=272'>273</a>\u001b[0m         train,\n\u001b[0;32m    <a href='file:///d%3A/_School/Master%20AI%20%282020-2022%29/Anul%202/Semestrul%202/Bio-medical%20NLP/Project%20-%20Early%20Risk%20Detection%20of%20Pathological%20Gambling/Github/CLEF_eRisk/bioNLP_venv/lib/site-packages/sklearn/model_selection/_validation.py?line=273'>274</a>\u001b[0m         test,\n\u001b[0;32m    <a href='file:///d%3A/_School/Master%20AI%20%282020-2022%29/Anul%202/Semestrul%202/Bio-medical%20NLP/Project%20-%20Early%20Risk%20Detection%20of%20Pathological%20Gambling/Github/CLEF_eRisk/bioNLP_venv/lib/site-packages/sklearn/model_selection/_validation.py?line=274'>275</a>\u001b[0m         verbose,\n\u001b[0;32m    <a href='file:///d%3A/_School/Master%20AI%20%282020-2022%29/Anul%202/Semestrul%202/Bio-medical%20NLP/Project%20-%20Early%20Risk%20Detection%20of%20Pathological%20Gambling/Github/CLEF_eRisk/bioNLP_venv/lib/site-packages/sklearn/model_selection/_validation.py?line=275'>276</a>\u001b[0m         \u001b[39mNone\u001b[39;49;00m,\n\u001b[0;32m    <a href='file:///d%3A/_School/Master%20AI%20%282020-2022%29/Anul%202/Semestrul%202/Bio-medical%20NLP/Project%20-%20Early%20Risk%20Detection%20of%20Pathological%20Gambling/Github/CLEF_eRisk/bioNLP_venv/lib/site-packages/sklearn/model_selection/_validation.py?line=276'>277</a>\u001b[0m         fit_params,\n\u001b[0;32m    <a href='file:///d%3A/_School/Master%20AI%20%282020-2022%29/Anul%202/Semestrul%202/Bio-medical%20NLP/Project%20-%20Early%20Risk%20Detection%20of%20Pathological%20Gambling/Github/CLEF_eRisk/bioNLP_venv/lib/site-packages/sklearn/model_selection/_validation.py?line=277'>278</a>\u001b[0m         return_train_score\u001b[39m=\u001b[39;49mreturn_train_score,\n\u001b[0;32m    <a href='file:///d%3A/_School/Master%20AI%20%282020-2022%29/Anul%202/Semestrul%202/Bio-medical%20NLP/Project%20-%20Early%20Risk%20Detection%20of%20Pathological%20Gambling/Github/CLEF_eRisk/bioNLP_venv/lib/site-packages/sklearn/model_selection/_validation.py?line=278'>279</a>\u001b[0m         return_times\u001b[39m=\u001b[39;49m\u001b[39mTrue\u001b[39;49;00m,\n\u001b[0;32m    <a href='file:///d%3A/_School/Master%20AI%20%282020-2022%29/Anul%202/Semestrul%202/Bio-medical%20NLP/Project%20-%20Early%20Risk%20Detection%20of%20Pathological%20Gambling/Github/CLEF_eRisk/bioNLP_venv/lib/site-packages/sklearn/model_selection/_validation.py?line=279'>280</a>\u001b[0m         return_estimator\u001b[39m=\u001b[39;49mreturn_estimator,\n\u001b[0;32m    <a href='file:///d%3A/_School/Master%20AI%20%282020-2022%29/Anul%202/Semestrul%202/Bio-medical%20NLP/Project%20-%20Early%20Risk%20Detection%20of%20Pathological%20Gambling/Github/CLEF_eRisk/bioNLP_venv/lib/site-packages/sklearn/model_selection/_validation.py?line=280'>281</a>\u001b[0m         error_score\u001b[39m=\u001b[39;49merror_score,\n\u001b[0;32m    <a href='file:///d%3A/_School/Master%20AI%20%282020-2022%29/Anul%202/Semestrul%202/Bio-medical%20NLP/Project%20-%20Early%20Risk%20Detection%20of%20Pathological%20Gambling/Github/CLEF_eRisk/bioNLP_venv/lib/site-packages/sklearn/model_selection/_validation.py?line=281'>282</a>\u001b[0m     )\n\u001b[0;32m    <a href='file:///d%3A/_School/Master%20AI%20%282020-2022%29/Anul%202/Semestrul%202/Bio-medical%20NLP/Project%20-%20Early%20Risk%20Detection%20of%20Pathological%20Gambling/Github/CLEF_eRisk/bioNLP_venv/lib/site-packages/sklearn/model_selection/_validation.py?line=282'>283</a>\u001b[0m     \u001b[39mfor\u001b[39;49;00m train, test \u001b[39min\u001b[39;49;00m cv\u001b[39m.\u001b[39;49msplit(X, y, groups)\n\u001b[0;32m    <a href='file:///d%3A/_School/Master%20AI%20%282020-2022%29/Anul%202/Semestrul%202/Bio-medical%20NLP/Project%20-%20Early%20Risk%20Detection%20of%20Pathological%20Gambling/Github/CLEF_eRisk/bioNLP_venv/lib/site-packages/sklearn/model_selection/_validation.py?line=283'>284</a>\u001b[0m )\n\u001b[0;32m    <a href='file:///d%3A/_School/Master%20AI%20%282020-2022%29/Anul%202/Semestrul%202/Bio-medical%20NLP/Project%20-%20Early%20Risk%20Detection%20of%20Pathological%20Gambling/Github/CLEF_eRisk/bioNLP_venv/lib/site-packages/sklearn/model_selection/_validation.py?line=285'>286</a>\u001b[0m _warn_about_fit_failures(results, error_score)\n\u001b[0;32m    <a href='file:///d%3A/_School/Master%20AI%20%282020-2022%29/Anul%202/Semestrul%202/Bio-medical%20NLP/Project%20-%20Early%20Risk%20Detection%20of%20Pathological%20Gambling/Github/CLEF_eRisk/bioNLP_venv/lib/site-packages/sklearn/model_selection/_validation.py?line=287'>288</a>\u001b[0m \u001b[39m# For callabe scoring, the return type is only know after calling. If the\u001b[39;00m\n\u001b[0;32m    <a href='file:///d%3A/_School/Master%20AI%20%282020-2022%29/Anul%202/Semestrul%202/Bio-medical%20NLP/Project%20-%20Early%20Risk%20Detection%20of%20Pathological%20Gambling/Github/CLEF_eRisk/bioNLP_venv/lib/site-packages/sklearn/model_selection/_validation.py?line=288'>289</a>\u001b[0m \u001b[39m# return type is a dictionary, the error scores can now be inserted with\u001b[39;00m\n\u001b[0;32m    <a href='file:///d%3A/_School/Master%20AI%20%282020-2022%29/Anul%202/Semestrul%202/Bio-medical%20NLP/Project%20-%20Early%20Risk%20Detection%20of%20Pathological%20Gambling/Github/CLEF_eRisk/bioNLP_venv/lib/site-packages/sklearn/model_selection/_validation.py?line=289'>290</a>\u001b[0m \u001b[39m# the correct key.\u001b[39;00m\n",
      "File \u001b[1;32md:\\_School\\Master AI (2020-2022)\\Anul 2\\Semestrul 2\\Bio-medical NLP\\Project - Early Risk Detection of Pathological Gambling\\Github\\CLEF_eRisk\\bioNLP_venv\\lib\\site-packages\\joblib\\parallel.py:1043\u001b[0m, in \u001b[0;36mParallel.__call__\u001b[1;34m(self, iterable)\u001b[0m\n\u001b[0;32m   <a href='file:///d%3A/_School/Master%20AI%20%282020-2022%29/Anul%202/Semestrul%202/Bio-medical%20NLP/Project%20-%20Early%20Risk%20Detection%20of%20Pathological%20Gambling/Github/CLEF_eRisk/bioNLP_venv/lib/site-packages/joblib/parallel.py?line=1033'>1034</a>\u001b[0m \u001b[39mtry\u001b[39;00m:\n\u001b[0;32m   <a href='file:///d%3A/_School/Master%20AI%20%282020-2022%29/Anul%202/Semestrul%202/Bio-medical%20NLP/Project%20-%20Early%20Risk%20Detection%20of%20Pathological%20Gambling/Github/CLEF_eRisk/bioNLP_venv/lib/site-packages/joblib/parallel.py?line=1034'>1035</a>\u001b[0m     \u001b[39m# Only set self._iterating to True if at least a batch\u001b[39;00m\n\u001b[0;32m   <a href='file:///d%3A/_School/Master%20AI%20%282020-2022%29/Anul%202/Semestrul%202/Bio-medical%20NLP/Project%20-%20Early%20Risk%20Detection%20of%20Pathological%20Gambling/Github/CLEF_eRisk/bioNLP_venv/lib/site-packages/joblib/parallel.py?line=1035'>1036</a>\u001b[0m     \u001b[39m# was dispatched. In particular this covers the edge\u001b[39;00m\n\u001b[1;32m   (...)\u001b[0m\n\u001b[0;32m   <a href='file:///d%3A/_School/Master%20AI%20%282020-2022%29/Anul%202/Semestrul%202/Bio-medical%20NLP/Project%20-%20Early%20Risk%20Detection%20of%20Pathological%20Gambling/Github/CLEF_eRisk/bioNLP_venv/lib/site-packages/joblib/parallel.py?line=1039'>1040</a>\u001b[0m     \u001b[39m# was very quick and its callback already dispatched all the\u001b[39;00m\n\u001b[0;32m   <a href='file:///d%3A/_School/Master%20AI%20%282020-2022%29/Anul%202/Semestrul%202/Bio-medical%20NLP/Project%20-%20Early%20Risk%20Detection%20of%20Pathological%20Gambling/Github/CLEF_eRisk/bioNLP_venv/lib/site-packages/joblib/parallel.py?line=1040'>1041</a>\u001b[0m     \u001b[39m# remaining jobs.\u001b[39;00m\n\u001b[0;32m   <a href='file:///d%3A/_School/Master%20AI%20%282020-2022%29/Anul%202/Semestrul%202/Bio-medical%20NLP/Project%20-%20Early%20Risk%20Detection%20of%20Pathological%20Gambling/Github/CLEF_eRisk/bioNLP_venv/lib/site-packages/joblib/parallel.py?line=1041'>1042</a>\u001b[0m     \u001b[39mself\u001b[39m\u001b[39m.\u001b[39m_iterating \u001b[39m=\u001b[39m \u001b[39mFalse\u001b[39;00m\n\u001b[1;32m-> <a href='file:///d%3A/_School/Master%20AI%20%282020-2022%29/Anul%202/Semestrul%202/Bio-medical%20NLP/Project%20-%20Early%20Risk%20Detection%20of%20Pathological%20Gambling/Github/CLEF_eRisk/bioNLP_venv/lib/site-packages/joblib/parallel.py?line=1042'>1043</a>\u001b[0m     \u001b[39mif\u001b[39;00m \u001b[39mself\u001b[39;49m\u001b[39m.\u001b[39;49mdispatch_one_batch(iterator):\n\u001b[0;32m   <a href='file:///d%3A/_School/Master%20AI%20%282020-2022%29/Anul%202/Semestrul%202/Bio-medical%20NLP/Project%20-%20Early%20Risk%20Detection%20of%20Pathological%20Gambling/Github/CLEF_eRisk/bioNLP_venv/lib/site-packages/joblib/parallel.py?line=1043'>1044</a>\u001b[0m         \u001b[39mself\u001b[39m\u001b[39m.\u001b[39m_iterating \u001b[39m=\u001b[39m \u001b[39mself\u001b[39m\u001b[39m.\u001b[39m_original_iterator \u001b[39mis\u001b[39;00m \u001b[39mnot\u001b[39;00m \u001b[39mNone\u001b[39;00m\n\u001b[0;32m   <a href='file:///d%3A/_School/Master%20AI%20%282020-2022%29/Anul%202/Semestrul%202/Bio-medical%20NLP/Project%20-%20Early%20Risk%20Detection%20of%20Pathological%20Gambling/Github/CLEF_eRisk/bioNLP_venv/lib/site-packages/joblib/parallel.py?line=1045'>1046</a>\u001b[0m     \u001b[39mwhile\u001b[39;00m \u001b[39mself\u001b[39m\u001b[39m.\u001b[39mdispatch_one_batch(iterator):\n",
      "File \u001b[1;32md:\\_School\\Master AI (2020-2022)\\Anul 2\\Semestrul 2\\Bio-medical NLP\\Project - Early Risk Detection of Pathological Gambling\\Github\\CLEF_eRisk\\bioNLP_venv\\lib\\site-packages\\joblib\\parallel.py:861\u001b[0m, in \u001b[0;36mParallel.dispatch_one_batch\u001b[1;34m(self, iterator)\u001b[0m\n\u001b[0;32m    <a href='file:///d%3A/_School/Master%20AI%20%282020-2022%29/Anul%202/Semestrul%202/Bio-medical%20NLP/Project%20-%20Early%20Risk%20Detection%20of%20Pathological%20Gambling/Github/CLEF_eRisk/bioNLP_venv/lib/site-packages/joblib/parallel.py?line=858'>859</a>\u001b[0m     \u001b[39mreturn\u001b[39;00m \u001b[39mFalse\u001b[39;00m\n\u001b[0;32m    <a href='file:///d%3A/_School/Master%20AI%20%282020-2022%29/Anul%202/Semestrul%202/Bio-medical%20NLP/Project%20-%20Early%20Risk%20Detection%20of%20Pathological%20Gambling/Github/CLEF_eRisk/bioNLP_venv/lib/site-packages/joblib/parallel.py?line=859'>860</a>\u001b[0m \u001b[39melse\u001b[39;00m:\n\u001b[1;32m--> <a href='file:///d%3A/_School/Master%20AI%20%282020-2022%29/Anul%202/Semestrul%202/Bio-medical%20NLP/Project%20-%20Early%20Risk%20Detection%20of%20Pathological%20Gambling/Github/CLEF_eRisk/bioNLP_venv/lib/site-packages/joblib/parallel.py?line=860'>861</a>\u001b[0m     \u001b[39mself\u001b[39;49m\u001b[39m.\u001b[39;49m_dispatch(tasks)\n\u001b[0;32m    <a href='file:///d%3A/_School/Master%20AI%20%282020-2022%29/Anul%202/Semestrul%202/Bio-medical%20NLP/Project%20-%20Early%20Risk%20Detection%20of%20Pathological%20Gambling/Github/CLEF_eRisk/bioNLP_venv/lib/site-packages/joblib/parallel.py?line=861'>862</a>\u001b[0m     \u001b[39mreturn\u001b[39;00m \u001b[39mTrue\u001b[39;00m\n",
      "File \u001b[1;32md:\\_School\\Master AI (2020-2022)\\Anul 2\\Semestrul 2\\Bio-medical NLP\\Project - Early Risk Detection of Pathological Gambling\\Github\\CLEF_eRisk\\bioNLP_venv\\lib\\site-packages\\joblib\\parallel.py:779\u001b[0m, in \u001b[0;36mParallel._dispatch\u001b[1;34m(self, batch)\u001b[0m\n\u001b[0;32m    <a href='file:///d%3A/_School/Master%20AI%20%282020-2022%29/Anul%202/Semestrul%202/Bio-medical%20NLP/Project%20-%20Early%20Risk%20Detection%20of%20Pathological%20Gambling/Github/CLEF_eRisk/bioNLP_venv/lib/site-packages/joblib/parallel.py?line=776'>777</a>\u001b[0m \u001b[39mwith\u001b[39;00m \u001b[39mself\u001b[39m\u001b[39m.\u001b[39m_lock:\n\u001b[0;32m    <a href='file:///d%3A/_School/Master%20AI%20%282020-2022%29/Anul%202/Semestrul%202/Bio-medical%20NLP/Project%20-%20Early%20Risk%20Detection%20of%20Pathological%20Gambling/Github/CLEF_eRisk/bioNLP_venv/lib/site-packages/joblib/parallel.py?line=777'>778</a>\u001b[0m     job_idx \u001b[39m=\u001b[39m \u001b[39mlen\u001b[39m(\u001b[39mself\u001b[39m\u001b[39m.\u001b[39m_jobs)\n\u001b[1;32m--> <a href='file:///d%3A/_School/Master%20AI%20%282020-2022%29/Anul%202/Semestrul%202/Bio-medical%20NLP/Project%20-%20Early%20Risk%20Detection%20of%20Pathological%20Gambling/Github/CLEF_eRisk/bioNLP_venv/lib/site-packages/joblib/parallel.py?line=778'>779</a>\u001b[0m     job \u001b[39m=\u001b[39m \u001b[39mself\u001b[39;49m\u001b[39m.\u001b[39;49m_backend\u001b[39m.\u001b[39;49mapply_async(batch, callback\u001b[39m=\u001b[39;49mcb)\n\u001b[0;32m    <a href='file:///d%3A/_School/Master%20AI%20%282020-2022%29/Anul%202/Semestrul%202/Bio-medical%20NLP/Project%20-%20Early%20Risk%20Detection%20of%20Pathological%20Gambling/Github/CLEF_eRisk/bioNLP_venv/lib/site-packages/joblib/parallel.py?line=779'>780</a>\u001b[0m     \u001b[39m# A job can complete so quickly than its callback is\u001b[39;00m\n\u001b[0;32m    <a href='file:///d%3A/_School/Master%20AI%20%282020-2022%29/Anul%202/Semestrul%202/Bio-medical%20NLP/Project%20-%20Early%20Risk%20Detection%20of%20Pathological%20Gambling/Github/CLEF_eRisk/bioNLP_venv/lib/site-packages/joblib/parallel.py?line=780'>781</a>\u001b[0m     \u001b[39m# called before we get here, causing self._jobs to\u001b[39;00m\n\u001b[0;32m    <a href='file:///d%3A/_School/Master%20AI%20%282020-2022%29/Anul%202/Semestrul%202/Bio-medical%20NLP/Project%20-%20Early%20Risk%20Detection%20of%20Pathological%20Gambling/Github/CLEF_eRisk/bioNLP_venv/lib/site-packages/joblib/parallel.py?line=781'>782</a>\u001b[0m     \u001b[39m# grow. To ensure correct results ordering, .insert is\u001b[39;00m\n\u001b[0;32m    <a href='file:///d%3A/_School/Master%20AI%20%282020-2022%29/Anul%202/Semestrul%202/Bio-medical%20NLP/Project%20-%20Early%20Risk%20Detection%20of%20Pathological%20Gambling/Github/CLEF_eRisk/bioNLP_venv/lib/site-packages/joblib/parallel.py?line=782'>783</a>\u001b[0m     \u001b[39m# used (rather than .append) in the following line\u001b[39;00m\n\u001b[0;32m    <a href='file:///d%3A/_School/Master%20AI%20%282020-2022%29/Anul%202/Semestrul%202/Bio-medical%20NLP/Project%20-%20Early%20Risk%20Detection%20of%20Pathological%20Gambling/Github/CLEF_eRisk/bioNLP_venv/lib/site-packages/joblib/parallel.py?line=783'>784</a>\u001b[0m     \u001b[39mself\u001b[39m\u001b[39m.\u001b[39m_jobs\u001b[39m.\u001b[39minsert(job_idx, job)\n",
      "File \u001b[1;32md:\\_School\\Master AI (2020-2022)\\Anul 2\\Semestrul 2\\Bio-medical NLP\\Project - Early Risk Detection of Pathological Gambling\\Github\\CLEF_eRisk\\bioNLP_venv\\lib\\site-packages\\joblib\\_parallel_backends.py:208\u001b[0m, in \u001b[0;36mSequentialBackend.apply_async\u001b[1;34m(self, func, callback)\u001b[0m\n\u001b[0;32m    <a href='file:///d%3A/_School/Master%20AI%20%282020-2022%29/Anul%202/Semestrul%202/Bio-medical%20NLP/Project%20-%20Early%20Risk%20Detection%20of%20Pathological%20Gambling/Github/CLEF_eRisk/bioNLP_venv/lib/site-packages/joblib/_parallel_backends.py?line=205'>206</a>\u001b[0m \u001b[39mdef\u001b[39;00m \u001b[39mapply_async\u001b[39m(\u001b[39mself\u001b[39m, func, callback\u001b[39m=\u001b[39m\u001b[39mNone\u001b[39;00m):\n\u001b[0;32m    <a href='file:///d%3A/_School/Master%20AI%20%282020-2022%29/Anul%202/Semestrul%202/Bio-medical%20NLP/Project%20-%20Early%20Risk%20Detection%20of%20Pathological%20Gambling/Github/CLEF_eRisk/bioNLP_venv/lib/site-packages/joblib/_parallel_backends.py?line=206'>207</a>\u001b[0m     \u001b[39m\"\"\"Schedule a func to be run\"\"\"\u001b[39;00m\n\u001b[1;32m--> <a href='file:///d%3A/_School/Master%20AI%20%282020-2022%29/Anul%202/Semestrul%202/Bio-medical%20NLP/Project%20-%20Early%20Risk%20Detection%20of%20Pathological%20Gambling/Github/CLEF_eRisk/bioNLP_venv/lib/site-packages/joblib/_parallel_backends.py?line=207'>208</a>\u001b[0m     result \u001b[39m=\u001b[39m ImmediateResult(func)\n\u001b[0;32m    <a href='file:///d%3A/_School/Master%20AI%20%282020-2022%29/Anul%202/Semestrul%202/Bio-medical%20NLP/Project%20-%20Early%20Risk%20Detection%20of%20Pathological%20Gambling/Github/CLEF_eRisk/bioNLP_venv/lib/site-packages/joblib/_parallel_backends.py?line=208'>209</a>\u001b[0m     \u001b[39mif\u001b[39;00m callback:\n\u001b[0;32m    <a href='file:///d%3A/_School/Master%20AI%20%282020-2022%29/Anul%202/Semestrul%202/Bio-medical%20NLP/Project%20-%20Early%20Risk%20Detection%20of%20Pathological%20Gambling/Github/CLEF_eRisk/bioNLP_venv/lib/site-packages/joblib/_parallel_backends.py?line=209'>210</a>\u001b[0m         callback(result)\n",
      "File \u001b[1;32md:\\_School\\Master AI (2020-2022)\\Anul 2\\Semestrul 2\\Bio-medical NLP\\Project - Early Risk Detection of Pathological Gambling\\Github\\CLEF_eRisk\\bioNLP_venv\\lib\\site-packages\\joblib\\_parallel_backends.py:572\u001b[0m, in \u001b[0;36mImmediateResult.__init__\u001b[1;34m(self, batch)\u001b[0m\n\u001b[0;32m    <a href='file:///d%3A/_School/Master%20AI%20%282020-2022%29/Anul%202/Semestrul%202/Bio-medical%20NLP/Project%20-%20Early%20Risk%20Detection%20of%20Pathological%20Gambling/Github/CLEF_eRisk/bioNLP_venv/lib/site-packages/joblib/_parallel_backends.py?line=568'>569</a>\u001b[0m \u001b[39mdef\u001b[39;00m \u001b[39m__init__\u001b[39m(\u001b[39mself\u001b[39m, batch):\n\u001b[0;32m    <a href='file:///d%3A/_School/Master%20AI%20%282020-2022%29/Anul%202/Semestrul%202/Bio-medical%20NLP/Project%20-%20Early%20Risk%20Detection%20of%20Pathological%20Gambling/Github/CLEF_eRisk/bioNLP_venv/lib/site-packages/joblib/_parallel_backends.py?line=569'>570</a>\u001b[0m     \u001b[39m# Don't delay the application, to avoid keeping the input\u001b[39;00m\n\u001b[0;32m    <a href='file:///d%3A/_School/Master%20AI%20%282020-2022%29/Anul%202/Semestrul%202/Bio-medical%20NLP/Project%20-%20Early%20Risk%20Detection%20of%20Pathological%20Gambling/Github/CLEF_eRisk/bioNLP_venv/lib/site-packages/joblib/_parallel_backends.py?line=570'>571</a>\u001b[0m     \u001b[39m# arguments in memory\u001b[39;00m\n\u001b[1;32m--> <a href='file:///d%3A/_School/Master%20AI%20%282020-2022%29/Anul%202/Semestrul%202/Bio-medical%20NLP/Project%20-%20Early%20Risk%20Detection%20of%20Pathological%20Gambling/Github/CLEF_eRisk/bioNLP_venv/lib/site-packages/joblib/_parallel_backends.py?line=571'>572</a>\u001b[0m     \u001b[39mself\u001b[39m\u001b[39m.\u001b[39mresults \u001b[39m=\u001b[39m batch()\n",
      "File \u001b[1;32md:\\_School\\Master AI (2020-2022)\\Anul 2\\Semestrul 2\\Bio-medical NLP\\Project - Early Risk Detection of Pathological Gambling\\Github\\CLEF_eRisk\\bioNLP_venv\\lib\\site-packages\\joblib\\parallel.py:262\u001b[0m, in \u001b[0;36mBatchedCalls.__call__\u001b[1;34m(self)\u001b[0m\n\u001b[0;32m    <a href='file:///d%3A/_School/Master%20AI%20%282020-2022%29/Anul%202/Semestrul%202/Bio-medical%20NLP/Project%20-%20Early%20Risk%20Detection%20of%20Pathological%20Gambling/Github/CLEF_eRisk/bioNLP_venv/lib/site-packages/joblib/parallel.py?line=257'>258</a>\u001b[0m \u001b[39mdef\u001b[39;00m \u001b[39m__call__\u001b[39m(\u001b[39mself\u001b[39m):\n\u001b[0;32m    <a href='file:///d%3A/_School/Master%20AI%20%282020-2022%29/Anul%202/Semestrul%202/Bio-medical%20NLP/Project%20-%20Early%20Risk%20Detection%20of%20Pathological%20Gambling/Github/CLEF_eRisk/bioNLP_venv/lib/site-packages/joblib/parallel.py?line=258'>259</a>\u001b[0m     \u001b[39m# Set the default nested backend to self._backend but do not set the\u001b[39;00m\n\u001b[0;32m    <a href='file:///d%3A/_School/Master%20AI%20%282020-2022%29/Anul%202/Semestrul%202/Bio-medical%20NLP/Project%20-%20Early%20Risk%20Detection%20of%20Pathological%20Gambling/Github/CLEF_eRisk/bioNLP_venv/lib/site-packages/joblib/parallel.py?line=259'>260</a>\u001b[0m     \u001b[39m# change the default number of processes to -1\u001b[39;00m\n\u001b[0;32m    <a href='file:///d%3A/_School/Master%20AI%20%282020-2022%29/Anul%202/Semestrul%202/Bio-medical%20NLP/Project%20-%20Early%20Risk%20Detection%20of%20Pathological%20Gambling/Github/CLEF_eRisk/bioNLP_venv/lib/site-packages/joblib/parallel.py?line=260'>261</a>\u001b[0m     \u001b[39mwith\u001b[39;00m parallel_backend(\u001b[39mself\u001b[39m\u001b[39m.\u001b[39m_backend, n_jobs\u001b[39m=\u001b[39m\u001b[39mself\u001b[39m\u001b[39m.\u001b[39m_n_jobs):\n\u001b[1;32m--> <a href='file:///d%3A/_School/Master%20AI%20%282020-2022%29/Anul%202/Semestrul%202/Bio-medical%20NLP/Project%20-%20Early%20Risk%20Detection%20of%20Pathological%20Gambling/Github/CLEF_eRisk/bioNLP_venv/lib/site-packages/joblib/parallel.py?line=261'>262</a>\u001b[0m         \u001b[39mreturn\u001b[39;00m [func(\u001b[39m*\u001b[39margs, \u001b[39m*\u001b[39m\u001b[39m*\u001b[39mkwargs)\n\u001b[0;32m    <a href='file:///d%3A/_School/Master%20AI%20%282020-2022%29/Anul%202/Semestrul%202/Bio-medical%20NLP/Project%20-%20Early%20Risk%20Detection%20of%20Pathological%20Gambling/Github/CLEF_eRisk/bioNLP_venv/lib/site-packages/joblib/parallel.py?line=262'>263</a>\u001b[0m                 \u001b[39mfor\u001b[39;00m func, args, kwargs \u001b[39min\u001b[39;00m \u001b[39mself\u001b[39m\u001b[39m.\u001b[39mitems]\n",
      "File \u001b[1;32md:\\_School\\Master AI (2020-2022)\\Anul 2\\Semestrul 2\\Bio-medical NLP\\Project - Early Risk Detection of Pathological Gambling\\Github\\CLEF_eRisk\\bioNLP_venv\\lib\\site-packages\\joblib\\parallel.py:262\u001b[0m, in \u001b[0;36m<listcomp>\u001b[1;34m(.0)\u001b[0m\n\u001b[0;32m    <a href='file:///d%3A/_School/Master%20AI%20%282020-2022%29/Anul%202/Semestrul%202/Bio-medical%20NLP/Project%20-%20Early%20Risk%20Detection%20of%20Pathological%20Gambling/Github/CLEF_eRisk/bioNLP_venv/lib/site-packages/joblib/parallel.py?line=257'>258</a>\u001b[0m \u001b[39mdef\u001b[39;00m \u001b[39m__call__\u001b[39m(\u001b[39mself\u001b[39m):\n\u001b[0;32m    <a href='file:///d%3A/_School/Master%20AI%20%282020-2022%29/Anul%202/Semestrul%202/Bio-medical%20NLP/Project%20-%20Early%20Risk%20Detection%20of%20Pathological%20Gambling/Github/CLEF_eRisk/bioNLP_venv/lib/site-packages/joblib/parallel.py?line=258'>259</a>\u001b[0m     \u001b[39m# Set the default nested backend to self._backend but do not set the\u001b[39;00m\n\u001b[0;32m    <a href='file:///d%3A/_School/Master%20AI%20%282020-2022%29/Anul%202/Semestrul%202/Bio-medical%20NLP/Project%20-%20Early%20Risk%20Detection%20of%20Pathological%20Gambling/Github/CLEF_eRisk/bioNLP_venv/lib/site-packages/joblib/parallel.py?line=259'>260</a>\u001b[0m     \u001b[39m# change the default number of processes to -1\u001b[39;00m\n\u001b[0;32m    <a href='file:///d%3A/_School/Master%20AI%20%282020-2022%29/Anul%202/Semestrul%202/Bio-medical%20NLP/Project%20-%20Early%20Risk%20Detection%20of%20Pathological%20Gambling/Github/CLEF_eRisk/bioNLP_venv/lib/site-packages/joblib/parallel.py?line=260'>261</a>\u001b[0m     \u001b[39mwith\u001b[39;00m parallel_backend(\u001b[39mself\u001b[39m\u001b[39m.\u001b[39m_backend, n_jobs\u001b[39m=\u001b[39m\u001b[39mself\u001b[39m\u001b[39m.\u001b[39m_n_jobs):\n\u001b[1;32m--> <a href='file:///d%3A/_School/Master%20AI%20%282020-2022%29/Anul%202/Semestrul%202/Bio-medical%20NLP/Project%20-%20Early%20Risk%20Detection%20of%20Pathological%20Gambling/Github/CLEF_eRisk/bioNLP_venv/lib/site-packages/joblib/parallel.py?line=261'>262</a>\u001b[0m         \u001b[39mreturn\u001b[39;00m [func(\u001b[39m*\u001b[39margs, \u001b[39m*\u001b[39m\u001b[39m*\u001b[39mkwargs)\n\u001b[0;32m    <a href='file:///d%3A/_School/Master%20AI%20%282020-2022%29/Anul%202/Semestrul%202/Bio-medical%20NLP/Project%20-%20Early%20Risk%20Detection%20of%20Pathological%20Gambling/Github/CLEF_eRisk/bioNLP_venv/lib/site-packages/joblib/parallel.py?line=262'>263</a>\u001b[0m                 \u001b[39mfor\u001b[39;00m func, args, kwargs \u001b[39min\u001b[39;00m \u001b[39mself\u001b[39m\u001b[39m.\u001b[39mitems]\n",
      "File \u001b[1;32md:\\_School\\Master AI (2020-2022)\\Anul 2\\Semestrul 2\\Bio-medical NLP\\Project - Early Risk Detection of Pathological Gambling\\Github\\CLEF_eRisk\\bioNLP_venv\\lib\\site-packages\\sklearn\\utils\\fixes.py:216\u001b[0m, in \u001b[0;36m_FuncWrapper.__call__\u001b[1;34m(self, *args, **kwargs)\u001b[0m\n\u001b[0;32m    <a href='file:///d%3A/_School/Master%20AI%20%282020-2022%29/Anul%202/Semestrul%202/Bio-medical%20NLP/Project%20-%20Early%20Risk%20Detection%20of%20Pathological%20Gambling/Github/CLEF_eRisk/bioNLP_venv/lib/site-packages/sklearn/utils/fixes.py?line=213'>214</a>\u001b[0m \u001b[39mdef\u001b[39;00m \u001b[39m__call__\u001b[39m(\u001b[39mself\u001b[39m, \u001b[39m*\u001b[39margs, \u001b[39m*\u001b[39m\u001b[39m*\u001b[39mkwargs):\n\u001b[0;32m    <a href='file:///d%3A/_School/Master%20AI%20%282020-2022%29/Anul%202/Semestrul%202/Bio-medical%20NLP/Project%20-%20Early%20Risk%20Detection%20of%20Pathological%20Gambling/Github/CLEF_eRisk/bioNLP_venv/lib/site-packages/sklearn/utils/fixes.py?line=214'>215</a>\u001b[0m     \u001b[39mwith\u001b[39;00m config_context(\u001b[39m*\u001b[39m\u001b[39m*\u001b[39m\u001b[39mself\u001b[39m\u001b[39m.\u001b[39mconfig):\n\u001b[1;32m--> <a href='file:///d%3A/_School/Master%20AI%20%282020-2022%29/Anul%202/Semestrul%202/Bio-medical%20NLP/Project%20-%20Early%20Risk%20Detection%20of%20Pathological%20Gambling/Github/CLEF_eRisk/bioNLP_venv/lib/site-packages/sklearn/utils/fixes.py?line=215'>216</a>\u001b[0m         \u001b[39mreturn\u001b[39;00m \u001b[39mself\u001b[39m\u001b[39m.\u001b[39mfunction(\u001b[39m*\u001b[39margs, \u001b[39m*\u001b[39m\u001b[39m*\u001b[39mkwargs)\n",
      "File \u001b[1;32md:\\_School\\Master AI (2020-2022)\\Anul 2\\Semestrul 2\\Bio-medical NLP\\Project - Early Risk Detection of Pathological Gambling\\Github\\CLEF_eRisk\\bioNLP_venv\\lib\\site-packages\\sklearn\\model_selection\\_validation.py:680\u001b[0m, in \u001b[0;36m_fit_and_score\u001b[1;34m(estimator, X, y, scorer, train, test, verbose, parameters, fit_params, return_train_score, return_parameters, return_n_test_samples, return_times, return_estimator, split_progress, candidate_progress, error_score)\u001b[0m\n\u001b[0;32m    <a href='file:///d%3A/_School/Master%20AI%20%282020-2022%29/Anul%202/Semestrul%202/Bio-medical%20NLP/Project%20-%20Early%20Risk%20Detection%20of%20Pathological%20Gambling/Github/CLEF_eRisk/bioNLP_venv/lib/site-packages/sklearn/model_selection/_validation.py?line=677'>678</a>\u001b[0m         estimator\u001b[39m.\u001b[39mfit(X_train, \u001b[39m*\u001b[39m\u001b[39m*\u001b[39mfit_params)\n\u001b[0;32m    <a href='file:///d%3A/_School/Master%20AI%20%282020-2022%29/Anul%202/Semestrul%202/Bio-medical%20NLP/Project%20-%20Early%20Risk%20Detection%20of%20Pathological%20Gambling/Github/CLEF_eRisk/bioNLP_venv/lib/site-packages/sklearn/model_selection/_validation.py?line=678'>679</a>\u001b[0m     \u001b[39melse\u001b[39;00m:\n\u001b[1;32m--> <a href='file:///d%3A/_School/Master%20AI%20%282020-2022%29/Anul%202/Semestrul%202/Bio-medical%20NLP/Project%20-%20Early%20Risk%20Detection%20of%20Pathological%20Gambling/Github/CLEF_eRisk/bioNLP_venv/lib/site-packages/sklearn/model_selection/_validation.py?line=679'>680</a>\u001b[0m         estimator\u001b[39m.\u001b[39mfit(X_train, y_train, \u001b[39m*\u001b[39m\u001b[39m*\u001b[39mfit_params)\n\u001b[0;32m    <a href='file:///d%3A/_School/Master%20AI%20%282020-2022%29/Anul%202/Semestrul%202/Bio-medical%20NLP/Project%20-%20Early%20Risk%20Detection%20of%20Pathological%20Gambling/Github/CLEF_eRisk/bioNLP_venv/lib/site-packages/sklearn/model_selection/_validation.py?line=681'>682</a>\u001b[0m \u001b[39mexcept\u001b[39;00m \u001b[39mException\u001b[39;00m:\n\u001b[0;32m    <a href='file:///d%3A/_School/Master%20AI%20%282020-2022%29/Anul%202/Semestrul%202/Bio-medical%20NLP/Project%20-%20Early%20Risk%20Detection%20of%20Pathological%20Gambling/Github/CLEF_eRisk/bioNLP_venv/lib/site-packages/sklearn/model_selection/_validation.py?line=682'>683</a>\u001b[0m     \u001b[39m# Note fit time as time until error\u001b[39;00m\n\u001b[0;32m    <a href='file:///d%3A/_School/Master%20AI%20%282020-2022%29/Anul%202/Semestrul%202/Bio-medical%20NLP/Project%20-%20Early%20Risk%20Detection%20of%20Pathological%20Gambling/Github/CLEF_eRisk/bioNLP_venv/lib/site-packages/sklearn/model_selection/_validation.py?line=683'>684</a>\u001b[0m     fit_time \u001b[39m=\u001b[39m time\u001b[39m.\u001b[39mtime() \u001b[39m-\u001b[39m start_time\n",
      "File \u001b[1;32md:\\_School\\Master AI (2020-2022)\\Anul 2\\Semestrul 2\\Bio-medical NLP\\Project - Early Risk Detection of Pathological Gambling\\Github\\CLEF_eRisk\\bioNLP_venv\\lib\\site-packages\\sklearn\\pipeline.py:394\u001b[0m, in \u001b[0;36mPipeline.fit\u001b[1;34m(self, X, y, **fit_params)\u001b[0m\n\u001b[0;32m    <a href='file:///d%3A/_School/Master%20AI%20%282020-2022%29/Anul%202/Semestrul%202/Bio-medical%20NLP/Project%20-%20Early%20Risk%20Detection%20of%20Pathological%20Gambling/Github/CLEF_eRisk/bioNLP_venv/lib/site-packages/sklearn/pipeline.py?line=391'>392</a>\u001b[0m     \u001b[39mif\u001b[39;00m \u001b[39mself\u001b[39m\u001b[39m.\u001b[39m_final_estimator \u001b[39m!=\u001b[39m \u001b[39m\"\u001b[39m\u001b[39mpassthrough\u001b[39m\u001b[39m\"\u001b[39m:\n\u001b[0;32m    <a href='file:///d%3A/_School/Master%20AI%20%282020-2022%29/Anul%202/Semestrul%202/Bio-medical%20NLP/Project%20-%20Early%20Risk%20Detection%20of%20Pathological%20Gambling/Github/CLEF_eRisk/bioNLP_venv/lib/site-packages/sklearn/pipeline.py?line=392'>393</a>\u001b[0m         fit_params_last_step \u001b[39m=\u001b[39m fit_params_steps[\u001b[39mself\u001b[39m\u001b[39m.\u001b[39msteps[\u001b[39m-\u001b[39m\u001b[39m1\u001b[39m][\u001b[39m0\u001b[39m]]\n\u001b[1;32m--> <a href='file:///d%3A/_School/Master%20AI%20%282020-2022%29/Anul%202/Semestrul%202/Bio-medical%20NLP/Project%20-%20Early%20Risk%20Detection%20of%20Pathological%20Gambling/Github/CLEF_eRisk/bioNLP_venv/lib/site-packages/sklearn/pipeline.py?line=393'>394</a>\u001b[0m         \u001b[39mself\u001b[39m\u001b[39m.\u001b[39m_final_estimator\u001b[39m.\u001b[39mfit(Xt, y, \u001b[39m*\u001b[39m\u001b[39m*\u001b[39mfit_params_last_step)\n\u001b[0;32m    <a href='file:///d%3A/_School/Master%20AI%20%282020-2022%29/Anul%202/Semestrul%202/Bio-medical%20NLP/Project%20-%20Early%20Risk%20Detection%20of%20Pathological%20Gambling/Github/CLEF_eRisk/bioNLP_venv/lib/site-packages/sklearn/pipeline.py?line=395'>396</a>\u001b[0m \u001b[39mreturn\u001b[39;00m \u001b[39mself\u001b[39m\n",
      "File \u001b[1;32md:\\_School\\Master AI (2020-2022)\\Anul 2\\Semestrul 2\\Bio-medical NLP\\Project - Early Risk Detection of Pathological Gambling\\Github\\CLEF_eRisk\\bioNLP_venv\\lib\\site-packages\\sklearn\\linear_model\\_logistic.py:1589\u001b[0m, in \u001b[0;36mLogisticRegression.fit\u001b[1;34m(self, X, y, sample_weight)\u001b[0m\n\u001b[0;32m   <a href='file:///d%3A/_School/Master%20AI%20%282020-2022%29/Anul%202/Semestrul%202/Bio-medical%20NLP/Project%20-%20Early%20Risk%20Detection%20of%20Pathological%20Gambling/Github/CLEF_eRisk/bioNLP_venv/lib/site-packages/sklearn/linear_model/_logistic.py?line=1586'>1587</a>\u001b[0m \u001b[39melse\u001b[39;00m:\n\u001b[0;32m   <a href='file:///d%3A/_School/Master%20AI%20%282020-2022%29/Anul%202/Semestrul%202/Bio-medical%20NLP/Project%20-%20Early%20Risk%20Detection%20of%20Pathological%20Gambling/Github/CLEF_eRisk/bioNLP_venv/lib/site-packages/sklearn/linear_model/_logistic.py?line=1587'>1588</a>\u001b[0m     prefer \u001b[39m=\u001b[39m \u001b[39m\"\u001b[39m\u001b[39mprocesses\u001b[39m\u001b[39m\"\u001b[39m\n\u001b[1;32m-> <a href='file:///d%3A/_School/Master%20AI%20%282020-2022%29/Anul%202/Semestrul%202/Bio-medical%20NLP/Project%20-%20Early%20Risk%20Detection%20of%20Pathological%20Gambling/Github/CLEF_eRisk/bioNLP_venv/lib/site-packages/sklearn/linear_model/_logistic.py?line=1588'>1589</a>\u001b[0m fold_coefs_ \u001b[39m=\u001b[39m Parallel(\n\u001b[0;32m   <a href='file:///d%3A/_School/Master%20AI%20%282020-2022%29/Anul%202/Semestrul%202/Bio-medical%20NLP/Project%20-%20Early%20Risk%20Detection%20of%20Pathological%20Gambling/Github/CLEF_eRisk/bioNLP_venv/lib/site-packages/sklearn/linear_model/_logistic.py?line=1589'>1590</a>\u001b[0m     n_jobs\u001b[39m=\u001b[39;49m\u001b[39mself\u001b[39;49m\u001b[39m.\u001b[39;49mn_jobs,\n\u001b[0;32m   <a href='file:///d%3A/_School/Master%20AI%20%282020-2022%29/Anul%202/Semestrul%202/Bio-medical%20NLP/Project%20-%20Early%20Risk%20Detection%20of%20Pathological%20Gambling/Github/CLEF_eRisk/bioNLP_venv/lib/site-packages/sklearn/linear_model/_logistic.py?line=1590'>1591</a>\u001b[0m     verbose\u001b[39m=\u001b[39;49m\u001b[39mself\u001b[39;49m\u001b[39m.\u001b[39;49mverbose,\n\u001b[0;32m   <a href='file:///d%3A/_School/Master%20AI%20%282020-2022%29/Anul%202/Semestrul%202/Bio-medical%20NLP/Project%20-%20Early%20Risk%20Detection%20of%20Pathological%20Gambling/Github/CLEF_eRisk/bioNLP_venv/lib/site-packages/sklearn/linear_model/_logistic.py?line=1591'>1592</a>\u001b[0m     \u001b[39m*\u001b[39;49m\u001b[39m*\u001b[39;49m_joblib_parallel_args(prefer\u001b[39m=\u001b[39;49mprefer),\n\u001b[0;32m   <a href='file:///d%3A/_School/Master%20AI%20%282020-2022%29/Anul%202/Semestrul%202/Bio-medical%20NLP/Project%20-%20Early%20Risk%20Detection%20of%20Pathological%20Gambling/Github/CLEF_eRisk/bioNLP_venv/lib/site-packages/sklearn/linear_model/_logistic.py?line=1592'>1593</a>\u001b[0m )(\n\u001b[0;32m   <a href='file:///d%3A/_School/Master%20AI%20%282020-2022%29/Anul%202/Semestrul%202/Bio-medical%20NLP/Project%20-%20Early%20Risk%20Detection%20of%20Pathological%20Gambling/Github/CLEF_eRisk/bioNLP_venv/lib/site-packages/sklearn/linear_model/_logistic.py?line=1593'>1594</a>\u001b[0m     path_func(\n\u001b[0;32m   <a href='file:///d%3A/_School/Master%20AI%20%282020-2022%29/Anul%202/Semestrul%202/Bio-medical%20NLP/Project%20-%20Early%20Risk%20Detection%20of%20Pathological%20Gambling/Github/CLEF_eRisk/bioNLP_venv/lib/site-packages/sklearn/linear_model/_logistic.py?line=1594'>1595</a>\u001b[0m         X,\n\u001b[0;32m   <a href='file:///d%3A/_School/Master%20AI%20%282020-2022%29/Anul%202/Semestrul%202/Bio-medical%20NLP/Project%20-%20Early%20Risk%20Detection%20of%20Pathological%20Gambling/Github/CLEF_eRisk/bioNLP_venv/lib/site-packages/sklearn/linear_model/_logistic.py?line=1595'>1596</a>\u001b[0m         y,\n\u001b[0;32m   <a href='file:///d%3A/_School/Master%20AI%20%282020-2022%29/Anul%202/Semestrul%202/Bio-medical%20NLP/Project%20-%20Early%20Risk%20Detection%20of%20Pathological%20Gambling/Github/CLEF_eRisk/bioNLP_venv/lib/site-packages/sklearn/linear_model/_logistic.py?line=1596'>1597</a>\u001b[0m         pos_class\u001b[39m=\u001b[39;49mclass_,\n\u001b[0;32m   <a href='file:///d%3A/_School/Master%20AI%20%282020-2022%29/Anul%202/Semestrul%202/Bio-medical%20NLP/Project%20-%20Early%20Risk%20Detection%20of%20Pathological%20Gambling/Github/CLEF_eRisk/bioNLP_venv/lib/site-packages/sklearn/linear_model/_logistic.py?line=1597'>1598</a>\u001b[0m         Cs\u001b[39m=\u001b[39;49m[C_],\n\u001b[0;32m   <a href='file:///d%3A/_School/Master%20AI%20%282020-2022%29/Anul%202/Semestrul%202/Bio-medical%20NLP/Project%20-%20Early%20Risk%20Detection%20of%20Pathological%20Gambling/Github/CLEF_eRisk/bioNLP_venv/lib/site-packages/sklearn/linear_model/_logistic.py?line=1598'>1599</a>\u001b[0m         l1_ratio\u001b[39m=\u001b[39;49m\u001b[39mself\u001b[39;49m\u001b[39m.\u001b[39;49ml1_ratio,\n\u001b[0;32m   <a href='file:///d%3A/_School/Master%20AI%20%282020-2022%29/Anul%202/Semestrul%202/Bio-medical%20NLP/Project%20-%20Early%20Risk%20Detection%20of%20Pathological%20Gambling/Github/CLEF_eRisk/bioNLP_venv/lib/site-packages/sklearn/linear_model/_logistic.py?line=1599'>1600</a>\u001b[0m         fit_intercept\u001b[39m=\u001b[39;49m\u001b[39mself\u001b[39;49m\u001b[39m.\u001b[39;49mfit_intercept,\n\u001b[0;32m   <a href='file:///d%3A/_School/Master%20AI%20%282020-2022%29/Anul%202/Semestrul%202/Bio-medical%20NLP/Project%20-%20Early%20Risk%20Detection%20of%20Pathological%20Gambling/Github/CLEF_eRisk/bioNLP_venv/lib/site-packages/sklearn/linear_model/_logistic.py?line=1600'>1601</a>\u001b[0m         tol\u001b[39m=\u001b[39;49m\u001b[39mself\u001b[39;49m\u001b[39m.\u001b[39;49mtol,\n\u001b[0;32m   <a href='file:///d%3A/_School/Master%20AI%20%282020-2022%29/Anul%202/Semestrul%202/Bio-medical%20NLP/Project%20-%20Early%20Risk%20Detection%20of%20Pathological%20Gambling/Github/CLEF_eRisk/bioNLP_venv/lib/site-packages/sklearn/linear_model/_logistic.py?line=1601'>1602</a>\u001b[0m         verbose\u001b[39m=\u001b[39;49m\u001b[39mself\u001b[39;49m\u001b[39m.\u001b[39;49mverbose,\n\u001b[0;32m   <a href='file:///d%3A/_School/Master%20AI%20%282020-2022%29/Anul%202/Semestrul%202/Bio-medical%20NLP/Project%20-%20Early%20Risk%20Detection%20of%20Pathological%20Gambling/Github/CLEF_eRisk/bioNLP_venv/lib/site-packages/sklearn/linear_model/_logistic.py?line=1602'>1603</a>\u001b[0m         solver\u001b[39m=\u001b[39;49msolver,\n\u001b[0;32m   <a href='file:///d%3A/_School/Master%20AI%20%282020-2022%29/Anul%202/Semestrul%202/Bio-medical%20NLP/Project%20-%20Early%20Risk%20Detection%20of%20Pathological%20Gambling/Github/CLEF_eRisk/bioNLP_venv/lib/site-packages/sklearn/linear_model/_logistic.py?line=1603'>1604</a>\u001b[0m         multi_class\u001b[39m=\u001b[39;49mmulti_class,\n\u001b[0;32m   <a href='file:///d%3A/_School/Master%20AI%20%282020-2022%29/Anul%202/Semestrul%202/Bio-medical%20NLP/Project%20-%20Early%20Risk%20Detection%20of%20Pathological%20Gambling/Github/CLEF_eRisk/bioNLP_venv/lib/site-packages/sklearn/linear_model/_logistic.py?line=1604'>1605</a>\u001b[0m         max_iter\u001b[39m=\u001b[39;49m\u001b[39mself\u001b[39;49m\u001b[39m.\u001b[39;49mmax_iter,\n\u001b[0;32m   <a href='file:///d%3A/_School/Master%20AI%20%282020-2022%29/Anul%202/Semestrul%202/Bio-medical%20NLP/Project%20-%20Early%20Risk%20Detection%20of%20Pathological%20Gambling/Github/CLEF_eRisk/bioNLP_venv/lib/site-packages/sklearn/linear_model/_logistic.py?line=1605'>1606</a>\u001b[0m         class_weight\u001b[39m=\u001b[39;49m\u001b[39mself\u001b[39;49m\u001b[39m.\u001b[39;49mclass_weight,\n\u001b[0;32m   <a href='file:///d%3A/_School/Master%20AI%20%282020-2022%29/Anul%202/Semestrul%202/Bio-medical%20NLP/Project%20-%20Early%20Risk%20Detection%20of%20Pathological%20Gambling/Github/CLEF_eRisk/bioNLP_venv/lib/site-packages/sklearn/linear_model/_logistic.py?line=1606'>1607</a>\u001b[0m         check_input\u001b[39m=\u001b[39;49m\u001b[39mFalse\u001b[39;49;00m,\n\u001b[0;32m   <a href='file:///d%3A/_School/Master%20AI%20%282020-2022%29/Anul%202/Semestrul%202/Bio-medical%20NLP/Project%20-%20Early%20Risk%20Detection%20of%20Pathological%20Gambling/Github/CLEF_eRisk/bioNLP_venv/lib/site-packages/sklearn/linear_model/_logistic.py?line=1607'>1608</a>\u001b[0m         random_state\u001b[39m=\u001b[39;49m\u001b[39mself\u001b[39;49m\u001b[39m.\u001b[39;49mrandom_state,\n\u001b[0;32m   <a href='file:///d%3A/_School/Master%20AI%20%282020-2022%29/Anul%202/Semestrul%202/Bio-medical%20NLP/Project%20-%20Early%20Risk%20Detection%20of%20Pathological%20Gambling/Github/CLEF_eRisk/bioNLP_venv/lib/site-packages/sklearn/linear_model/_logistic.py?line=1608'>1609</a>\u001b[0m         coef\u001b[39m=\u001b[39;49mwarm_start_coef_,\n\u001b[0;32m   <a href='file:///d%3A/_School/Master%20AI%20%282020-2022%29/Anul%202/Semestrul%202/Bio-medical%20NLP/Project%20-%20Early%20Risk%20Detection%20of%20Pathological%20Gambling/Github/CLEF_eRisk/bioNLP_venv/lib/site-packages/sklearn/linear_model/_logistic.py?line=1609'>1610</a>\u001b[0m         penalty\u001b[39m=\u001b[39;49mpenalty,\n\u001b[0;32m   <a href='file:///d%3A/_School/Master%20AI%20%282020-2022%29/Anul%202/Semestrul%202/Bio-medical%20NLP/Project%20-%20Early%20Risk%20Detection%20of%20Pathological%20Gambling/Github/CLEF_eRisk/bioNLP_venv/lib/site-packages/sklearn/linear_model/_logistic.py?line=1610'>1611</a>\u001b[0m         max_squared_sum\u001b[39m=\u001b[39;49mmax_squared_sum,\n\u001b[0;32m   <a href='file:///d%3A/_School/Master%20AI%20%282020-2022%29/Anul%202/Semestrul%202/Bio-medical%20NLP/Project%20-%20Early%20Risk%20Detection%20of%20Pathological%20Gambling/Github/CLEF_eRisk/bioNLP_venv/lib/site-packages/sklearn/linear_model/_logistic.py?line=1611'>1612</a>\u001b[0m         sample_weight\u001b[39m=\u001b[39;49msample_weight,\n\u001b[0;32m   <a href='file:///d%3A/_School/Master%20AI%20%282020-2022%29/Anul%202/Semestrul%202/Bio-medical%20NLP/Project%20-%20Early%20Risk%20Detection%20of%20Pathological%20Gambling/Github/CLEF_eRisk/bioNLP_venv/lib/site-packages/sklearn/linear_model/_logistic.py?line=1612'>1613</a>\u001b[0m     )\n\u001b[0;32m   <a href='file:///d%3A/_School/Master%20AI%20%282020-2022%29/Anul%202/Semestrul%202/Bio-medical%20NLP/Project%20-%20Early%20Risk%20Detection%20of%20Pathological%20Gambling/Github/CLEF_eRisk/bioNLP_venv/lib/site-packages/sklearn/linear_model/_logistic.py?line=1613'>1614</a>\u001b[0m     \u001b[39mfor\u001b[39;49;00m class_, warm_start_coef_ \u001b[39min\u001b[39;49;00m \u001b[39mzip\u001b[39;49m(classes_, warm_start_coef)\n\u001b[0;32m   <a href='file:///d%3A/_School/Master%20AI%20%282020-2022%29/Anul%202/Semestrul%202/Bio-medical%20NLP/Project%20-%20Early%20Risk%20Detection%20of%20Pathological%20Gambling/Github/CLEF_eRisk/bioNLP_venv/lib/site-packages/sklearn/linear_model/_logistic.py?line=1614'>1615</a>\u001b[0m )\n\u001b[0;32m   <a href='file:///d%3A/_School/Master%20AI%20%282020-2022%29/Anul%202/Semestrul%202/Bio-medical%20NLP/Project%20-%20Early%20Risk%20Detection%20of%20Pathological%20Gambling/Github/CLEF_eRisk/bioNLP_venv/lib/site-packages/sklearn/linear_model/_logistic.py?line=1616'>1617</a>\u001b[0m fold_coefs_, _, n_iter_ \u001b[39m=\u001b[39m \u001b[39mzip\u001b[39m(\u001b[39m*\u001b[39mfold_coefs_)\n\u001b[0;32m   <a href='file:///d%3A/_School/Master%20AI%20%282020-2022%29/Anul%202/Semestrul%202/Bio-medical%20NLP/Project%20-%20Early%20Risk%20Detection%20of%20Pathological%20Gambling/Github/CLEF_eRisk/bioNLP_venv/lib/site-packages/sklearn/linear_model/_logistic.py?line=1617'>1618</a>\u001b[0m \u001b[39mself\u001b[39m\u001b[39m.\u001b[39mn_iter_ \u001b[39m=\u001b[39m np\u001b[39m.\u001b[39masarray(n_iter_, dtype\u001b[39m=\u001b[39mnp\u001b[39m.\u001b[39mint32)[:, \u001b[39m0\u001b[39m]\n",
      "File \u001b[1;32md:\\_School\\Master AI (2020-2022)\\Anul 2\\Semestrul 2\\Bio-medical NLP\\Project - Early Risk Detection of Pathological Gambling\\Github\\CLEF_eRisk\\bioNLP_venv\\lib\\site-packages\\joblib\\parallel.py:1043\u001b[0m, in \u001b[0;36mParallel.__call__\u001b[1;34m(self, iterable)\u001b[0m\n\u001b[0;32m   <a href='file:///d%3A/_School/Master%20AI%20%282020-2022%29/Anul%202/Semestrul%202/Bio-medical%20NLP/Project%20-%20Early%20Risk%20Detection%20of%20Pathological%20Gambling/Github/CLEF_eRisk/bioNLP_venv/lib/site-packages/joblib/parallel.py?line=1033'>1034</a>\u001b[0m \u001b[39mtry\u001b[39;00m:\n\u001b[0;32m   <a href='file:///d%3A/_School/Master%20AI%20%282020-2022%29/Anul%202/Semestrul%202/Bio-medical%20NLP/Project%20-%20Early%20Risk%20Detection%20of%20Pathological%20Gambling/Github/CLEF_eRisk/bioNLP_venv/lib/site-packages/joblib/parallel.py?line=1034'>1035</a>\u001b[0m     \u001b[39m# Only set self._iterating to True if at least a batch\u001b[39;00m\n\u001b[0;32m   <a href='file:///d%3A/_School/Master%20AI%20%282020-2022%29/Anul%202/Semestrul%202/Bio-medical%20NLP/Project%20-%20Early%20Risk%20Detection%20of%20Pathological%20Gambling/Github/CLEF_eRisk/bioNLP_venv/lib/site-packages/joblib/parallel.py?line=1035'>1036</a>\u001b[0m     \u001b[39m# was dispatched. In particular this covers the edge\u001b[39;00m\n\u001b[1;32m   (...)\u001b[0m\n\u001b[0;32m   <a href='file:///d%3A/_School/Master%20AI%20%282020-2022%29/Anul%202/Semestrul%202/Bio-medical%20NLP/Project%20-%20Early%20Risk%20Detection%20of%20Pathological%20Gambling/Github/CLEF_eRisk/bioNLP_venv/lib/site-packages/joblib/parallel.py?line=1039'>1040</a>\u001b[0m     \u001b[39m# was very quick and its callback already dispatched all the\u001b[39;00m\n\u001b[0;32m   <a href='file:///d%3A/_School/Master%20AI%20%282020-2022%29/Anul%202/Semestrul%202/Bio-medical%20NLP/Project%20-%20Early%20Risk%20Detection%20of%20Pathological%20Gambling/Github/CLEF_eRisk/bioNLP_venv/lib/site-packages/joblib/parallel.py?line=1040'>1041</a>\u001b[0m     \u001b[39m# remaining jobs.\u001b[39;00m\n\u001b[0;32m   <a href='file:///d%3A/_School/Master%20AI%20%282020-2022%29/Anul%202/Semestrul%202/Bio-medical%20NLP/Project%20-%20Early%20Risk%20Detection%20of%20Pathological%20Gambling/Github/CLEF_eRisk/bioNLP_venv/lib/site-packages/joblib/parallel.py?line=1041'>1042</a>\u001b[0m     \u001b[39mself\u001b[39m\u001b[39m.\u001b[39m_iterating \u001b[39m=\u001b[39m \u001b[39mFalse\u001b[39;00m\n\u001b[1;32m-> <a href='file:///d%3A/_School/Master%20AI%20%282020-2022%29/Anul%202/Semestrul%202/Bio-medical%20NLP/Project%20-%20Early%20Risk%20Detection%20of%20Pathological%20Gambling/Github/CLEF_eRisk/bioNLP_venv/lib/site-packages/joblib/parallel.py?line=1042'>1043</a>\u001b[0m     \u001b[39mif\u001b[39;00m \u001b[39mself\u001b[39;49m\u001b[39m.\u001b[39;49mdispatch_one_batch(iterator):\n\u001b[0;32m   <a href='file:///d%3A/_School/Master%20AI%20%282020-2022%29/Anul%202/Semestrul%202/Bio-medical%20NLP/Project%20-%20Early%20Risk%20Detection%20of%20Pathological%20Gambling/Github/CLEF_eRisk/bioNLP_venv/lib/site-packages/joblib/parallel.py?line=1043'>1044</a>\u001b[0m         \u001b[39mself\u001b[39m\u001b[39m.\u001b[39m_iterating \u001b[39m=\u001b[39m \u001b[39mself\u001b[39m\u001b[39m.\u001b[39m_original_iterator \u001b[39mis\u001b[39;00m \u001b[39mnot\u001b[39;00m \u001b[39mNone\u001b[39;00m\n\u001b[0;32m   <a href='file:///d%3A/_School/Master%20AI%20%282020-2022%29/Anul%202/Semestrul%202/Bio-medical%20NLP/Project%20-%20Early%20Risk%20Detection%20of%20Pathological%20Gambling/Github/CLEF_eRisk/bioNLP_venv/lib/site-packages/joblib/parallel.py?line=1045'>1046</a>\u001b[0m     \u001b[39mwhile\u001b[39;00m \u001b[39mself\u001b[39m\u001b[39m.\u001b[39mdispatch_one_batch(iterator):\n",
      "File \u001b[1;32md:\\_School\\Master AI (2020-2022)\\Anul 2\\Semestrul 2\\Bio-medical NLP\\Project - Early Risk Detection of Pathological Gambling\\Github\\CLEF_eRisk\\bioNLP_venv\\lib\\site-packages\\joblib\\parallel.py:861\u001b[0m, in \u001b[0;36mParallel.dispatch_one_batch\u001b[1;34m(self, iterator)\u001b[0m\n\u001b[0;32m    <a href='file:///d%3A/_School/Master%20AI%20%282020-2022%29/Anul%202/Semestrul%202/Bio-medical%20NLP/Project%20-%20Early%20Risk%20Detection%20of%20Pathological%20Gambling/Github/CLEF_eRisk/bioNLP_venv/lib/site-packages/joblib/parallel.py?line=858'>859</a>\u001b[0m     \u001b[39mreturn\u001b[39;00m \u001b[39mFalse\u001b[39;00m\n\u001b[0;32m    <a href='file:///d%3A/_School/Master%20AI%20%282020-2022%29/Anul%202/Semestrul%202/Bio-medical%20NLP/Project%20-%20Early%20Risk%20Detection%20of%20Pathological%20Gambling/Github/CLEF_eRisk/bioNLP_venv/lib/site-packages/joblib/parallel.py?line=859'>860</a>\u001b[0m \u001b[39melse\u001b[39;00m:\n\u001b[1;32m--> <a href='file:///d%3A/_School/Master%20AI%20%282020-2022%29/Anul%202/Semestrul%202/Bio-medical%20NLP/Project%20-%20Early%20Risk%20Detection%20of%20Pathological%20Gambling/Github/CLEF_eRisk/bioNLP_venv/lib/site-packages/joblib/parallel.py?line=860'>861</a>\u001b[0m     \u001b[39mself\u001b[39;49m\u001b[39m.\u001b[39;49m_dispatch(tasks)\n\u001b[0;32m    <a href='file:///d%3A/_School/Master%20AI%20%282020-2022%29/Anul%202/Semestrul%202/Bio-medical%20NLP/Project%20-%20Early%20Risk%20Detection%20of%20Pathological%20Gambling/Github/CLEF_eRisk/bioNLP_venv/lib/site-packages/joblib/parallel.py?line=861'>862</a>\u001b[0m     \u001b[39mreturn\u001b[39;00m \u001b[39mTrue\u001b[39;00m\n",
      "File \u001b[1;32md:\\_School\\Master AI (2020-2022)\\Anul 2\\Semestrul 2\\Bio-medical NLP\\Project - Early Risk Detection of Pathological Gambling\\Github\\CLEF_eRisk\\bioNLP_venv\\lib\\site-packages\\joblib\\parallel.py:779\u001b[0m, in \u001b[0;36mParallel._dispatch\u001b[1;34m(self, batch)\u001b[0m\n\u001b[0;32m    <a href='file:///d%3A/_School/Master%20AI%20%282020-2022%29/Anul%202/Semestrul%202/Bio-medical%20NLP/Project%20-%20Early%20Risk%20Detection%20of%20Pathological%20Gambling/Github/CLEF_eRisk/bioNLP_venv/lib/site-packages/joblib/parallel.py?line=776'>777</a>\u001b[0m \u001b[39mwith\u001b[39;00m \u001b[39mself\u001b[39m\u001b[39m.\u001b[39m_lock:\n\u001b[0;32m    <a href='file:///d%3A/_School/Master%20AI%20%282020-2022%29/Anul%202/Semestrul%202/Bio-medical%20NLP/Project%20-%20Early%20Risk%20Detection%20of%20Pathological%20Gambling/Github/CLEF_eRisk/bioNLP_venv/lib/site-packages/joblib/parallel.py?line=777'>778</a>\u001b[0m     job_idx \u001b[39m=\u001b[39m \u001b[39mlen\u001b[39m(\u001b[39mself\u001b[39m\u001b[39m.\u001b[39m_jobs)\n\u001b[1;32m--> <a href='file:///d%3A/_School/Master%20AI%20%282020-2022%29/Anul%202/Semestrul%202/Bio-medical%20NLP/Project%20-%20Early%20Risk%20Detection%20of%20Pathological%20Gambling/Github/CLEF_eRisk/bioNLP_venv/lib/site-packages/joblib/parallel.py?line=778'>779</a>\u001b[0m     job \u001b[39m=\u001b[39m \u001b[39mself\u001b[39;49m\u001b[39m.\u001b[39;49m_backend\u001b[39m.\u001b[39;49mapply_async(batch, callback\u001b[39m=\u001b[39;49mcb)\n\u001b[0;32m    <a href='file:///d%3A/_School/Master%20AI%20%282020-2022%29/Anul%202/Semestrul%202/Bio-medical%20NLP/Project%20-%20Early%20Risk%20Detection%20of%20Pathological%20Gambling/Github/CLEF_eRisk/bioNLP_venv/lib/site-packages/joblib/parallel.py?line=779'>780</a>\u001b[0m     \u001b[39m# A job can complete so quickly than its callback is\u001b[39;00m\n\u001b[0;32m    <a href='file:///d%3A/_School/Master%20AI%20%282020-2022%29/Anul%202/Semestrul%202/Bio-medical%20NLP/Project%20-%20Early%20Risk%20Detection%20of%20Pathological%20Gambling/Github/CLEF_eRisk/bioNLP_venv/lib/site-packages/joblib/parallel.py?line=780'>781</a>\u001b[0m     \u001b[39m# called before we get here, causing self._jobs to\u001b[39;00m\n\u001b[0;32m    <a href='file:///d%3A/_School/Master%20AI%20%282020-2022%29/Anul%202/Semestrul%202/Bio-medical%20NLP/Project%20-%20Early%20Risk%20Detection%20of%20Pathological%20Gambling/Github/CLEF_eRisk/bioNLP_venv/lib/site-packages/joblib/parallel.py?line=781'>782</a>\u001b[0m     \u001b[39m# grow. To ensure correct results ordering, .insert is\u001b[39;00m\n\u001b[0;32m    <a href='file:///d%3A/_School/Master%20AI%20%282020-2022%29/Anul%202/Semestrul%202/Bio-medical%20NLP/Project%20-%20Early%20Risk%20Detection%20of%20Pathological%20Gambling/Github/CLEF_eRisk/bioNLP_venv/lib/site-packages/joblib/parallel.py?line=782'>783</a>\u001b[0m     \u001b[39m# used (rather than .append) in the following line\u001b[39;00m\n\u001b[0;32m    <a href='file:///d%3A/_School/Master%20AI%20%282020-2022%29/Anul%202/Semestrul%202/Bio-medical%20NLP/Project%20-%20Early%20Risk%20Detection%20of%20Pathological%20Gambling/Github/CLEF_eRisk/bioNLP_venv/lib/site-packages/joblib/parallel.py?line=783'>784</a>\u001b[0m     \u001b[39mself\u001b[39m\u001b[39m.\u001b[39m_jobs\u001b[39m.\u001b[39minsert(job_idx, job)\n",
      "File \u001b[1;32md:\\_School\\Master AI (2020-2022)\\Anul 2\\Semestrul 2\\Bio-medical NLP\\Project - Early Risk Detection of Pathological Gambling\\Github\\CLEF_eRisk\\bioNLP_venv\\lib\\site-packages\\joblib\\_parallel_backends.py:208\u001b[0m, in \u001b[0;36mSequentialBackend.apply_async\u001b[1;34m(self, func, callback)\u001b[0m\n\u001b[0;32m    <a href='file:///d%3A/_School/Master%20AI%20%282020-2022%29/Anul%202/Semestrul%202/Bio-medical%20NLP/Project%20-%20Early%20Risk%20Detection%20of%20Pathological%20Gambling/Github/CLEF_eRisk/bioNLP_venv/lib/site-packages/joblib/_parallel_backends.py?line=205'>206</a>\u001b[0m \u001b[39mdef\u001b[39;00m \u001b[39mapply_async\u001b[39m(\u001b[39mself\u001b[39m, func, callback\u001b[39m=\u001b[39m\u001b[39mNone\u001b[39;00m):\n\u001b[0;32m    <a href='file:///d%3A/_School/Master%20AI%20%282020-2022%29/Anul%202/Semestrul%202/Bio-medical%20NLP/Project%20-%20Early%20Risk%20Detection%20of%20Pathological%20Gambling/Github/CLEF_eRisk/bioNLP_venv/lib/site-packages/joblib/_parallel_backends.py?line=206'>207</a>\u001b[0m     \u001b[39m\"\"\"Schedule a func to be run\"\"\"\u001b[39;00m\n\u001b[1;32m--> <a href='file:///d%3A/_School/Master%20AI%20%282020-2022%29/Anul%202/Semestrul%202/Bio-medical%20NLP/Project%20-%20Early%20Risk%20Detection%20of%20Pathological%20Gambling/Github/CLEF_eRisk/bioNLP_venv/lib/site-packages/joblib/_parallel_backends.py?line=207'>208</a>\u001b[0m     result \u001b[39m=\u001b[39m ImmediateResult(func)\n\u001b[0;32m    <a href='file:///d%3A/_School/Master%20AI%20%282020-2022%29/Anul%202/Semestrul%202/Bio-medical%20NLP/Project%20-%20Early%20Risk%20Detection%20of%20Pathological%20Gambling/Github/CLEF_eRisk/bioNLP_venv/lib/site-packages/joblib/_parallel_backends.py?line=208'>209</a>\u001b[0m     \u001b[39mif\u001b[39;00m callback:\n\u001b[0;32m    <a href='file:///d%3A/_School/Master%20AI%20%282020-2022%29/Anul%202/Semestrul%202/Bio-medical%20NLP/Project%20-%20Early%20Risk%20Detection%20of%20Pathological%20Gambling/Github/CLEF_eRisk/bioNLP_venv/lib/site-packages/joblib/_parallel_backends.py?line=209'>210</a>\u001b[0m         callback(result)\n",
      "File \u001b[1;32md:\\_School\\Master AI (2020-2022)\\Anul 2\\Semestrul 2\\Bio-medical NLP\\Project - Early Risk Detection of Pathological Gambling\\Github\\CLEF_eRisk\\bioNLP_venv\\lib\\site-packages\\joblib\\_parallel_backends.py:572\u001b[0m, in \u001b[0;36mImmediateResult.__init__\u001b[1;34m(self, batch)\u001b[0m\n\u001b[0;32m    <a href='file:///d%3A/_School/Master%20AI%20%282020-2022%29/Anul%202/Semestrul%202/Bio-medical%20NLP/Project%20-%20Early%20Risk%20Detection%20of%20Pathological%20Gambling/Github/CLEF_eRisk/bioNLP_venv/lib/site-packages/joblib/_parallel_backends.py?line=568'>569</a>\u001b[0m \u001b[39mdef\u001b[39;00m \u001b[39m__init__\u001b[39m(\u001b[39mself\u001b[39m, batch):\n\u001b[0;32m    <a href='file:///d%3A/_School/Master%20AI%20%282020-2022%29/Anul%202/Semestrul%202/Bio-medical%20NLP/Project%20-%20Early%20Risk%20Detection%20of%20Pathological%20Gambling/Github/CLEF_eRisk/bioNLP_venv/lib/site-packages/joblib/_parallel_backends.py?line=569'>570</a>\u001b[0m     \u001b[39m# Don't delay the application, to avoid keeping the input\u001b[39;00m\n\u001b[0;32m    <a href='file:///d%3A/_School/Master%20AI%20%282020-2022%29/Anul%202/Semestrul%202/Bio-medical%20NLP/Project%20-%20Early%20Risk%20Detection%20of%20Pathological%20Gambling/Github/CLEF_eRisk/bioNLP_venv/lib/site-packages/joblib/_parallel_backends.py?line=570'>571</a>\u001b[0m     \u001b[39m# arguments in memory\u001b[39;00m\n\u001b[1;32m--> <a href='file:///d%3A/_School/Master%20AI%20%282020-2022%29/Anul%202/Semestrul%202/Bio-medical%20NLP/Project%20-%20Early%20Risk%20Detection%20of%20Pathological%20Gambling/Github/CLEF_eRisk/bioNLP_venv/lib/site-packages/joblib/_parallel_backends.py?line=571'>572</a>\u001b[0m     \u001b[39mself\u001b[39m\u001b[39m.\u001b[39mresults \u001b[39m=\u001b[39m batch()\n",
      "File \u001b[1;32md:\\_School\\Master AI (2020-2022)\\Anul 2\\Semestrul 2\\Bio-medical NLP\\Project - Early Risk Detection of Pathological Gambling\\Github\\CLEF_eRisk\\bioNLP_venv\\lib\\site-packages\\joblib\\parallel.py:262\u001b[0m, in \u001b[0;36mBatchedCalls.__call__\u001b[1;34m(self)\u001b[0m\n\u001b[0;32m    <a href='file:///d%3A/_School/Master%20AI%20%282020-2022%29/Anul%202/Semestrul%202/Bio-medical%20NLP/Project%20-%20Early%20Risk%20Detection%20of%20Pathological%20Gambling/Github/CLEF_eRisk/bioNLP_venv/lib/site-packages/joblib/parallel.py?line=257'>258</a>\u001b[0m \u001b[39mdef\u001b[39;00m \u001b[39m__call__\u001b[39m(\u001b[39mself\u001b[39m):\n\u001b[0;32m    <a href='file:///d%3A/_School/Master%20AI%20%282020-2022%29/Anul%202/Semestrul%202/Bio-medical%20NLP/Project%20-%20Early%20Risk%20Detection%20of%20Pathological%20Gambling/Github/CLEF_eRisk/bioNLP_venv/lib/site-packages/joblib/parallel.py?line=258'>259</a>\u001b[0m     \u001b[39m# Set the default nested backend to self._backend but do not set the\u001b[39;00m\n\u001b[0;32m    <a href='file:///d%3A/_School/Master%20AI%20%282020-2022%29/Anul%202/Semestrul%202/Bio-medical%20NLP/Project%20-%20Early%20Risk%20Detection%20of%20Pathological%20Gambling/Github/CLEF_eRisk/bioNLP_venv/lib/site-packages/joblib/parallel.py?line=259'>260</a>\u001b[0m     \u001b[39m# change the default number of processes to -1\u001b[39;00m\n\u001b[0;32m    <a href='file:///d%3A/_School/Master%20AI%20%282020-2022%29/Anul%202/Semestrul%202/Bio-medical%20NLP/Project%20-%20Early%20Risk%20Detection%20of%20Pathological%20Gambling/Github/CLEF_eRisk/bioNLP_venv/lib/site-packages/joblib/parallel.py?line=260'>261</a>\u001b[0m     \u001b[39mwith\u001b[39;00m parallel_backend(\u001b[39mself\u001b[39m\u001b[39m.\u001b[39m_backend, n_jobs\u001b[39m=\u001b[39m\u001b[39mself\u001b[39m\u001b[39m.\u001b[39m_n_jobs):\n\u001b[1;32m--> <a href='file:///d%3A/_School/Master%20AI%20%282020-2022%29/Anul%202/Semestrul%202/Bio-medical%20NLP/Project%20-%20Early%20Risk%20Detection%20of%20Pathological%20Gambling/Github/CLEF_eRisk/bioNLP_venv/lib/site-packages/joblib/parallel.py?line=261'>262</a>\u001b[0m         \u001b[39mreturn\u001b[39;00m [func(\u001b[39m*\u001b[39margs, \u001b[39m*\u001b[39m\u001b[39m*\u001b[39mkwargs)\n\u001b[0;32m    <a href='file:///d%3A/_School/Master%20AI%20%282020-2022%29/Anul%202/Semestrul%202/Bio-medical%20NLP/Project%20-%20Early%20Risk%20Detection%20of%20Pathological%20Gambling/Github/CLEF_eRisk/bioNLP_venv/lib/site-packages/joblib/parallel.py?line=262'>263</a>\u001b[0m                 \u001b[39mfor\u001b[39;00m func, args, kwargs \u001b[39min\u001b[39;00m \u001b[39mself\u001b[39m\u001b[39m.\u001b[39mitems]\n",
      "File \u001b[1;32md:\\_School\\Master AI (2020-2022)\\Anul 2\\Semestrul 2\\Bio-medical NLP\\Project - Early Risk Detection of Pathological Gambling\\Github\\CLEF_eRisk\\bioNLP_venv\\lib\\site-packages\\joblib\\parallel.py:262\u001b[0m, in \u001b[0;36m<listcomp>\u001b[1;34m(.0)\u001b[0m\n\u001b[0;32m    <a href='file:///d%3A/_School/Master%20AI%20%282020-2022%29/Anul%202/Semestrul%202/Bio-medical%20NLP/Project%20-%20Early%20Risk%20Detection%20of%20Pathological%20Gambling/Github/CLEF_eRisk/bioNLP_venv/lib/site-packages/joblib/parallel.py?line=257'>258</a>\u001b[0m \u001b[39mdef\u001b[39;00m \u001b[39m__call__\u001b[39m(\u001b[39mself\u001b[39m):\n\u001b[0;32m    <a href='file:///d%3A/_School/Master%20AI%20%282020-2022%29/Anul%202/Semestrul%202/Bio-medical%20NLP/Project%20-%20Early%20Risk%20Detection%20of%20Pathological%20Gambling/Github/CLEF_eRisk/bioNLP_venv/lib/site-packages/joblib/parallel.py?line=258'>259</a>\u001b[0m     \u001b[39m# Set the default nested backend to self._backend but do not set the\u001b[39;00m\n\u001b[0;32m    <a href='file:///d%3A/_School/Master%20AI%20%282020-2022%29/Anul%202/Semestrul%202/Bio-medical%20NLP/Project%20-%20Early%20Risk%20Detection%20of%20Pathological%20Gambling/Github/CLEF_eRisk/bioNLP_venv/lib/site-packages/joblib/parallel.py?line=259'>260</a>\u001b[0m     \u001b[39m# change the default number of processes to -1\u001b[39;00m\n\u001b[0;32m    <a href='file:///d%3A/_School/Master%20AI%20%282020-2022%29/Anul%202/Semestrul%202/Bio-medical%20NLP/Project%20-%20Early%20Risk%20Detection%20of%20Pathological%20Gambling/Github/CLEF_eRisk/bioNLP_venv/lib/site-packages/joblib/parallel.py?line=260'>261</a>\u001b[0m     \u001b[39mwith\u001b[39;00m parallel_backend(\u001b[39mself\u001b[39m\u001b[39m.\u001b[39m_backend, n_jobs\u001b[39m=\u001b[39m\u001b[39mself\u001b[39m\u001b[39m.\u001b[39m_n_jobs):\n\u001b[1;32m--> <a href='file:///d%3A/_School/Master%20AI%20%282020-2022%29/Anul%202/Semestrul%202/Bio-medical%20NLP/Project%20-%20Early%20Risk%20Detection%20of%20Pathological%20Gambling/Github/CLEF_eRisk/bioNLP_venv/lib/site-packages/joblib/parallel.py?line=261'>262</a>\u001b[0m         \u001b[39mreturn\u001b[39;00m [func(\u001b[39m*\u001b[39margs, \u001b[39m*\u001b[39m\u001b[39m*\u001b[39mkwargs)\n\u001b[0;32m    <a href='file:///d%3A/_School/Master%20AI%20%282020-2022%29/Anul%202/Semestrul%202/Bio-medical%20NLP/Project%20-%20Early%20Risk%20Detection%20of%20Pathological%20Gambling/Github/CLEF_eRisk/bioNLP_venv/lib/site-packages/joblib/parallel.py?line=262'>263</a>\u001b[0m                 \u001b[39mfor\u001b[39;00m func, args, kwargs \u001b[39min\u001b[39;00m \u001b[39mself\u001b[39m\u001b[39m.\u001b[39mitems]\n",
      "File \u001b[1;32md:\\_School\\Master AI (2020-2022)\\Anul 2\\Semestrul 2\\Bio-medical NLP\\Project - Early Risk Detection of Pathological Gambling\\Github\\CLEF_eRisk\\bioNLP_venv\\lib\\site-packages\\sklearn\\utils\\fixes.py:216\u001b[0m, in \u001b[0;36m_FuncWrapper.__call__\u001b[1;34m(self, *args, **kwargs)\u001b[0m\n\u001b[0;32m    <a href='file:///d%3A/_School/Master%20AI%20%282020-2022%29/Anul%202/Semestrul%202/Bio-medical%20NLP/Project%20-%20Early%20Risk%20Detection%20of%20Pathological%20Gambling/Github/CLEF_eRisk/bioNLP_venv/lib/site-packages/sklearn/utils/fixes.py?line=213'>214</a>\u001b[0m \u001b[39mdef\u001b[39;00m \u001b[39m__call__\u001b[39m(\u001b[39mself\u001b[39m, \u001b[39m*\u001b[39margs, \u001b[39m*\u001b[39m\u001b[39m*\u001b[39mkwargs):\n\u001b[0;32m    <a href='file:///d%3A/_School/Master%20AI%20%282020-2022%29/Anul%202/Semestrul%202/Bio-medical%20NLP/Project%20-%20Early%20Risk%20Detection%20of%20Pathological%20Gambling/Github/CLEF_eRisk/bioNLP_venv/lib/site-packages/sklearn/utils/fixes.py?line=214'>215</a>\u001b[0m     \u001b[39mwith\u001b[39;00m config_context(\u001b[39m*\u001b[39m\u001b[39m*\u001b[39m\u001b[39mself\u001b[39m\u001b[39m.\u001b[39mconfig):\n\u001b[1;32m--> <a href='file:///d%3A/_School/Master%20AI%20%282020-2022%29/Anul%202/Semestrul%202/Bio-medical%20NLP/Project%20-%20Early%20Risk%20Detection%20of%20Pathological%20Gambling/Github/CLEF_eRisk/bioNLP_venv/lib/site-packages/sklearn/utils/fixes.py?line=215'>216</a>\u001b[0m         \u001b[39mreturn\u001b[39;00m \u001b[39mself\u001b[39m\u001b[39m.\u001b[39mfunction(\u001b[39m*\u001b[39margs, \u001b[39m*\u001b[39m\u001b[39m*\u001b[39mkwargs)\n",
      "File \u001b[1;32md:\\_School\\Master AI (2020-2022)\\Anul 2\\Semestrul 2\\Bio-medical NLP\\Project - Early Risk Detection of Pathological Gambling\\Github\\CLEF_eRisk\\bioNLP_venv\\lib\\site-packages\\sklearn\\linear_model\\_logistic.py:806\u001b[0m, in \u001b[0;36m_logistic_regression_path\u001b[1;34m(X, y, pos_class, Cs, fit_intercept, max_iter, tol, verbose, solver, coef, class_weight, dual, penalty, intercept_scaling, multi_class, random_state, check_input, max_squared_sum, sample_weight, l1_ratio)\u001b[0m\n\u001b[0;32m    <a href='file:///d%3A/_School/Master%20AI%20%282020-2022%29/Anul%202/Semestrul%202/Bio-medical%20NLP/Project%20-%20Early%20Risk%20Detection%20of%20Pathological%20Gambling/Github/CLEF_eRisk/bioNLP_venv/lib/site-packages/sklearn/linear_model/_logistic.py?line=801'>802</a>\u001b[0m \u001b[39mif\u001b[39;00m solver \u001b[39m==\u001b[39m \u001b[39m\"\u001b[39m\u001b[39mlbfgs\u001b[39m\u001b[39m\"\u001b[39m:\n\u001b[0;32m    <a href='file:///d%3A/_School/Master%20AI%20%282020-2022%29/Anul%202/Semestrul%202/Bio-medical%20NLP/Project%20-%20Early%20Risk%20Detection%20of%20Pathological%20Gambling/Github/CLEF_eRisk/bioNLP_venv/lib/site-packages/sklearn/linear_model/_logistic.py?line=802'>803</a>\u001b[0m     iprint \u001b[39m=\u001b[39m [\u001b[39m-\u001b[39m\u001b[39m1\u001b[39m, \u001b[39m50\u001b[39m, \u001b[39m1\u001b[39m, \u001b[39m100\u001b[39m, \u001b[39m101\u001b[39m][\n\u001b[0;32m    <a href='file:///d%3A/_School/Master%20AI%20%282020-2022%29/Anul%202/Semestrul%202/Bio-medical%20NLP/Project%20-%20Early%20Risk%20Detection%20of%20Pathological%20Gambling/Github/CLEF_eRisk/bioNLP_venv/lib/site-packages/sklearn/linear_model/_logistic.py?line=803'>804</a>\u001b[0m         np\u001b[39m.\u001b[39msearchsorted(np\u001b[39m.\u001b[39marray([\u001b[39m0\u001b[39m, \u001b[39m1\u001b[39m, \u001b[39m2\u001b[39m, \u001b[39m3\u001b[39m]), verbose)\n\u001b[0;32m    <a href='file:///d%3A/_School/Master%20AI%20%282020-2022%29/Anul%202/Semestrul%202/Bio-medical%20NLP/Project%20-%20Early%20Risk%20Detection%20of%20Pathological%20Gambling/Github/CLEF_eRisk/bioNLP_venv/lib/site-packages/sklearn/linear_model/_logistic.py?line=804'>805</a>\u001b[0m     ]\n\u001b[1;32m--> <a href='file:///d%3A/_School/Master%20AI%20%282020-2022%29/Anul%202/Semestrul%202/Bio-medical%20NLP/Project%20-%20Early%20Risk%20Detection%20of%20Pathological%20Gambling/Github/CLEF_eRisk/bioNLP_venv/lib/site-packages/sklearn/linear_model/_logistic.py?line=805'>806</a>\u001b[0m     opt_res \u001b[39m=\u001b[39m optimize\u001b[39m.\u001b[39;49mminimize(\n\u001b[0;32m    <a href='file:///d%3A/_School/Master%20AI%20%282020-2022%29/Anul%202/Semestrul%202/Bio-medical%20NLP/Project%20-%20Early%20Risk%20Detection%20of%20Pathological%20Gambling/Github/CLEF_eRisk/bioNLP_venv/lib/site-packages/sklearn/linear_model/_logistic.py?line=806'>807</a>\u001b[0m         func,\n\u001b[0;32m    <a href='file:///d%3A/_School/Master%20AI%20%282020-2022%29/Anul%202/Semestrul%202/Bio-medical%20NLP/Project%20-%20Early%20Risk%20Detection%20of%20Pathological%20Gambling/Github/CLEF_eRisk/bioNLP_venv/lib/site-packages/sklearn/linear_model/_logistic.py?line=807'>808</a>\u001b[0m         w0,\n\u001b[0;32m    <a href='file:///d%3A/_School/Master%20AI%20%282020-2022%29/Anul%202/Semestrul%202/Bio-medical%20NLP/Project%20-%20Early%20Risk%20Detection%20of%20Pathological%20Gambling/Github/CLEF_eRisk/bioNLP_venv/lib/site-packages/sklearn/linear_model/_logistic.py?line=808'>809</a>\u001b[0m         method\u001b[39m=\u001b[39;49m\u001b[39m\"\u001b[39;49m\u001b[39mL-BFGS-B\u001b[39;49m\u001b[39m\"\u001b[39;49m,\n\u001b[0;32m    <a href='file:///d%3A/_School/Master%20AI%20%282020-2022%29/Anul%202/Semestrul%202/Bio-medical%20NLP/Project%20-%20Early%20Risk%20Detection%20of%20Pathological%20Gambling/Github/CLEF_eRisk/bioNLP_venv/lib/site-packages/sklearn/linear_model/_logistic.py?line=809'>810</a>\u001b[0m         jac\u001b[39m=\u001b[39;49m\u001b[39mTrue\u001b[39;49;00m,\n\u001b[0;32m    <a href='file:///d%3A/_School/Master%20AI%20%282020-2022%29/Anul%202/Semestrul%202/Bio-medical%20NLP/Project%20-%20Early%20Risk%20Detection%20of%20Pathological%20Gambling/Github/CLEF_eRisk/bioNLP_venv/lib/site-packages/sklearn/linear_model/_logistic.py?line=810'>811</a>\u001b[0m         args\u001b[39m=\u001b[39;49m(X, target, \u001b[39m1.0\u001b[39;49m \u001b[39m/\u001b[39;49m C, sample_weight),\n\u001b[0;32m    <a href='file:///d%3A/_School/Master%20AI%20%282020-2022%29/Anul%202/Semestrul%202/Bio-medical%20NLP/Project%20-%20Early%20Risk%20Detection%20of%20Pathological%20Gambling/Github/CLEF_eRisk/bioNLP_venv/lib/site-packages/sklearn/linear_model/_logistic.py?line=811'>812</a>\u001b[0m         options\u001b[39m=\u001b[39;49m{\u001b[39m\"\u001b[39;49m\u001b[39miprint\u001b[39;49m\u001b[39m\"\u001b[39;49m: iprint, \u001b[39m\"\u001b[39;49m\u001b[39mgtol\u001b[39;49m\u001b[39m\"\u001b[39;49m: tol, \u001b[39m\"\u001b[39;49m\u001b[39mmaxiter\u001b[39;49m\u001b[39m\"\u001b[39;49m: max_iter},\n\u001b[0;32m    <a href='file:///d%3A/_School/Master%20AI%20%282020-2022%29/Anul%202/Semestrul%202/Bio-medical%20NLP/Project%20-%20Early%20Risk%20Detection%20of%20Pathological%20Gambling/Github/CLEF_eRisk/bioNLP_venv/lib/site-packages/sklearn/linear_model/_logistic.py?line=812'>813</a>\u001b[0m     )\n\u001b[0;32m    <a href='file:///d%3A/_School/Master%20AI%20%282020-2022%29/Anul%202/Semestrul%202/Bio-medical%20NLP/Project%20-%20Early%20Risk%20Detection%20of%20Pathological%20Gambling/Github/CLEF_eRisk/bioNLP_venv/lib/site-packages/sklearn/linear_model/_logistic.py?line=813'>814</a>\u001b[0m     n_iter_i \u001b[39m=\u001b[39m _check_optimize_result(\n\u001b[0;32m    <a href='file:///d%3A/_School/Master%20AI%20%282020-2022%29/Anul%202/Semestrul%202/Bio-medical%20NLP/Project%20-%20Early%20Risk%20Detection%20of%20Pathological%20Gambling/Github/CLEF_eRisk/bioNLP_venv/lib/site-packages/sklearn/linear_model/_logistic.py?line=814'>815</a>\u001b[0m         solver,\n\u001b[0;32m    <a href='file:///d%3A/_School/Master%20AI%20%282020-2022%29/Anul%202/Semestrul%202/Bio-medical%20NLP/Project%20-%20Early%20Risk%20Detection%20of%20Pathological%20Gambling/Github/CLEF_eRisk/bioNLP_venv/lib/site-packages/sklearn/linear_model/_logistic.py?line=815'>816</a>\u001b[0m         opt_res,\n\u001b[0;32m    <a href='file:///d%3A/_School/Master%20AI%20%282020-2022%29/Anul%202/Semestrul%202/Bio-medical%20NLP/Project%20-%20Early%20Risk%20Detection%20of%20Pathological%20Gambling/Github/CLEF_eRisk/bioNLP_venv/lib/site-packages/sklearn/linear_model/_logistic.py?line=816'>817</a>\u001b[0m         max_iter,\n\u001b[0;32m    <a href='file:///d%3A/_School/Master%20AI%20%282020-2022%29/Anul%202/Semestrul%202/Bio-medical%20NLP/Project%20-%20Early%20Risk%20Detection%20of%20Pathological%20Gambling/Github/CLEF_eRisk/bioNLP_venv/lib/site-packages/sklearn/linear_model/_logistic.py?line=817'>818</a>\u001b[0m         extra_warning_msg\u001b[39m=\u001b[39m_LOGISTIC_SOLVER_CONVERGENCE_MSG,\n\u001b[0;32m    <a href='file:///d%3A/_School/Master%20AI%20%282020-2022%29/Anul%202/Semestrul%202/Bio-medical%20NLP/Project%20-%20Early%20Risk%20Detection%20of%20Pathological%20Gambling/Github/CLEF_eRisk/bioNLP_venv/lib/site-packages/sklearn/linear_model/_logistic.py?line=818'>819</a>\u001b[0m     )\n\u001b[0;32m    <a href='file:///d%3A/_School/Master%20AI%20%282020-2022%29/Anul%202/Semestrul%202/Bio-medical%20NLP/Project%20-%20Early%20Risk%20Detection%20of%20Pathological%20Gambling/Github/CLEF_eRisk/bioNLP_venv/lib/site-packages/sklearn/linear_model/_logistic.py?line=819'>820</a>\u001b[0m     w0, loss \u001b[39m=\u001b[39m opt_res\u001b[39m.\u001b[39mx, opt_res\u001b[39m.\u001b[39mfun\n",
      "File \u001b[1;32md:\\_School\\Master AI (2020-2022)\\Anul 2\\Semestrul 2\\Bio-medical NLP\\Project - Early Risk Detection of Pathological Gambling\\Github\\CLEF_eRisk\\bioNLP_venv\\lib\\site-packages\\scipy\\optimize\\_minimize.py:681\u001b[0m, in \u001b[0;36mminimize\u001b[1;34m(fun, x0, args, method, jac, hess, hessp, bounds, constraints, tol, callback, options)\u001b[0m\n\u001b[0;32m    <a href='file:///d%3A/_School/Master%20AI%20%282020-2022%29/Anul%202/Semestrul%202/Bio-medical%20NLP/Project%20-%20Early%20Risk%20Detection%20of%20Pathological%20Gambling/Github/CLEF_eRisk/bioNLP_venv/lib/site-packages/scipy/optimize/_minimize.py?line=677'>678</a>\u001b[0m     res \u001b[39m=\u001b[39m _minimize_newtoncg(fun, x0, args, jac, hess, hessp, callback,\n\u001b[0;32m    <a href='file:///d%3A/_School/Master%20AI%20%282020-2022%29/Anul%202/Semestrul%202/Bio-medical%20NLP/Project%20-%20Early%20Risk%20Detection%20of%20Pathological%20Gambling/Github/CLEF_eRisk/bioNLP_venv/lib/site-packages/scipy/optimize/_minimize.py?line=678'>679</a>\u001b[0m                              \u001b[39m*\u001b[39m\u001b[39m*\u001b[39moptions)\n\u001b[0;32m    <a href='file:///d%3A/_School/Master%20AI%20%282020-2022%29/Anul%202/Semestrul%202/Bio-medical%20NLP/Project%20-%20Early%20Risk%20Detection%20of%20Pathological%20Gambling/Github/CLEF_eRisk/bioNLP_venv/lib/site-packages/scipy/optimize/_minimize.py?line=679'>680</a>\u001b[0m \u001b[39melif\u001b[39;00m meth \u001b[39m==\u001b[39m \u001b[39m'\u001b[39m\u001b[39ml-bfgs-b\u001b[39m\u001b[39m'\u001b[39m:\n\u001b[1;32m--> <a href='file:///d%3A/_School/Master%20AI%20%282020-2022%29/Anul%202/Semestrul%202/Bio-medical%20NLP/Project%20-%20Early%20Risk%20Detection%20of%20Pathological%20Gambling/Github/CLEF_eRisk/bioNLP_venv/lib/site-packages/scipy/optimize/_minimize.py?line=680'>681</a>\u001b[0m     res \u001b[39m=\u001b[39m _minimize_lbfgsb(fun, x0, args, jac, bounds,\n\u001b[0;32m    <a href='file:///d%3A/_School/Master%20AI%20%282020-2022%29/Anul%202/Semestrul%202/Bio-medical%20NLP/Project%20-%20Early%20Risk%20Detection%20of%20Pathological%20Gambling/Github/CLEF_eRisk/bioNLP_venv/lib/site-packages/scipy/optimize/_minimize.py?line=681'>682</a>\u001b[0m                            callback\u001b[39m=\u001b[39mcallback, \u001b[39m*\u001b[39m\u001b[39m*\u001b[39moptions)\n\u001b[0;32m    <a href='file:///d%3A/_School/Master%20AI%20%282020-2022%29/Anul%202/Semestrul%202/Bio-medical%20NLP/Project%20-%20Early%20Risk%20Detection%20of%20Pathological%20Gambling/Github/CLEF_eRisk/bioNLP_venv/lib/site-packages/scipy/optimize/_minimize.py?line=682'>683</a>\u001b[0m \u001b[39melif\u001b[39;00m meth \u001b[39m==\u001b[39m \u001b[39m'\u001b[39m\u001b[39mtnc\u001b[39m\u001b[39m'\u001b[39m:\n\u001b[0;32m    <a href='file:///d%3A/_School/Master%20AI%20%282020-2022%29/Anul%202/Semestrul%202/Bio-medical%20NLP/Project%20-%20Early%20Risk%20Detection%20of%20Pathological%20Gambling/Github/CLEF_eRisk/bioNLP_venv/lib/site-packages/scipy/optimize/_minimize.py?line=683'>684</a>\u001b[0m     res \u001b[39m=\u001b[39m _minimize_tnc(fun, x0, args, jac, bounds, callback\u001b[39m=\u001b[39mcallback,\n\u001b[0;32m    <a href='file:///d%3A/_School/Master%20AI%20%282020-2022%29/Anul%202/Semestrul%202/Bio-medical%20NLP/Project%20-%20Early%20Risk%20Detection%20of%20Pathological%20Gambling/Github/CLEF_eRisk/bioNLP_venv/lib/site-packages/scipy/optimize/_minimize.py?line=684'>685</a>\u001b[0m                         \u001b[39m*\u001b[39m\u001b[39m*\u001b[39moptions)\n",
      "File \u001b[1;32md:\\_School\\Master AI (2020-2022)\\Anul 2\\Semestrul 2\\Bio-medical NLP\\Project - Early Risk Detection of Pathological Gambling\\Github\\CLEF_eRisk\\bioNLP_venv\\lib\\site-packages\\scipy\\optimize\\_lbfgsb_py.py:292\u001b[0m, in \u001b[0;36m_minimize_lbfgsb\u001b[1;34m(fun, x0, args, jac, bounds, disp, maxcor, ftol, gtol, eps, maxfun, maxiter, iprint, callback, maxls, finite_diff_rel_step, **unknown_options)\u001b[0m\n\u001b[0;32m    <a href='file:///d%3A/_School/Master%20AI%20%282020-2022%29/Anul%202/Semestrul%202/Bio-medical%20NLP/Project%20-%20Early%20Risk%20Detection%20of%20Pathological%20Gambling/Github/CLEF_eRisk/bioNLP_venv/lib/site-packages/scipy/optimize/_lbfgsb_py.py?line=288'>289</a>\u001b[0m bounds \u001b[39m=\u001b[39m [(\u001b[39mNone\u001b[39;00m \u001b[39mif\u001b[39;00m l \u001b[39m==\u001b[39m \u001b[39m-\u001b[39mnp\u001b[39m.\u001b[39minf \u001b[39melse\u001b[39;00m l, \u001b[39mNone\u001b[39;00m \u001b[39mif\u001b[39;00m u \u001b[39m==\u001b[39m np\u001b[39m.\u001b[39minf \u001b[39melse\u001b[39;00m u) \u001b[39mfor\u001b[39;00m l, u \u001b[39min\u001b[39;00m bounds]\n\u001b[0;32m    <a href='file:///d%3A/_School/Master%20AI%20%282020-2022%29/Anul%202/Semestrul%202/Bio-medical%20NLP/Project%20-%20Early%20Risk%20Detection%20of%20Pathological%20Gambling/Github/CLEF_eRisk/bioNLP_venv/lib/site-packages/scipy/optimize/_lbfgsb_py.py?line=289'>290</a>\u001b[0m \u001b[39m# LBFGSB is sent 'old-style' bounds, 'new-style' bounds are required by\u001b[39;00m\n\u001b[0;32m    <a href='file:///d%3A/_School/Master%20AI%20%282020-2022%29/Anul%202/Semestrul%202/Bio-medical%20NLP/Project%20-%20Early%20Risk%20Detection%20of%20Pathological%20Gambling/Github/CLEF_eRisk/bioNLP_venv/lib/site-packages/scipy/optimize/_lbfgsb_py.py?line=290'>291</a>\u001b[0m \u001b[39m# approx_derivative and ScalarFunction\u001b[39;00m\n\u001b[1;32m--> <a href='file:///d%3A/_School/Master%20AI%20%282020-2022%29/Anul%202/Semestrul%202/Bio-medical%20NLP/Project%20-%20Early%20Risk%20Detection%20of%20Pathological%20Gambling/Github/CLEF_eRisk/bioNLP_venv/lib/site-packages/scipy/optimize/_lbfgsb_py.py?line=291'>292</a>\u001b[0m new_bounds \u001b[39m=\u001b[39m old_bound_to_new(bounds)\n\u001b[0;32m    <a href='file:///d%3A/_School/Master%20AI%20%282020-2022%29/Anul%202/Semestrul%202/Bio-medical%20NLP/Project%20-%20Early%20Risk%20Detection%20of%20Pathological%20Gambling/Github/CLEF_eRisk/bioNLP_venv/lib/site-packages/scipy/optimize/_lbfgsb_py.py?line=293'>294</a>\u001b[0m \u001b[39m# check bounds\u001b[39;00m\n\u001b[0;32m    <a href='file:///d%3A/_School/Master%20AI%20%282020-2022%29/Anul%202/Semestrul%202/Bio-medical%20NLP/Project%20-%20Early%20Risk%20Detection%20of%20Pathological%20Gambling/Github/CLEF_eRisk/bioNLP_venv/lib/site-packages/scipy/optimize/_lbfgsb_py.py?line=294'>295</a>\u001b[0m \u001b[39mif\u001b[39;00m (new_bounds[\u001b[39m0\u001b[39m] \u001b[39m>\u001b[39m new_bounds[\u001b[39m1\u001b[39m])\u001b[39m.\u001b[39many():\n",
      "File \u001b[1;32md:\\_School\\Master AI (2020-2022)\\Anul 2\\Semestrul 2\\Bio-medical NLP\\Project - Early Risk Detection of Pathological Gambling\\Github\\CLEF_eRisk\\bioNLP_venv\\lib\\site-packages\\scipy\\optimize\\_constraints.py:325\u001b[0m, in \u001b[0;36mold_bound_to_new\u001b[1;34m(bounds)\u001b[0m\n\u001b[0;32m    <a href='file:///d%3A/_School/Master%20AI%20%282020-2022%29/Anul%202/Semestrul%202/Bio-medical%20NLP/Project%20-%20Early%20Risk%20Detection%20of%20Pathological%20Gambling/Github/CLEF_eRisk/bioNLP_venv/lib/site-packages/scipy/optimize/_constraints.py?line=315'>316</a>\u001b[0m \u001b[39mdef\u001b[39;00m \u001b[39mold_bound_to_new\u001b[39m(bounds):\n\u001b[0;32m    <a href='file:///d%3A/_School/Master%20AI%20%282020-2022%29/Anul%202/Semestrul%202/Bio-medical%20NLP/Project%20-%20Early%20Risk%20Detection%20of%20Pathological%20Gambling/Github/CLEF_eRisk/bioNLP_venv/lib/site-packages/scipy/optimize/_constraints.py?line=316'>317</a>\u001b[0m     \u001b[39m\"\"\"Convert the old bounds representation to the new one.\u001b[39;00m\n\u001b[0;32m    <a href='file:///d%3A/_School/Master%20AI%20%282020-2022%29/Anul%202/Semestrul%202/Bio-medical%20NLP/Project%20-%20Early%20Risk%20Detection%20of%20Pathological%20Gambling/Github/CLEF_eRisk/bioNLP_venv/lib/site-packages/scipy/optimize/_constraints.py?line=317'>318</a>\u001b[0m \n\u001b[0;32m    <a href='file:///d%3A/_School/Master%20AI%20%282020-2022%29/Anul%202/Semestrul%202/Bio-medical%20NLP/Project%20-%20Early%20Risk%20Detection%20of%20Pathological%20Gambling/Github/CLEF_eRisk/bioNLP_venv/lib/site-packages/scipy/optimize/_constraints.py?line=318'>319</a>\u001b[0m \u001b[39m    The new representation is a tuple (lb, ub) and the old one is a list\u001b[39;00m\n\u001b[1;32m   (...)\u001b[0m\n\u001b[0;32m    <a href='file:///d%3A/_School/Master%20AI%20%282020-2022%29/Anul%202/Semestrul%202/Bio-medical%20NLP/Project%20-%20Early%20Risk%20Detection%20of%20Pathological%20Gambling/Github/CLEF_eRisk/bioNLP_venv/lib/site-packages/scipy/optimize/_constraints.py?line=322'>323</a>\u001b[0m \u001b[39m    -np.inf/np.inf.\u001b[39;00m\n\u001b[0;32m    <a href='file:///d%3A/_School/Master%20AI%20%282020-2022%29/Anul%202/Semestrul%202/Bio-medical%20NLP/Project%20-%20Early%20Risk%20Detection%20of%20Pathological%20Gambling/Github/CLEF_eRisk/bioNLP_venv/lib/site-packages/scipy/optimize/_constraints.py?line=323'>324</a>\u001b[0m \u001b[39m    \"\"\"\u001b[39;00m\n\u001b[1;32m--> <a href='file:///d%3A/_School/Master%20AI%20%282020-2022%29/Anul%202/Semestrul%202/Bio-medical%20NLP/Project%20-%20Early%20Risk%20Detection%20of%20Pathological%20Gambling/Github/CLEF_eRisk/bioNLP_venv/lib/site-packages/scipy/optimize/_constraints.py?line=324'>325</a>\u001b[0m     lb, ub \u001b[39m=\u001b[39m \u001b[39mzip\u001b[39m(\u001b[39m*\u001b[39mbounds)\n\u001b[0;32m    <a href='file:///d%3A/_School/Master%20AI%20%282020-2022%29/Anul%202/Semestrul%202/Bio-medical%20NLP/Project%20-%20Early%20Risk%20Detection%20of%20Pathological%20Gambling/Github/CLEF_eRisk/bioNLP_venv/lib/site-packages/scipy/optimize/_constraints.py?line=326'>327</a>\u001b[0m     \u001b[39m# Convert occurrences of None to -inf or inf, and replace occurrences of\u001b[39;00m\n\u001b[0;32m    <a href='file:///d%3A/_School/Master%20AI%20%282020-2022%29/Anul%202/Semestrul%202/Bio-medical%20NLP/Project%20-%20Early%20Risk%20Detection%20of%20Pathological%20Gambling/Github/CLEF_eRisk/bioNLP_venv/lib/site-packages/scipy/optimize/_constraints.py?line=327'>328</a>\u001b[0m     \u001b[39m# any numpy array x with x.item(). Then wrap the results in numpy arrays.\u001b[39;00m\n\u001b[0;32m    <a href='file:///d%3A/_School/Master%20AI%20%282020-2022%29/Anul%202/Semestrul%202/Bio-medical%20NLP/Project%20-%20Early%20Risk%20Detection%20of%20Pathological%20Gambling/Github/CLEF_eRisk/bioNLP_venv/lib/site-packages/scipy/optimize/_constraints.py?line=328'>329</a>\u001b[0m     lb \u001b[39m=\u001b[39m np\u001b[39m.\u001b[39marray([\u001b[39mfloat\u001b[39m(_arr_to_scalar(x)) \u001b[39mif\u001b[39;00m x \u001b[39mis\u001b[39;00m \u001b[39mnot\u001b[39;00m \u001b[39mNone\u001b[39;00m \u001b[39melse\u001b[39;00m \u001b[39m-\u001b[39mnp\u001b[39m.\u001b[39minf\n\u001b[0;32m    <a href='file:///d%3A/_School/Master%20AI%20%282020-2022%29/Anul%202/Semestrul%202/Bio-medical%20NLP/Project%20-%20Early%20Risk%20Detection%20of%20Pathological%20Gambling/Github/CLEF_eRisk/bioNLP_venv/lib/site-packages/scipy/optimize/_constraints.py?line=329'>330</a>\u001b[0m                    \u001b[39mfor\u001b[39;00m x \u001b[39min\u001b[39;00m lb])\n",
      "\u001b[1;31mKeyboardInterrupt\u001b[0m: "
     ]
    }
   ],
   "source": [
    "start_ML_pipeline()"
   ]
  },
  {
   "cell_type": "markdown",
   "metadata": {},
   "source": [
    "### Create a dataset with individual posts:\n",
    "- labeled separately for label=1\n",
    "- chunks of 20 posts for label=0"
   ]
  },
  {
   "cell_type": "code",
   "execution_count": 220,
   "metadata": {},
   "outputs": [],
   "source": [
    "def create_dataset_single_posts():\n",
    "   # Create the train dataset from the subjects' posts and label.\n",
    "   txt_path = glob('../data/processed/*')\n",
    "   rows_data = []\n",
    "   chunks = 20\n",
    "   for path in txt_path:\n",
    "      with open(path, 'r+') as f:\n",
    "         # Split the path, get the filename \n",
    "         # (which contains the subject) and remove '.txt'\n",
    "         subject = path.split('\\\\')[1][:-4]\n",
    "         txt = f.read()\n",
    "         txt = txt.split('\\n')\n",
    "         label = labels[subject]\n",
    "         i = 0\n",
    "         chunked_posts = []\n",
    "         for post in txt:\n",
    "            # For the posts with label 1, store them individually.\n",
    "            if label == 1:\n",
    "               rows_data.append((subject, post, label))\n",
    "            # For the posts with label 0, form chunks of 20 posts.\n",
    "            else:\n",
    "               i +=1\n",
    "               chunked_posts.append(post)\n",
    "               if i == chunks:\n",
    "                  chunked_posts = \" \".join(chunked_posts)\n",
    "                  rows_data.append((subject, chunked_posts, label))\n",
    "                  chunked_posts = []\n",
    "                  i = 0\n",
    "\n",
    "   # Training dataset.\n",
    "   train_data = pd.DataFrame(rows_data, columns=['Subject', 'Text', 'Label'])\n",
    "   return train_data"
   ]
  },
  {
   "cell_type": "code",
   "execution_count": 221,
   "metadata": {},
   "outputs": [
    {
     "data": {
      "text/html": [
       "<div>\n",
       "<style scoped>\n",
       "    .dataframe tbody tr th:only-of-type {\n",
       "        vertical-align: middle;\n",
       "    }\n",
       "\n",
       "    .dataframe tbody tr th {\n",
       "        vertical-align: top;\n",
       "    }\n",
       "\n",
       "    .dataframe thead th {\n",
       "        text-align: right;\n",
       "    }\n",
       "</style>\n",
       "<table border=\"1\" class=\"dataframe\">\n",
       "  <thead>\n",
       "    <tr style=\"text-align: right;\">\n",
       "      <th></th>\n",
       "      <th>Subject</th>\n",
       "      <th>Text</th>\n",
       "      <th>Label</th>\n",
       "    </tr>\n",
       "  </thead>\n",
       "  <tbody>\n",
       "    <tr>\n",
       "      <th>0</th>\n",
       "      <td>subject1</td>\n",
       "      <td>Vulcan's ultimate landing at max range is so s...</td>\n",
       "      <td>0</td>\n",
       "    </tr>\n",
       "    <tr>\n",
       "      <th>1</th>\n",
       "      <td>subject1</td>\n",
       "      <td>Idk if it is broken or not but I've noticed th...</td>\n",
       "      <td>0</td>\n",
       "    </tr>\n",
       "    <tr>\n",
       "      <th>2</th>\n",
       "      <td>subject1</td>\n",
       "      <td>Nope. I've been playing normally. I play EU th...</td>\n",
       "      <td>0</td>\n",
       "    </tr>\n",
       "    <tr>\n",
       "      <th>3</th>\n",
       "      <td>subject1</td>\n",
       "      <td>How can i rebuild it? Ok thanky you. I'll try ...</td>\n",
       "      <td>0</td>\n",
       "    </tr>\n",
       "    <tr>\n",
       "      <th>4</th>\n",
       "      <td>subject1</td>\n",
       "      <td>Oh i didn't know that. Let's hope the new syst...</td>\n",
       "      <td>0</td>\n",
       "    </tr>\n",
       "    <tr>\n",
       "      <th>...</th>\n",
       "      <td>...</td>\n",
       "      <td>...</td>\n",
       "      <td>...</td>\n",
       "    </tr>\n",
       "    <tr>\n",
       "      <th>107558</th>\n",
       "      <td>subject9996</td>\n",
       "      <td>Cool! Thx for cheering me up :) I try my best ...</td>\n",
       "      <td>0</td>\n",
       "    </tr>\n",
       "    <tr>\n",
       "      <th>107559</th>\n",
       "      <td>subject9996</td>\n",
       "      <td>beautiful   The Last Guest is my idol How can ...</td>\n",
       "      <td>0</td>\n",
       "    </tr>\n",
       "    <tr>\n",
       "      <th>107560</th>\n",
       "      <td>subject9996</td>\n",
       "      <td>Oh dm me it's beautiful it's beautiful   unfin...</td>\n",
       "      <td>0</td>\n",
       "    </tr>\n",
       "    <tr>\n",
       "      <th>107561</th>\n",
       "      <td>subject9996</td>\n",
       "      <td>Sure Nty can I do an very old doge skateboard ...</td>\n",
       "      <td>0</td>\n",
       "    </tr>\n",
       "    <tr>\n",
       "      <th>107562</th>\n",
       "      <td>subject9996</td>\n",
       "      <td>the swan is traded already You mean 2 from my ...</td>\n",
       "      <td>0</td>\n",
       "    </tr>\n",
       "  </tbody>\n",
       "</table>\n",
       "<p>107563 rows × 3 columns</p>\n",
       "</div>"
      ],
      "text/plain": [
       "            Subject                                               Text  Label\n",
       "0          subject1  Vulcan's ultimate landing at max range is so s...      0\n",
       "1          subject1  Idk if it is broken or not but I've noticed th...      0\n",
       "2          subject1  Nope. I've been playing normally. I play EU th...      0\n",
       "3          subject1  How can i rebuild it? Ok thanky you. I'll try ...      0\n",
       "4          subject1  Oh i didn't know that. Let's hope the new syst...      0\n",
       "...             ...                                                ...    ...\n",
       "107558  subject9996  Cool! Thx for cheering me up :) I try my best ...      0\n",
       "107559  subject9996  beautiful   The Last Guest is my idol How can ...      0\n",
       "107560  subject9996  Oh dm me it's beautiful it's beautiful   unfin...      0\n",
       "107561  subject9996  Sure Nty can I do an very old doge skateboard ...      0\n",
       "107562  subject9996  the swan is traded already You mean 2 from my ...      0\n",
       "\n",
       "[107563 rows x 3 columns]"
      ]
     },
     "execution_count": 221,
     "metadata": {},
     "output_type": "execute_result"
    }
   ],
   "source": [
    "train_data_posts = create_dataset_single_posts()\n",
    "train_data_posts"
   ]
  },
  {
   "cell_type": "code",
   "execution_count": 222,
   "metadata": {},
   "outputs": [
    {
     "data": {
      "text/plain": [
       "1    54840\n",
       "0    52723\n",
       "Name: Label, dtype: int64"
      ]
     },
     "execution_count": 222,
     "metadata": {},
     "output_type": "execute_result"
    }
   ],
   "source": [
    "# Visualize the distribution of class labels.\n",
    "train_data_posts[\"Label\"].value_counts()"
   ]
  },
  {
   "cell_type": "code",
   "execution_count": 223,
   "metadata": {},
   "outputs": [
    {
     "data": {
      "text/plain": [
       "<AxesSubplot:>"
      ]
     },
     "execution_count": 223,
     "metadata": {},
     "output_type": "execute_result"
    },
    {
     "data": {
      "image/png": "[encoded data removed]",
      "text/plain": [
       "<Figure size 432x288 with 1 Axes>"
      ]
     },
     "metadata": {
      "needs_background": "light"
     },
     "output_type": "display_data"
    }
   ],
   "source": [
    "train_data_posts[\"Label\"].value_counts().plot.bar()"
   ]
  },
  {
   "cell_type": "code",
   "execution_count": 224,
   "metadata": {},
   "outputs": [],
   "source": [
    "# Apply preprocessing on the new dataset.\n",
    "train_data_posts[\"Text\"] = train_data_posts[\"Text\"].str.lower()"
   ]
  },
  {
   "cell_type": "code",
   "execution_count": 225,
   "metadata": {},
   "outputs": [],
   "source": [
    "train_data_posts[\"Text\"] = train_data_posts[\"Text\"].apply(remove_whitespace)"
   ]
  },
  {
   "cell_type": "code",
   "execution_count": 226,
   "metadata": {},
   "outputs": [],
   "source": [
    "train_data_posts[\"Text\"] = train_data_posts[\"Text\"].apply(remove_URLs)"
   ]
  },
  {
   "cell_type": "code",
   "execution_count": 227,
   "metadata": {},
   "outputs": [],
   "source": [
    "train_data_posts[\"Text\"] = train_data_posts[\"Text\"].apply(lambda x: word_tokenize(x))"
   ]
  },
  {
   "cell_type": "code",
   "execution_count": 228,
   "metadata": {},
   "outputs": [],
   "source": [
    "train_data_posts[\"Text\"] = train_data_posts[\"Text\"].apply(remove_punctuation)"
   ]
  },
  {
   "cell_type": "code",
   "execution_count": 229,
   "metadata": {},
   "outputs": [],
   "source": [
    "train_data_posts[\"Text\"] = train_data_posts[\"Text\"].apply(remove_stopwords)"
   ]
  },
  {
   "cell_type": "code",
   "execution_count": 230,
   "metadata": {},
   "outputs": [],
   "source": [
    "train_data_posts[\"Text\"] = train_data_posts[\"Text\"].apply(stemming)"
   ]
  },
  {
   "cell_type": "code",
   "execution_count": 231,
   "metadata": {},
   "outputs": [],
   "source": [
    "# Save the dataset to a .csv file.\n",
    "train_data_posts.to_csv('../data/train_dataset_posts.csv')"
   ]
  },
  {
   "cell_type": "code",
   "execution_count": 235,
   "metadata": {},
   "outputs": [],
   "source": [
    "# Load the training dataset.\n",
    "train_data_posts = pd.read_csv('../data/train_dataset_posts.csv')"
   ]
  },
  {
   "cell_type": "code",
   "execution_count": 238,
   "metadata": {},
   "outputs": [],
   "source": [
    "X = train_data_posts[\"Text\"]\n",
    "y = train_data_posts[\"Label\"]\n",
    "\n",
    "# Feature extractors.\n",
    "feature_extractors = [\n",
    "CountVectorizer(),\n",
    "TfidfVectorizer()\n",
    "# # Ignore words that appear in less than 20% of posts (rare words).\n",
    "# CountVectorizer(min_df=0.2),\n",
    "# # Ignore words that appear in more than 80% of posts (frequent words).\n",
    "# CountVectorizer(max_df=0.8),\n",
    "# CountVectorizer(ngram_range=(2, 2)),\n",
    "# CountVectorizer(ngram_range=(3, 3)),\n",
    "# TfidfVectorizer(min_df=0.2),\n",
    "# TfidfVectorizer(max_df=0.8),\n",
    "# TfidfVectorizer(ngram_range=(2, 2)),\n",
    "# TfidfVectorizer(ngram_range=(3, 3))\n",
    "]"
   ]
  },
  {
   "cell_type": "code",
   "execution_count": 239,
   "metadata": {},
   "outputs": [
    {
     "name": "stdout",
     "output_type": "stream",
     "text": [
      "Time:  8.23  min\n",
      "Experiment:  LinearSVC(max_iter=100000) + CountVectorizer()\n",
      "F1 score=  0.87 , 5-fold CV= [0.86547417 0.87040569 0.88742577 0.86601027 0.87348429]\n",
      "Precision=  0.83 , 5-fold CV= [0.82796236 0.82956048 0.8403423  0.81625242 0.83456524]\n",
      "Recall=  0.92 , 5-fold CV= [0.90654632 0.9154814  0.94009847 0.9222283  0.9162108 ]\n",
      "Accuracy=  0.86 , 5-fold CV= [0.85631943 0.86101427 0.87839911 0.85449981 0.86468018]\n",
      "====================================================================================================\n",
      "Time:  1.51  min\n",
      "Experiment:  LinearSVC(max_iter=100000) + TfidfVectorizer()\n",
      "F1 score=  0.88 , 5-fold CV= [0.87733178 0.86625062 0.89265688 0.87173365 0.87601151]\n",
      "Precision=  0.86 , 5-fold CV= [0.86523628 0.85333923 0.87193532 0.8462529  0.86404753]\n",
      "Recall=  0.89 , 5-fold CV= [0.88977024 0.87955872 0.91438731 0.8987965  0.88831145]\n",
      "Accuracy=  0.87 , 5-fold CV= [0.87314647 0.86152559 0.88788175 0.86514504 0.87179249]\n",
      "====================================================================================================\n",
      "Time:  5.25  min\n",
      "Experiment:  LogisticRegression(max_iter=100000) + CountVectorizer()\n",
      "F1 score=  0.91 , 5-fold CV= [0.90574975 0.90533949 0.92152709 0.90106676 0.90943052]\n",
      "Precision=  0.87 , 5-fold CV= [0.8726443  0.85966063 0.87632596 0.8529316  0.86849747]\n",
      "Recall=  0.96 , 5-fold CV= [0.94146608 0.95614515 0.97164478 0.95495988 0.95441284]\n",
      "Accuracy=  0.9 , 5-fold CV= [0.90010691 0.89806164 0.91563241 0.89308293 0.90307735]\n",
      "====================================================================================================\n",
      "Time:  2.2  min\n",
      "Experiment:  LogisticRegression(max_iter=100000) + TfidfVectorizer()\n",
      "F1 score=  0.89 , 5-fold CV= [0.89870478 0.88075026 0.9122807  0.88904513 0.89278094]\n",
      "Precision=  0.87 , 5-fold CV= [0.88084399 0.85924898 0.88308585 0.85808805 0.87109646]\n",
      "Recall=  0.92 , 5-fold CV= [0.91730489 0.90335522 0.94347192 0.92231947 0.91557257]\n",
      "Accuracy=  0.89 , 5-fold CV= [0.89457537 0.87528471 0.90749779 0.88262365 0.88787653]\n",
      "====================================================================================================\n",
      "Time:  68.86  min\n",
      "Experiment:  RandomForestClassifier() + CountVectorizer()\n",
      "F1 score=  0.89 , 5-fold CV= [0.88618938 0.9013465  0.89150399 0.90407159 0.87588146]\n",
      "Precision=  0.89 , 5-fold CV= [0.8980528  0.88764144 0.90262592 0.88762959 0.88563706]\n",
      "Recall=  0.89 , 5-fold CV= [0.8746353  0.9154814  0.88065281 0.92113421 0.86633844]\n",
      "Accuracy=  0.89 , 5-fold CV= [0.8854646  0.89782922 0.89071724 0.9003347  0.87481406]\n",
      "====================================================================================================\n",
      "Time:  61.01  min\n",
      "Experiment:  RandomForestClassifier() + TfidfVectorizer()\n",
      "F1 score=  0.9 , 5-fold CV= [0.88586702 0.91113744 0.89565582 0.90918993 0.88360801]\n",
      "Precision=  0.91 , 5-fold CV= [0.91195211 0.91080539 0.91521553 0.90512334 0.90546359]\n",
      "Recall=  0.89 , 5-fold CV= [0.86123268 0.91146973 0.87691466 0.91329322 0.86278264]\n",
      "Accuracy=  0.9 , 5-fold CV= [0.88685911 0.90935713 0.89583043 0.90698215 0.88411119]\n",
      "====================================================================================================\n",
      "Time:  9.72  min\n",
      "Experiment:  KNeighborsClassifier() + CountVectorizer()\n",
      "F1 score=  0.73 , 5-fold CV= [0.73887977 0.74518059 0.72044473 0.75107362 0.7022955 ]\n",
      "Precision=  0.63 , 5-fold CV= [0.63561716 0.62625698 0.64170704 0.64809423 0.61886556]\n",
      "Recall=  0.87 , 5-fold CV= [0.88220277 0.91985777 0.82120715 0.89296134 0.81172502]\n",
      "Accuracy=  0.68 , 5-fold CV= [0.6820992  0.6792637  0.67508018 0.69821495 0.64912607]\n",
      "====================================================================================================\n",
      "Time:  9.45  min\n",
      "Experiment:  KNeighborsClassifier() + TfidfVectorizer()\n",
      "F1 score=  0.53 , 5-fold CV= [0.50645889 0.54327335 0.50286817 0.5423308  0.56704841]\n",
      "Precision=  0.58 , 5-fold CV= [0.57845433 0.56843993 0.61027977 0.59546396 0.56754041]\n",
      "Recall=  0.49 , 5-fold CV= [0.45040117 0.5202407  0.42760759 0.49790299 0.56655726]\n",
      "Accuracy=  0.56 , 5-fold CV= [0.55245665 0.55403709 0.5689583  0.57154147 0.55889736]\n",
      "====================================================================================================\n",
      "Time:  10.96  min\n",
      "Experiment:  DecisionTreeClassifier() + CountVectorizer()\n",
      "F1 score=  0.86 , 5-fold CV= [0.85658786 0.85764383 0.85744175 0.87453823 0.82979649]\n",
      "Precision=  0.89 , 5-fold CV= [0.89160667 0.89293468 0.89604452 0.89766727 0.88311555]\n",
      "Recall=  0.82 , 5-fold CV= [0.8242159  0.82503647 0.82202772 0.85257112 0.78254923]\n",
      "Accuracy=  0.86 , 5-fold CV= [0.85929438 0.8603635  0.8606424  0.87527891 0.83632391]\n",
      "====================================================================================================\n",
      "Time:  23.05  min\n",
      "Experiment:  DecisionTreeClassifier() + TfidfVectorizer()\n",
      "F1 score=  0.86 , 5-fold CV= [0.85565682 0.8762292  0.86439145 0.87657548 0.84441219]\n",
      "Precision=  0.9 , 5-fold CV= [0.89758735 0.90995679 0.9042924  0.89812512 0.89950526]\n",
      "Recall=  0.83 , 5-fold CV= [0.817469   0.84491247 0.82786287 0.85603574 0.79567834]\n",
      "Accuracy=  0.87 , 5-fold CV= [0.85938735 0.87830614 0.86756845 0.87709186 0.85050205]\n",
      "====================================================================================================\n"
     ]
    }
   ],
   "source": [
    "start_ML_pipeline()"
   ]
  }
 ],
 "metadata": {
  "interpreter": {
   "hash": "c2df39527199e9c3424817245acb9a622fe910bfbc420b32efee2c316061d83c"
  },
  "kernelspec": {
   "display_name": "Python 3.9.6 ('bioNLP_venv')",
   "language": "python",
   "name": "python3"
  },
  "language_info": {
   "codemirror_mode": {
    "name": "ipython",
    "version": 3
   },
   "file_extension": ".py",
   "mimetype": "text/x-python",
   "name": "python",
   "nbconvert_exporter": "python",
   "pygments_lexer": "ipython3",
   "version": "3.9.6"
  },
  "orig_nbformat": 4
 },
 "nbformat": 4,
 "nbformat_minor": 2
}
