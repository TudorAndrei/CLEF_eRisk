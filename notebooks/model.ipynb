{
 "cells": [
  {
   "cell_type": "code",
   "execution_count": 2,
   "metadata": {},
   "outputs": [],
   "source": [
    "from torch.utils.data import DataLoader, Dataset\n",
    "import os\n",
    "import torch\n",
    "from transformers import AutoTokenizer, AutoModelForSequenceClassification, AutoModel, AutoConfig, RobertaTokenizerFast\n",
    "from torch.utils.data import TensorDataset, DataLoader\n",
    "device = torch.device(\"cuda\")\n"
   ]
  },
  {
   "cell_type": "code",
   "execution_count": 5,
   "metadata": {},
   "outputs": [
    {
     "name": "stderr",
     "output_type": "stream",
     "text": [
      "file ../models/roberta-tokenizer/config.json not found\n",
      "file ../models/roberta-tokenizer/config.json not found\n"
     ]
    }
   ],
   "source": [
    "class BaseDataset(Dataset):\n",
    "    def __init__(\n",
    "        self,\n",
    "        path_to_data=\"../data\",\n",
    "        model_name=\"distilroberta-base\",\n",
    "        ground_truth=\"risk_golden_truth_chunks.txt\",\n",
    "        processed_folder=\"chunked\",\n",
    "    ):\n",
    "        self.labels = []\n",
    "        self.ext = \".txt\"\n",
    "\n",
    "        self.path_to_data = path_to_data\n",
    "        self.path_to_processed = os.path.join(self.path_to_data, processed_folder)\n",
    "        self.path_labels = os.path.join(self.path_to_data, ground_truth)\n",
    "\n",
    "        self.tokenizer = RobertaTokenizerFast.from_pretrained(model_name)\n",
    "        with open(self.path_labels, \"r\") as f:\n",
    "            for line in f:\n",
    "                subject, label = line.split()\n",
    "                self.labels.append((subject, label))\n",
    "\n",
    "    def __getitem__(self, idx):\n",
    "        subject, label = self.labels[idx]\n",
    "        subject_path = os.path.join(self.path_to_processed, subject) + self.ext\n",
    "        with open(subject_path, \"r\") as f:\n",
    "            text = \" \".join(f.readlines())\n",
    "\n",
    "        text = self.tokenizer.encode_plus(\n",
    "            text,\n",
    "            padding=\"max_len\",\n",
    "            max_len=512,\n",
    "            truncation=True,\n",
    "        )\n",
    "        return {\n",
    "            \"ids\": torch.tensor(text['input_ids'], dtype=torch.float),\n",
    "            \"mask\": torch.tensor(text[\"attention_mask\"], dtype=torch.float),\n",
    "            \"labels\": torch.tensor(int(label), dtype=torch.float),\n",
    "        }\n",
    "\n",
    "    def __len__(self):\n",
    "        return len(self.labels)\n",
    "\n",
    "\n",
    "dl = DataLoader(BaseDataset(model_name=r\"../models/roberta-tokenizer\"), batch_size=4)"
   ]
  },
  {
   "cell_type": "code",
   "execution_count": 6,
   "metadata": {},
   "outputs": [],
   "source": [
    "for x in dl:\n",
    "    print(x)\n",
    "    break"
   ]
  },
  {
   "cell_type": "code",
   "execution_count": null,
   "metadata": {},
   "outputs": [],
   "source": []
  }
 ],
 "metadata": {
  "interpreter": {
   "hash": "bc7067ad0587ee2533d0568fff1e23349b43564da49d2e99835e9871e4935780"
  },
  "kernelspec": {
   "display_name": "Python 3.8.12 ('pytorch')",
   "language": "python",
   "name": "python3"
  },
  "language_info": {
   "codemirror_mode": {
    "name": "ipython",
    "version": 3
   },
   "file_extension": ".py",
   "mimetype": "text/x-python",
   "name": "python",
   "nbconvert_exporter": "python",
   "pygments_lexer": "ipython3",
   "version": "3.8.12"
  },
  "orig_nbformat": 4
 },
 "nbformat": 4,
 "nbformat_minor": 2
}
