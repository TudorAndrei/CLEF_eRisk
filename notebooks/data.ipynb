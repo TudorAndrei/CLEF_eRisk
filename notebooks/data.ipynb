{
 "cells": [
  {
   "cell_type": "code",
   "execution_count": 20,
   "metadata": {},
   "outputs": [],
   "source": [
    "import xml.etree.ElementTree as xml\n",
    "from glob import glob\n",
    "import os\n",
    "from tqdm import tqdm"
   ]
  },
  {
   "cell_type": "code",
   "execution_count": 4,
   "metadata": {},
   "outputs": [],
   "source": [
    "raw_data_path = r\"../data/raw/*\"\n",
    "processed_data_path = '../data/processed'"
   ]
  },
  {
   "cell_type": "code",
   "execution_count": 22,
   "metadata": {},
   "outputs": [],
   "source": [
    "if not os.path.isdir(processed_data_path):\n",
    "    os.mkdir(processed_data_path)"
   ]
  },
  {
   "cell_type": "code",
   "execution_count": 10,
   "metadata": {},
   "outputs": [
    {
     "name": "stdout",
     "output_type": "stream",
     "text": [
      "subject7072\n"
     ]
    }
   ],
   "source": [
    "path = glob(raw_data_path)\n",
    "# path[0]\n",
    "# print(path[0].split('/')[-1][:-4])"
   ]
  },
  {
   "cell_type": "markdown",
   "metadata": {},
   "source": [
    "## Run the script to generate `.txt` files from `.xml` documents\n",
    "\n",
    "### TODO:\n",
    "\n",
    "- replace URLs with an appropiate `<TAG>` \n",
    "- there are some portions of text like this N #176;1, it needs to be changed"
   ]
  },
  {
   "cell_type": "code",
   "execution_count": 23,
   "metadata": {},
   "outputs": [
    {
     "name": "stderr",
     "output_type": "stream",
     "text": [
      "100%|██████████| 2348/2348 [00:28<00:00, 81.69it/s] \n"
     ]
    }
   ],
   "source": [
    "for p in tqdm(path):\n",
    "    subject = p.split('/')[-1][:-4] + \".txt\"\n",
    "    # print(subject)\n",
    "    subject_path = os.path.join(processed_data_path, subject)\n",
    "    if os.path.isfile(subject_path):\n",
    "        continue\n",
    "    root = xml.parse(p).getroot()\n",
    "    for text in root.findall(\"WRITING/TEXT\"):\n",
    "        if text.text is not None:\n",
    "            with open(subject_path, 'a') as f:\n",
    "                f.write(text.text)\n",
    "                f.write(\"\\n\")"
   ]
  },
  {
   "cell_type": "code",
   "execution_count": null,
   "metadata": {},
   "outputs": [],
   "source": []
  },
  {
   "cell_type": "code",
   "execution_count": null,
   "metadata": {},
   "outputs": [],
   "source": []
  }
 ],
 "metadata": {
  "interpreter": {
   "hash": "bc7067ad0587ee2533d0568fff1e23349b43564da49d2e99835e9871e4935780"
  },
  "kernelspec": {
   "display_name": "Python 3.8.12 ('pytorch')",
   "language": "python",
   "name": "python3"
  },
  "language_info": {
   "codemirror_mode": {
    "name": "ipython",
    "version": 3
   },
   "file_extension": ".py",
   "mimetype": "text/x-python",
   "name": "python",
   "nbconvert_exporter": "python",
   "pygments_lexer": "ipython3",
   "version": "3.8.12"
  },
  "orig_nbformat": 4
 },
 "nbformat": 4,
 "nbformat_minor": 2
}
