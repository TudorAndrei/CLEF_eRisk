{
 "cells": [
  {
   "cell_type": "code",
   "execution_count": 1,
   "metadata": {},
   "outputs": [],
   "source": [
    "import xml.etree.ElementTree as xml\n",
    "from glob import glob\n",
    "import os\n",
    "from tqdm import tqdm"
   ]
  },
  {
   "cell_type": "code",
   "execution_count": 2,
   "metadata": {},
   "outputs": [],
   "source": [
    "raw_data_path = r\"../data/raw/*\"\n",
    "processed_data_path = '../data/processed'"
   ]
  },
  {
   "cell_type": "code",
   "execution_count": 3,
   "metadata": {},
   "outputs": [],
   "source": [
    "if not os.path.isdir(processed_data_path):\n",
    "    os.mkdir(processed_data_path)"
   ]
  },
  {
   "cell_type": "code",
   "execution_count": 4,
   "metadata": {},
   "outputs": [],
   "source": [
    "path = glob(raw_data_path)\n",
    "# path[0]\n",
    "# print(path[0].split('/')[-1][:-4])"
   ]
  },
  {
   "cell_type": "markdown",
   "metadata": {},
   "source": [
    "## Run the script to generate `.txt` files from `.xml` documents\n",
    "\n",
    "### TODO:\n",
    "\n",
    "- replace URLs with an appropiate `<TAG>` \n",
    "- there are some portions of text like this N #176;1, it needs to be changed"
   ]
  },
  {
   "cell_type": "code",
   "execution_count": 5,
   "metadata": {},
   "outputs": [
    {
     "name": "stderr",
     "output_type": "stream",
     "text": [
      "100%|██████████| 2348/2348 [00:00<00:00, 6173.94it/s]\n"
     ]
    }
   ],
   "source": [
    "for p in tqdm(path):\n",
    "    subject = p.split('/')[-1][:-4] + \".txt\"\n",
    "    # print(subject)\n",
    "    subject_path = os.path.join(processed_data_path, subject)\n",
    "    if os.path.isfile(subject_path):\n",
    "        continue\n",
    "    root = xml.parse(p).getroot()\n",
    "    for text in root.findall(\"WRITING/TEXT\"):\n",
    "        with open(subject_path, 'a') as f:\n",
    "            if text.text is not None:\n",
    "                f.write(text.text)\n",
    "            else:\n",
    "                f.write(\" \")\n",
    "            f.write(\"\\n\")"
   ]
  },
  {
   "cell_type": "code",
   "execution_count": 34,
   "metadata": {},
   "outputs": [],
   "source": [
    "# path_labels = '../data/risk_golden_truth.txt'\n",
    "# labels = {}\n",
    "# with open(path_labels, 'r') as f:\n",
    "#     for line in f:\n",
    "#         subject, label = line.split()\n",
    "#         labels[subject] = int(label)\n",
    "# labels\n"
   ]
  },
  {
   "cell_type": "code",
   "execution_count": 24,
   "metadata": {},
   "outputs": [],
   "source": [
    "from torch.utils.data import DataLoader, Dataset"
   ]
  },
  {
   "cell_type": "code",
   "execution_count": 45,
   "metadata": {},
   "outputs": [],
   "source": [
    "class TXTDataset(Dataset):\n",
    "    def __init__(self, path_to_data=\"../data\"):\n",
    "        self.labels = []\n",
    "        self.path_to_data = path_to_data\n",
    "        self.ext = \".txt\"\n",
    "        self.path_to_processed= os.path.join(self.path_to_data, \"processed\")\n",
    "        path_labels = os.path.join(path_to_data, \"risk_golden_truth.txt\")\n",
    "        with open(path_labels, 'r') as f:\n",
    "            for line in f:\n",
    "                subject, label = line.split()\n",
    "                self.labels.append((subject, label))\n",
    "    \n",
    "    def __getitem__(self, idx):\n",
    "        subject, label = self.labels[idx]\n",
    "        subject_path = os.path.join(self.path_to_processed, subject) + self.ext\n",
    "        with open(subject_path, 'r') as f:\n",
    "            text = \" \".join(f.readlines())\n",
    "\n",
    "        return (text, label)\n",
    "\n",
    "    def __len__(self):\n",
    "        return len(self.labels)\n",
    "\n",
    "\n"
   ]
  },
  {
   "cell_type": "code",
   "execution_count": 46,
   "metadata": {},
   "outputs": [],
   "source": [
    "ds = TXTDataset()"
   ]
  },
  {
   "cell_type": "code",
   "execution_count": null,
   "metadata": {},
   "outputs": [],
   "source": []
  },
  {
   "cell_type": "code",
   "execution_count": null,
   "metadata": {},
   "outputs": [],
   "source": []
  },
  {
   "cell_type": "markdown",
   "metadata": {},
   "source": [
    "## 1 user X texts -> from each text create a sample"
   ]
  },
  {
   "cell_type": "code",
   "execution_count": 3,
   "metadata": {},
   "outputs": [],
   "source": [
    "raw_data_path = r\"../data/raw/*\"\n",
    "split_data_path = '../data/split'\n",
    "if not os.path.isdir(split_data_path):\n",
    "    os.mkdir(split_data_path)"
   ]
  },
  {
   "cell_type": "code",
   "execution_count": 4,
   "metadata": {},
   "outputs": [],
   "source": [
    "path_labels = os.path.join('../data/', \"risk_golden_truth.txt\")\n",
    "users = []\n",
    "with open(path_labels, 'r') as f:\n",
    "    for line in f:\n",
    "        subject, label = line.split()\n",
    "        users.append((subject, label))"
   ]
  },
  {
   "cell_type": "code",
   "execution_count": 5,
   "metadata": {},
   "outputs": [
    {
     "name": "stderr",
     "output_type": "stream",
     "text": [
      "100%|██████████| 2348/2348 [01:42<00:00, 22.88it/s]\n"
     ]
    }
   ],
   "source": [
    "ground_truth_subtexts = os.path.join('../data/', 'risk_golden_truth_split.txt')\n",
    "for subject, label in tqdm(users):\n",
    "    user_file = os.path.join('../data', 'raw', subject+'.xml')\n",
    "\n",
    "    root = xml.parse(user_file).getroot()\n",
    "    for i, text in enumerate(root.findall(\"WRITING/TEXT\")):\n",
    "        subject_subtext_path = os.path.join(split_data_path, f\"{subject}_{i}.txt\")\n",
    "        # xml to txt\n",
    "        if text.text is None:\n",
    "            continue\n",
    "        with open(subject_subtext_path, 'w') as f:\n",
    "            f.write(text.text)\n",
    "        # generate labels\n",
    "        with open(ground_truth_subtexts, 'a') as f:\n",
    "            f.write(f'{subject}_{i} {label}\\n')\n"
   ]
  },
  {
   "cell_type": "code",
   "execution_count": 6,
   "metadata": {},
   "outputs": [],
   "source": [
    "path = glob(raw_data_path)"
   ]
  },
  {
   "cell_type": "code",
   "execution_count": null,
   "metadata": {},
   "outputs": [],
   "source": [
    "for p in tqdm(path):\n",
    "    subject = p.split('/')[-1][:-4] + \".txt\"\n",
    "    # print(subject)\n",
    "    subject_path = os.path.join(processed_data_path, subject)\n",
    "    if os.path.isfile(subject_path):\n",
    "        continue\n",
    "    root = xml.parse(p).getroot()\n",
    "    for text in root.findall(\"WRITING/TEXT\"):\n",
    "        with open(subject_path, 'a') as f:\n",
    "            if text.text is not None:\n",
    "                f.write(text.text)\n",
    "            else:\n",
    "                f.write(\" \")\n",
    "            f.write(\"\\n\")"
   ]
  }
 ],
 "metadata": {
  "interpreter": {
   "hash": "bc7067ad0587ee2533d0568fff1e23349b43564da49d2e99835e9871e4935780"
  },
  "kernelspec": {
   "display_name": "Python 3.8.12 ('pytorch')",
   "language": "python",
   "name": "python3"
  },
  "language_info": {
   "codemirror_mode": {
    "name": "ipython",
    "version": 3
   },
   "file_extension": ".py",
   "mimetype": "text/x-python",
   "name": "python",
   "nbconvert_exporter": "python",
   "pygments_lexer": "ipython3",
   "version": "3.8.12"
  },
  "orig_nbformat": 4
 },
 "nbformat": 4,
 "nbformat_minor": 2
}
