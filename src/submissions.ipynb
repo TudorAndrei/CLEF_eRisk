{
 "cells": [
  {
   "cell_type": "code",
   "execution_count": 12,
   "metadata": {},
   "outputs": [],
   "source": [
    "from dotenv import dotenv_values\n",
    "import requests\n",
    "import json\n",
    "import random\n",
    "import numpy as np\n",
    "import pickle\n",
    "import re\n",
    "from nltk import word_tokenize\n",
    "from nltk.corpus import stopwords\n",
    "from nltk.stem import PorterStemmer\n",
    "from nltk.tokenize import RegexpTokenizer\n",
    "from data import DataModule\n",
    "from models import Transformer\n",
    "from transformers import RobertaTokenizerFast\n",
    "import torch\n",
    "from tqdm import tqdm\n",
    "import numpy as np\n",
    "en_stopwords = stopwords.words('english')\n",
    "\n",
    "config = dotenv_values(\"../.env\")  # config = {\"USER\": \"foo\", \"EMAIL\": \"foo@example.org\"}\n",
    "debug_server = config['DEBUG_SERVER']\n",
    "token = config['TOKEN']\n",
    "submitt_url = config['DEBUG_SERVER_SUBMIT']\n",
    "HEADER = {'content-type': 'application/json'}"
   ]
  },
  {
   "cell_type": "markdown",
   "metadata": {},
   "source": [
    "# Models"
   ]
  },
  {
   "cell_type": "markdown",
   "metadata": {},
   "source": [
    "## ML Model"
   ]
  },
  {
   "cell_type": "code",
   "execution_count": 2,
   "metadata": {},
   "outputs": [],
   "source": [
    "def remove_whitespace(text):\n",
    "   \"\"\" Removes all whitespaces from a given text.\"\"\"\n",
    "   return \" \".join(text.split())\n",
    "\n",
    "def remove_URLs(text):\n",
    "   \"Remove URLs from text using regular expressions.\"\n",
    "   url_re = re.compile(r'https?://\\S+|www\\.\\S+')\n",
    "   return url_re.sub(r'', text)\n",
    "\n",
    "def remove_punctuation(text):\n",
    "   tokenizer = RegexpTokenizer(r'\\w+')\n",
    "   no_punct = tokenizer.tokenize(\" \".join(text))\n",
    "   return no_punct\n",
    "\n",
    "def remove_stopwords(text):\n",
    "   \"\"\"Removes english stopwords.\"\"\"\n",
    "   result = []\n",
    "   for token in text:\n",
    "      if token not in en_stopwords:\n",
    "         result.append(token)\n",
    "\n",
    "   return result\n",
    "\n",
    "def stemming(text):\n",
    "   porter = PorterStemmer()\n",
    "   result = []\n",
    "   for word in text:\n",
    "      result.append(porter.stem(word))\n",
    "\n",
    "   return result\n",
    "\n",
    "def ml_text_processing(text):\n",
    "    text = text.lower()\n",
    "    text = remove_whitespace(text)\n",
    "    text = remove_URLs(text)\n",
    "    text = word_tokenize(text)\n",
    "    text = remove_punctuation(text)\n",
    "    text = remove_stopwords(text)\n",
    "    text = stemming(text)\n",
    "    text = \" \".join(text)\n",
    "    return [text]"
   ]
  },
  {
   "cell_type": "code",
   "execution_count": 3,
   "metadata": {},
   "outputs": [],
   "source": [
    "class MLPipeline():\n",
    "    def __init__(self,path_model, path_text_processor, proc_func):\n",
    "        self.text_preprocessing = proc_func\n",
    "        self.processor = pickle.load(open(path_text_processor, 'rb'))\n",
    "        self.model = pickle.load(open(path_model, 'rb'))\n",
    "    def predict(self, text):\n",
    "        return  int(self.model.predict(self.processor.transform(self.text_preprocessing(text))))\n",
    "    def process(self, text):\n",
    "        return self.processor.transform(self.text_preprocessing(text))"
   ]
  },
  {
   "cell_type": "code",
   "execution_count": 4,
   "metadata": {},
   "outputs": [],
   "source": [
    "cv_path = r\"../models/ml_models/CV.sav\"\n",
    "tfidf_path = r\"../models/ml_models/TFIDF.sav\"\n",
    "model1 = MLPipeline(r\"../models/ml_models/m1_LR_CV.sav\", cv_path, ml_text_processing)\n",
    "model2 = MLPipeline(r\"../models/ml_models/m2_LR_TFIDF.sav\", tfidf_path, ml_text_processing)\n",
    "model3 = MLPipeline(r\"../models/ml_models/m3_RFC_CV.sav\", cv_path, ml_text_processing)\n"
   ]
  },
  {
   "cell_type": "code",
   "execution_count": 5,
   "metadata": {},
   "outputs": [],
   "source": [
    "model4 = MLPipeline(f\"../models/ml_models/m4_RFC_TFIDF.sav\", tfidf_path, ml_text_processing)"
   ]
  },
  {
   "cell_type": "markdown",
   "metadata": {},
   "source": [
    "## DL Model"
   ]
  },
  {
   "cell_type": "code",
   "execution_count": 6,
   "metadata": {},
   "outputs": [],
   "source": [
    "model_path = r\"../models/transformer_32/model-19-0.22.ckpt\"\n",
    "tokenizer_path =  r\"../models/roberta-tokenizer\""
   ]
  },
  {
   "cell_type": "code",
   "execution_count": 7,
   "metadata": {},
   "outputs": [],
   "source": [
    "class DLModel():\n",
    "    def __init__(self, model_path, tokenizer_path):\n",
    "        self.model = Transformer(\n",
    "                        ntokens=30000,\n",
    "                        emsize=128,\n",
    "                        d_hid=128,\n",
    "                        nlayers=1,\n",
    "                        nhead=2,\n",
    "                        dropout=0.2,).load_from_checkpoint(model_path)\n",
    "        self.model.eval()\n",
    "        self.tokenizer = RobertaTokenizerFast.from_pretrained(tokenizer_path)\n",
    "    def predict(self,text):\n",
    "        text = self.tokenizer.encode_plus(\n",
    "                text,\n",
    "                # add_special_tokens=True,\n",
    "                max_length=512,\n",
    "                padding=\"max_length\",\n",
    "                return_tensors=\"pt\",\n",
    "                return_attention_mask=False,\n",
    "                truncation=True,\n",
    "                )\n",
    "        output = torch.sigmoid(self.model(text['input_ids'])).detach().numpy()\n",
    "        return np.heaviside(output, 0)"
   ]
  },
  {
   "cell_type": "code",
   "execution_count": 8,
   "metadata": {},
   "outputs": [
    {
     "name": "stderr",
     "output_type": "stream",
     "text": [
      "file ../models/roberta-tokenizer/config.json not found\n",
      "file ../models/roberta-tokenizer/config.json not found\n"
     ]
    }
   ],
   "source": [
    "model0 = DLModel(model_path=model_path, tokenizer_path=tokenizer_path)"
   ]
  },
  {
   "cell_type": "markdown",
   "metadata": {},
   "source": [
    "# Official Submission"
   ]
  },
  {
   "cell_type": "markdown",
   "metadata": {},
   "source": [
    "## Workflow\n",
    "```\n",
    "getWritings\n",
    "while request not empty:\n",
    "    for run in runs:\n",
    "        POST request\n",
    "    getWritings\n",
    "```"
   ]
  },
  {
   "cell_type": "code",
   "execution_count": 14,
   "metadata": {},
   "outputs": [
    {
     "name": "stderr",
     "output_type": "stream",
     "text": [
      "Submission count 2: 0it [00:11, ?it/s]\n"
     ]
    },
    {
     "ename": "KeyboardInterrupt",
     "evalue": "",
     "output_type": "error",
     "traceback": [
      "\u001b[0;31m---------------------------------------------------------------------------\u001b[0m",
      "\u001b[0;31mKeyboardInterrupt\u001b[0m                         Traceback (most recent call last)",
      "\u001b[1;32m/home/tudor/projects/erisk/src/submissions.ipynb Cell 14'\u001b[0m in \u001b[0;36m<module>\u001b[0;34m\u001b[0m\n\u001b[1;32m     <a href='vscode-notebook-cell:/home/tudor/projects/erisk/src/submissions.ipynb#ch0000007?line=13'>14</a>\u001b[0m         text \u001b[39m=\u001b[39m ans[\u001b[39m'\u001b[39m\u001b[39mcontent\u001b[39m\u001b[39m'\u001b[39m]\n\u001b[1;32m     <a href='vscode-notebook-cell:/home/tudor/projects/erisk/src/submissions.ipynb#ch0000007?line=14'>15</a>\u001b[0m         submission\u001b[39m.\u001b[39mappend({\n\u001b[1;32m     <a href='vscode-notebook-cell:/home/tudor/projects/erisk/src/submissions.ipynb#ch0000007?line=15'>16</a>\u001b[0m             \u001b[39m'\u001b[39m\u001b[39mnick\u001b[39m\u001b[39m'\u001b[39m: nick,\n\u001b[1;32m     <a href='vscode-notebook-cell:/home/tudor/projects/erisk/src/submissions.ipynb#ch0000007?line=16'>17</a>\u001b[0m             \u001b[39m'\u001b[39m\u001b[39mdecision\u001b[39m\u001b[39m'\u001b[39m: system\u001b[39m.\u001b[39mpredict(text),\n\u001b[1;32m     <a href='vscode-notebook-cell:/home/tudor/projects/erisk/src/submissions.ipynb#ch0000007?line=17'>18</a>\u001b[0m             \u001b[39m'\u001b[39m\u001b[39mscore\u001b[39m\u001b[39m'\u001b[39m: \u001b[39mround\u001b[39m(random\u001b[39m.\u001b[39muniform(\u001b[39m0\u001b[39m,\u001b[39m4\u001b[39m),\u001b[39m1\u001b[39m)\n\u001b[1;32m     <a href='vscode-notebook-cell:/home/tudor/projects/erisk/src/submissions.ipynb#ch0000007?line=18'>19</a>\u001b[0m         })\n\u001b[0;32m---> <a href='vscode-notebook-cell:/home/tudor/projects/erisk/src/submissions.ipynb#ch0000007?line=19'>20</a>\u001b[0m     post_request \u001b[39m=\u001b[39m requests\u001b[39m.\u001b[39;49mpost(post_url, data \u001b[39m=\u001b[39;49m json\u001b[39m.\u001b[39;49mdumps(submission), headers \u001b[39m=\u001b[39;49m HEADER)\n\u001b[1;32m     <a href='vscode-notebook-cell:/home/tudor/projects/erisk/src/submissions.ipynb#ch0000007?line=20'>21</a>\u001b[0m ans \u001b[39m=\u001b[39m requests\u001b[39m.\u001b[39mget(GET_URL)\n\u001b[1;32m     <a href='vscode-notebook-cell:/home/tudor/projects/erisk/src/submissions.ipynb#ch0000007?line=21'>22</a>\u001b[0m ans_dict \u001b[39m=\u001b[39m json\u001b[39m.\u001b[39mloads(ans\u001b[39m.\u001b[39mtext)\n",
      "File \u001b[0;32m~/.mamba/envs/pytorch/lib/python3.8/site-packages/requests/api.py:117\u001b[0m, in \u001b[0;36mpost\u001b[0;34m(url, data, json, **kwargs)\u001b[0m\n\u001b[1;32m    <a href='file:///home/tudor/.mamba/envs/pytorch/lib/python3.8/site-packages/requests/api.py?line=104'>105</a>\u001b[0m \u001b[39mdef\u001b[39;00m \u001b[39mpost\u001b[39m(url, data\u001b[39m=\u001b[39m\u001b[39mNone\u001b[39;00m, json\u001b[39m=\u001b[39m\u001b[39mNone\u001b[39;00m, \u001b[39m*\u001b[39m\u001b[39m*\u001b[39mkwargs):\n\u001b[1;32m    <a href='file:///home/tudor/.mamba/envs/pytorch/lib/python3.8/site-packages/requests/api.py?line=105'>106</a>\u001b[0m     \u001b[39mr\u001b[39m\u001b[39m\"\"\"Sends a POST request.\u001b[39;00m\n\u001b[1;32m    <a href='file:///home/tudor/.mamba/envs/pytorch/lib/python3.8/site-packages/requests/api.py?line=106'>107</a>\u001b[0m \n\u001b[1;32m    <a href='file:///home/tudor/.mamba/envs/pytorch/lib/python3.8/site-packages/requests/api.py?line=107'>108</a>\u001b[0m \u001b[39m    :param url: URL for the new :class:`Request` object.\u001b[39;00m\n\u001b[0;32m   (...)\u001b[0m\n\u001b[1;32m    <a href='file:///home/tudor/.mamba/envs/pytorch/lib/python3.8/site-packages/requests/api.py?line=113'>114</a>\u001b[0m \u001b[39m    :rtype: requests.Response\u001b[39;00m\n\u001b[1;32m    <a href='file:///home/tudor/.mamba/envs/pytorch/lib/python3.8/site-packages/requests/api.py?line=114'>115</a>\u001b[0m \u001b[39m    \"\"\"\u001b[39;00m\n\u001b[0;32m--> <a href='file:///home/tudor/.mamba/envs/pytorch/lib/python3.8/site-packages/requests/api.py?line=116'>117</a>\u001b[0m     \u001b[39mreturn\u001b[39;00m request(\u001b[39m'\u001b[39;49m\u001b[39mpost\u001b[39;49m\u001b[39m'\u001b[39;49m, url, data\u001b[39m=\u001b[39;49mdata, json\u001b[39m=\u001b[39;49mjson, \u001b[39m*\u001b[39;49m\u001b[39m*\u001b[39;49mkwargs)\n",
      "File \u001b[0;32m~/.mamba/envs/pytorch/lib/python3.8/site-packages/requests/api.py:61\u001b[0m, in \u001b[0;36mrequest\u001b[0;34m(method, url, **kwargs)\u001b[0m\n\u001b[1;32m     <a href='file:///home/tudor/.mamba/envs/pytorch/lib/python3.8/site-packages/requests/api.py?line=56'>57</a>\u001b[0m \u001b[39m# By using the 'with' statement we are sure the session is closed, thus we\u001b[39;00m\n\u001b[1;32m     <a href='file:///home/tudor/.mamba/envs/pytorch/lib/python3.8/site-packages/requests/api.py?line=57'>58</a>\u001b[0m \u001b[39m# avoid leaving sockets open which can trigger a ResourceWarning in some\u001b[39;00m\n\u001b[1;32m     <a href='file:///home/tudor/.mamba/envs/pytorch/lib/python3.8/site-packages/requests/api.py?line=58'>59</a>\u001b[0m \u001b[39m# cases, and look like a memory leak in others.\u001b[39;00m\n\u001b[1;32m     <a href='file:///home/tudor/.mamba/envs/pytorch/lib/python3.8/site-packages/requests/api.py?line=59'>60</a>\u001b[0m \u001b[39mwith\u001b[39;00m sessions\u001b[39m.\u001b[39mSession() \u001b[39mas\u001b[39;00m session:\n\u001b[0;32m---> <a href='file:///home/tudor/.mamba/envs/pytorch/lib/python3.8/site-packages/requests/api.py?line=60'>61</a>\u001b[0m     \u001b[39mreturn\u001b[39;00m session\u001b[39m.\u001b[39;49mrequest(method\u001b[39m=\u001b[39;49mmethod, url\u001b[39m=\u001b[39;49murl, \u001b[39m*\u001b[39;49m\u001b[39m*\u001b[39;49mkwargs)\n",
      "File \u001b[0;32m~/.mamba/envs/pytorch/lib/python3.8/site-packages/requests/sessions.py:529\u001b[0m, in \u001b[0;36mSession.request\u001b[0;34m(self, method, url, params, data, headers, cookies, files, auth, timeout, allow_redirects, proxies, hooks, stream, verify, cert, json)\u001b[0m\n\u001b[1;32m    <a href='file:///home/tudor/.mamba/envs/pytorch/lib/python3.8/site-packages/requests/sessions.py?line=523'>524</a>\u001b[0m send_kwargs \u001b[39m=\u001b[39m {\n\u001b[1;32m    <a href='file:///home/tudor/.mamba/envs/pytorch/lib/python3.8/site-packages/requests/sessions.py?line=524'>525</a>\u001b[0m     \u001b[39m'\u001b[39m\u001b[39mtimeout\u001b[39m\u001b[39m'\u001b[39m: timeout,\n\u001b[1;32m    <a href='file:///home/tudor/.mamba/envs/pytorch/lib/python3.8/site-packages/requests/sessions.py?line=525'>526</a>\u001b[0m     \u001b[39m'\u001b[39m\u001b[39mallow_redirects\u001b[39m\u001b[39m'\u001b[39m: allow_redirects,\n\u001b[1;32m    <a href='file:///home/tudor/.mamba/envs/pytorch/lib/python3.8/site-packages/requests/sessions.py?line=526'>527</a>\u001b[0m }\n\u001b[1;32m    <a href='file:///home/tudor/.mamba/envs/pytorch/lib/python3.8/site-packages/requests/sessions.py?line=527'>528</a>\u001b[0m send_kwargs\u001b[39m.\u001b[39mupdate(settings)\n\u001b[0;32m--> <a href='file:///home/tudor/.mamba/envs/pytorch/lib/python3.8/site-packages/requests/sessions.py?line=528'>529</a>\u001b[0m resp \u001b[39m=\u001b[39m \u001b[39mself\u001b[39;49m\u001b[39m.\u001b[39;49msend(prep, \u001b[39m*\u001b[39;49m\u001b[39m*\u001b[39;49msend_kwargs)\n\u001b[1;32m    <a href='file:///home/tudor/.mamba/envs/pytorch/lib/python3.8/site-packages/requests/sessions.py?line=530'>531</a>\u001b[0m \u001b[39mreturn\u001b[39;00m resp\n",
      "File \u001b[0;32m~/.mamba/envs/pytorch/lib/python3.8/site-packages/requests/sessions.py:645\u001b[0m, in \u001b[0;36mSession.send\u001b[0;34m(self, request, **kwargs)\u001b[0m\n\u001b[1;32m    <a href='file:///home/tudor/.mamba/envs/pytorch/lib/python3.8/site-packages/requests/sessions.py?line=641'>642</a>\u001b[0m start \u001b[39m=\u001b[39m preferred_clock()\n\u001b[1;32m    <a href='file:///home/tudor/.mamba/envs/pytorch/lib/python3.8/site-packages/requests/sessions.py?line=643'>644</a>\u001b[0m \u001b[39m# Send the request\u001b[39;00m\n\u001b[0;32m--> <a href='file:///home/tudor/.mamba/envs/pytorch/lib/python3.8/site-packages/requests/sessions.py?line=644'>645</a>\u001b[0m r \u001b[39m=\u001b[39m adapter\u001b[39m.\u001b[39;49msend(request, \u001b[39m*\u001b[39;49m\u001b[39m*\u001b[39;49mkwargs)\n\u001b[1;32m    <a href='file:///home/tudor/.mamba/envs/pytorch/lib/python3.8/site-packages/requests/sessions.py?line=646'>647</a>\u001b[0m \u001b[39m# Total elapsed time of the request (approximately)\u001b[39;00m\n\u001b[1;32m    <a href='file:///home/tudor/.mamba/envs/pytorch/lib/python3.8/site-packages/requests/sessions.py?line=647'>648</a>\u001b[0m elapsed \u001b[39m=\u001b[39m preferred_clock() \u001b[39m-\u001b[39m start\n",
      "File \u001b[0;32m~/.mamba/envs/pytorch/lib/python3.8/site-packages/requests/adapters.py:440\u001b[0m, in \u001b[0;36mHTTPAdapter.send\u001b[0;34m(self, request, stream, timeout, verify, cert, proxies)\u001b[0m\n\u001b[1;32m    <a href='file:///home/tudor/.mamba/envs/pytorch/lib/python3.8/site-packages/requests/adapters.py?line=437'>438</a>\u001b[0m \u001b[39mtry\u001b[39;00m:\n\u001b[1;32m    <a href='file:///home/tudor/.mamba/envs/pytorch/lib/python3.8/site-packages/requests/adapters.py?line=438'>439</a>\u001b[0m     \u001b[39mif\u001b[39;00m \u001b[39mnot\u001b[39;00m chunked:\n\u001b[0;32m--> <a href='file:///home/tudor/.mamba/envs/pytorch/lib/python3.8/site-packages/requests/adapters.py?line=439'>440</a>\u001b[0m         resp \u001b[39m=\u001b[39m conn\u001b[39m.\u001b[39;49murlopen(\n\u001b[1;32m    <a href='file:///home/tudor/.mamba/envs/pytorch/lib/python3.8/site-packages/requests/adapters.py?line=440'>441</a>\u001b[0m             method\u001b[39m=\u001b[39;49mrequest\u001b[39m.\u001b[39;49mmethod,\n\u001b[1;32m    <a href='file:///home/tudor/.mamba/envs/pytorch/lib/python3.8/site-packages/requests/adapters.py?line=441'>442</a>\u001b[0m             url\u001b[39m=\u001b[39;49murl,\n\u001b[1;32m    <a href='file:///home/tudor/.mamba/envs/pytorch/lib/python3.8/site-packages/requests/adapters.py?line=442'>443</a>\u001b[0m             body\u001b[39m=\u001b[39;49mrequest\u001b[39m.\u001b[39;49mbody,\n\u001b[1;32m    <a href='file:///home/tudor/.mamba/envs/pytorch/lib/python3.8/site-packages/requests/adapters.py?line=443'>444</a>\u001b[0m             headers\u001b[39m=\u001b[39;49mrequest\u001b[39m.\u001b[39;49mheaders,\n\u001b[1;32m    <a href='file:///home/tudor/.mamba/envs/pytorch/lib/python3.8/site-packages/requests/adapters.py?line=444'>445</a>\u001b[0m             redirect\u001b[39m=\u001b[39;49m\u001b[39mFalse\u001b[39;49;00m,\n\u001b[1;32m    <a href='file:///home/tudor/.mamba/envs/pytorch/lib/python3.8/site-packages/requests/adapters.py?line=445'>446</a>\u001b[0m             assert_same_host\u001b[39m=\u001b[39;49m\u001b[39mFalse\u001b[39;49;00m,\n\u001b[1;32m    <a href='file:///home/tudor/.mamba/envs/pytorch/lib/python3.8/site-packages/requests/adapters.py?line=446'>447</a>\u001b[0m             preload_content\u001b[39m=\u001b[39;49m\u001b[39mFalse\u001b[39;49;00m,\n\u001b[1;32m    <a href='file:///home/tudor/.mamba/envs/pytorch/lib/python3.8/site-packages/requests/adapters.py?line=447'>448</a>\u001b[0m             decode_content\u001b[39m=\u001b[39;49m\u001b[39mFalse\u001b[39;49;00m,\n\u001b[1;32m    <a href='file:///home/tudor/.mamba/envs/pytorch/lib/python3.8/site-packages/requests/adapters.py?line=448'>449</a>\u001b[0m             retries\u001b[39m=\u001b[39;49m\u001b[39mself\u001b[39;49m\u001b[39m.\u001b[39;49mmax_retries,\n\u001b[1;32m    <a href='file:///home/tudor/.mamba/envs/pytorch/lib/python3.8/site-packages/requests/adapters.py?line=449'>450</a>\u001b[0m             timeout\u001b[39m=\u001b[39;49mtimeout\n\u001b[1;32m    <a href='file:///home/tudor/.mamba/envs/pytorch/lib/python3.8/site-packages/requests/adapters.py?line=450'>451</a>\u001b[0m         )\n\u001b[1;32m    <a href='file:///home/tudor/.mamba/envs/pytorch/lib/python3.8/site-packages/requests/adapters.py?line=452'>453</a>\u001b[0m     \u001b[39m# Send the request.\u001b[39;00m\n\u001b[1;32m    <a href='file:///home/tudor/.mamba/envs/pytorch/lib/python3.8/site-packages/requests/adapters.py?line=453'>454</a>\u001b[0m     \u001b[39melse\u001b[39;00m:\n\u001b[1;32m    <a href='file:///home/tudor/.mamba/envs/pytorch/lib/python3.8/site-packages/requests/adapters.py?line=454'>455</a>\u001b[0m         \u001b[39mif\u001b[39;00m \u001b[39mhasattr\u001b[39m(conn, \u001b[39m'\u001b[39m\u001b[39mproxy_pool\u001b[39m\u001b[39m'\u001b[39m):\n",
      "File \u001b[0;32m~/.mamba/envs/pytorch/lib/python3.8/site-packages/urllib3/connectionpool.py:703\u001b[0m, in \u001b[0;36mHTTPConnectionPool.urlopen\u001b[0;34m(self, method, url, body, headers, retries, redirect, assert_same_host, timeout, pool_timeout, release_conn, chunked, body_pos, **response_kw)\u001b[0m\n\u001b[1;32m    <a href='file:///home/tudor/.mamba/envs/pytorch/lib/python3.8/site-packages/urllib3/connectionpool.py?line=699'>700</a>\u001b[0m     \u001b[39mself\u001b[39m\u001b[39m.\u001b[39m_prepare_proxy(conn)\n\u001b[1;32m    <a href='file:///home/tudor/.mamba/envs/pytorch/lib/python3.8/site-packages/urllib3/connectionpool.py?line=701'>702</a>\u001b[0m \u001b[39m# Make the request on the httplib connection object.\u001b[39;00m\n\u001b[0;32m--> <a href='file:///home/tudor/.mamba/envs/pytorch/lib/python3.8/site-packages/urllib3/connectionpool.py?line=702'>703</a>\u001b[0m httplib_response \u001b[39m=\u001b[39m \u001b[39mself\u001b[39;49m\u001b[39m.\u001b[39;49m_make_request(\n\u001b[1;32m    <a href='file:///home/tudor/.mamba/envs/pytorch/lib/python3.8/site-packages/urllib3/connectionpool.py?line=703'>704</a>\u001b[0m     conn,\n\u001b[1;32m    <a href='file:///home/tudor/.mamba/envs/pytorch/lib/python3.8/site-packages/urllib3/connectionpool.py?line=704'>705</a>\u001b[0m     method,\n\u001b[1;32m    <a href='file:///home/tudor/.mamba/envs/pytorch/lib/python3.8/site-packages/urllib3/connectionpool.py?line=705'>706</a>\u001b[0m     url,\n\u001b[1;32m    <a href='file:///home/tudor/.mamba/envs/pytorch/lib/python3.8/site-packages/urllib3/connectionpool.py?line=706'>707</a>\u001b[0m     timeout\u001b[39m=\u001b[39;49mtimeout_obj,\n\u001b[1;32m    <a href='file:///home/tudor/.mamba/envs/pytorch/lib/python3.8/site-packages/urllib3/connectionpool.py?line=707'>708</a>\u001b[0m     body\u001b[39m=\u001b[39;49mbody,\n\u001b[1;32m    <a href='file:///home/tudor/.mamba/envs/pytorch/lib/python3.8/site-packages/urllib3/connectionpool.py?line=708'>709</a>\u001b[0m     headers\u001b[39m=\u001b[39;49mheaders,\n\u001b[1;32m    <a href='file:///home/tudor/.mamba/envs/pytorch/lib/python3.8/site-packages/urllib3/connectionpool.py?line=709'>710</a>\u001b[0m     chunked\u001b[39m=\u001b[39;49mchunked,\n\u001b[1;32m    <a href='file:///home/tudor/.mamba/envs/pytorch/lib/python3.8/site-packages/urllib3/connectionpool.py?line=710'>711</a>\u001b[0m )\n\u001b[1;32m    <a href='file:///home/tudor/.mamba/envs/pytorch/lib/python3.8/site-packages/urllib3/connectionpool.py?line=712'>713</a>\u001b[0m \u001b[39m# If we're going to release the connection in ``finally:``, then\u001b[39;00m\n\u001b[1;32m    <a href='file:///home/tudor/.mamba/envs/pytorch/lib/python3.8/site-packages/urllib3/connectionpool.py?line=713'>714</a>\u001b[0m \u001b[39m# the response doesn't need to know about the connection. Otherwise\u001b[39;00m\n\u001b[1;32m    <a href='file:///home/tudor/.mamba/envs/pytorch/lib/python3.8/site-packages/urllib3/connectionpool.py?line=714'>715</a>\u001b[0m \u001b[39m# it will also try to release it and we'll have a double-release\u001b[39;00m\n\u001b[1;32m    <a href='file:///home/tudor/.mamba/envs/pytorch/lib/python3.8/site-packages/urllib3/connectionpool.py?line=715'>716</a>\u001b[0m \u001b[39m# mess.\u001b[39;00m\n\u001b[1;32m    <a href='file:///home/tudor/.mamba/envs/pytorch/lib/python3.8/site-packages/urllib3/connectionpool.py?line=716'>717</a>\u001b[0m response_conn \u001b[39m=\u001b[39m conn \u001b[39mif\u001b[39;00m \u001b[39mnot\u001b[39;00m release_conn \u001b[39melse\u001b[39;00m \u001b[39mNone\u001b[39;00m\n",
      "File \u001b[0;32m~/.mamba/envs/pytorch/lib/python3.8/site-packages/urllib3/connectionpool.py:398\u001b[0m, in \u001b[0;36mHTTPConnectionPool._make_request\u001b[0;34m(self, conn, method, url, timeout, chunked, **httplib_request_kw)\u001b[0m\n\u001b[1;32m    <a href='file:///home/tudor/.mamba/envs/pytorch/lib/python3.8/site-packages/urllib3/connectionpool.py?line=395'>396</a>\u001b[0m         conn\u001b[39m.\u001b[39mrequest_chunked(method, url, \u001b[39m*\u001b[39m\u001b[39m*\u001b[39mhttplib_request_kw)\n\u001b[1;32m    <a href='file:///home/tudor/.mamba/envs/pytorch/lib/python3.8/site-packages/urllib3/connectionpool.py?line=396'>397</a>\u001b[0m     \u001b[39melse\u001b[39;00m:\n\u001b[0;32m--> <a href='file:///home/tudor/.mamba/envs/pytorch/lib/python3.8/site-packages/urllib3/connectionpool.py?line=397'>398</a>\u001b[0m         conn\u001b[39m.\u001b[39;49mrequest(method, url, \u001b[39m*\u001b[39;49m\u001b[39m*\u001b[39;49mhttplib_request_kw)\n\u001b[1;32m    <a href='file:///home/tudor/.mamba/envs/pytorch/lib/python3.8/site-packages/urllib3/connectionpool.py?line=399'>400</a>\u001b[0m \u001b[39m# We are swallowing BrokenPipeError (errno.EPIPE) since the server is\u001b[39;00m\n\u001b[1;32m    <a href='file:///home/tudor/.mamba/envs/pytorch/lib/python3.8/site-packages/urllib3/connectionpool.py?line=400'>401</a>\u001b[0m \u001b[39m# legitimately able to close the connection after sending a valid response.\u001b[39;00m\n\u001b[1;32m    <a href='file:///home/tudor/.mamba/envs/pytorch/lib/python3.8/site-packages/urllib3/connectionpool.py?line=401'>402</a>\u001b[0m \u001b[39m# With this behaviour, the received response is still readable.\u001b[39;00m\n\u001b[1;32m    <a href='file:///home/tudor/.mamba/envs/pytorch/lib/python3.8/site-packages/urllib3/connectionpool.py?line=402'>403</a>\u001b[0m \u001b[39mexcept\u001b[39;00m \u001b[39mBrokenPipeError\u001b[39;00m:\n\u001b[1;32m    <a href='file:///home/tudor/.mamba/envs/pytorch/lib/python3.8/site-packages/urllib3/connectionpool.py?line=403'>404</a>\u001b[0m     \u001b[39m# Python 3\u001b[39;00m\n",
      "File \u001b[0;32m~/.mamba/envs/pytorch/lib/python3.8/site-packages/urllib3/connection.py:239\u001b[0m, in \u001b[0;36mHTTPConnection.request\u001b[0;34m(self, method, url, body, headers)\u001b[0m\n\u001b[1;32m    <a href='file:///home/tudor/.mamba/envs/pytorch/lib/python3.8/site-packages/urllib3/connection.py?line=236'>237</a>\u001b[0m \u001b[39mif\u001b[39;00m \u001b[39m\"\u001b[39m\u001b[39muser-agent\u001b[39m\u001b[39m\"\u001b[39m \u001b[39mnot\u001b[39;00m \u001b[39min\u001b[39;00m (six\u001b[39m.\u001b[39mensure_str(k\u001b[39m.\u001b[39mlower()) \u001b[39mfor\u001b[39;00m k \u001b[39min\u001b[39;00m headers):\n\u001b[1;32m    <a href='file:///home/tudor/.mamba/envs/pytorch/lib/python3.8/site-packages/urllib3/connection.py?line=237'>238</a>\u001b[0m     headers[\u001b[39m\"\u001b[39m\u001b[39mUser-Agent\u001b[39m\u001b[39m\"\u001b[39m] \u001b[39m=\u001b[39m _get_default_user_agent()\n\u001b[0;32m--> <a href='file:///home/tudor/.mamba/envs/pytorch/lib/python3.8/site-packages/urllib3/connection.py?line=238'>239</a>\u001b[0m \u001b[39msuper\u001b[39;49m(HTTPConnection, \u001b[39mself\u001b[39;49m)\u001b[39m.\u001b[39;49mrequest(method, url, body\u001b[39m=\u001b[39;49mbody, headers\u001b[39m=\u001b[39;49mheaders)\n",
      "File \u001b[0;32m~/.mamba/envs/pytorch/lib/python3.8/http/client.py:1256\u001b[0m, in \u001b[0;36mHTTPConnection.request\u001b[0;34m(self, method, url, body, headers, encode_chunked)\u001b[0m\n\u001b[1;32m   <a href='file:///home/tudor/.mamba/envs/pytorch/lib/python3.8/http/client.py?line=1252'>1253</a>\u001b[0m \u001b[39mdef\u001b[39;00m \u001b[39mrequest\u001b[39m(\u001b[39mself\u001b[39m, method, url, body\u001b[39m=\u001b[39m\u001b[39mNone\u001b[39;00m, headers\u001b[39m=\u001b[39m{}, \u001b[39m*\u001b[39m,\n\u001b[1;32m   <a href='file:///home/tudor/.mamba/envs/pytorch/lib/python3.8/http/client.py?line=1253'>1254</a>\u001b[0m             encode_chunked\u001b[39m=\u001b[39m\u001b[39mFalse\u001b[39;00m):\n\u001b[1;32m   <a href='file:///home/tudor/.mamba/envs/pytorch/lib/python3.8/http/client.py?line=1254'>1255</a>\u001b[0m     \u001b[39m\"\"\"Send a complete request to the server.\"\"\"\u001b[39;00m\n\u001b[0;32m-> <a href='file:///home/tudor/.mamba/envs/pytorch/lib/python3.8/http/client.py?line=1255'>1256</a>\u001b[0m     \u001b[39mself\u001b[39;49m\u001b[39m.\u001b[39;49m_send_request(method, url, body, headers, encode_chunked)\n",
      "File \u001b[0;32m~/.mamba/envs/pytorch/lib/python3.8/http/client.py:1302\u001b[0m, in \u001b[0;36mHTTPConnection._send_request\u001b[0;34m(self, method, url, body, headers, encode_chunked)\u001b[0m\n\u001b[1;32m   <a href='file:///home/tudor/.mamba/envs/pytorch/lib/python3.8/http/client.py?line=1297'>1298</a>\u001b[0m \u001b[39mif\u001b[39;00m \u001b[39misinstance\u001b[39m(body, \u001b[39mstr\u001b[39m):\n\u001b[1;32m   <a href='file:///home/tudor/.mamba/envs/pytorch/lib/python3.8/http/client.py?line=1298'>1299</a>\u001b[0m     \u001b[39m# RFC 2616 Section 3.7.1 says that text default has a\u001b[39;00m\n\u001b[1;32m   <a href='file:///home/tudor/.mamba/envs/pytorch/lib/python3.8/http/client.py?line=1299'>1300</a>\u001b[0m     \u001b[39m# default charset of iso-8859-1.\u001b[39;00m\n\u001b[1;32m   <a href='file:///home/tudor/.mamba/envs/pytorch/lib/python3.8/http/client.py?line=1300'>1301</a>\u001b[0m     body \u001b[39m=\u001b[39m _encode(body, \u001b[39m'\u001b[39m\u001b[39mbody\u001b[39m\u001b[39m'\u001b[39m)\n\u001b[0;32m-> <a href='file:///home/tudor/.mamba/envs/pytorch/lib/python3.8/http/client.py?line=1301'>1302</a>\u001b[0m \u001b[39mself\u001b[39;49m\u001b[39m.\u001b[39;49mendheaders(body, encode_chunked\u001b[39m=\u001b[39;49mencode_chunked)\n",
      "File \u001b[0;32m~/.mamba/envs/pytorch/lib/python3.8/http/client.py:1251\u001b[0m, in \u001b[0;36mHTTPConnection.endheaders\u001b[0;34m(self, message_body, encode_chunked)\u001b[0m\n\u001b[1;32m   <a href='file:///home/tudor/.mamba/envs/pytorch/lib/python3.8/http/client.py?line=1248'>1249</a>\u001b[0m \u001b[39melse\u001b[39;00m:\n\u001b[1;32m   <a href='file:///home/tudor/.mamba/envs/pytorch/lib/python3.8/http/client.py?line=1249'>1250</a>\u001b[0m     \u001b[39mraise\u001b[39;00m CannotSendHeader()\n\u001b[0;32m-> <a href='file:///home/tudor/.mamba/envs/pytorch/lib/python3.8/http/client.py?line=1250'>1251</a>\u001b[0m \u001b[39mself\u001b[39;49m\u001b[39m.\u001b[39;49m_send_output(message_body, encode_chunked\u001b[39m=\u001b[39;49mencode_chunked)\n",
      "File \u001b[0;32m~/.mamba/envs/pytorch/lib/python3.8/http/client.py:1050\u001b[0m, in \u001b[0;36mHTTPConnection._send_output\u001b[0;34m(self, message_body, encode_chunked)\u001b[0m\n\u001b[1;32m   <a href='file:///home/tudor/.mamba/envs/pytorch/lib/python3.8/http/client.py?line=1045'>1046</a>\u001b[0m     \u001b[39mif\u001b[39;00m encode_chunked \u001b[39mand\u001b[39;00m \u001b[39mself\u001b[39m\u001b[39m.\u001b[39m_http_vsn \u001b[39m==\u001b[39m \u001b[39m11\u001b[39m:\n\u001b[1;32m   <a href='file:///home/tudor/.mamba/envs/pytorch/lib/python3.8/http/client.py?line=1046'>1047</a>\u001b[0m         \u001b[39m# chunked encoding\u001b[39;00m\n\u001b[1;32m   <a href='file:///home/tudor/.mamba/envs/pytorch/lib/python3.8/http/client.py?line=1047'>1048</a>\u001b[0m         chunk \u001b[39m=\u001b[39m \u001b[39mf\u001b[39m\u001b[39m'\u001b[39m\u001b[39m{\u001b[39;00m\u001b[39mlen\u001b[39m(chunk)\u001b[39m:\u001b[39;00m\u001b[39mX\u001b[39m\u001b[39m}\u001b[39;00m\u001b[39m\\r\u001b[39;00m\u001b[39m\\n\u001b[39;00m\u001b[39m'\u001b[39m\u001b[39m.\u001b[39mencode(\u001b[39m'\u001b[39m\u001b[39mascii\u001b[39m\u001b[39m'\u001b[39m) \u001b[39m+\u001b[39m chunk \\\n\u001b[1;32m   <a href='file:///home/tudor/.mamba/envs/pytorch/lib/python3.8/http/client.py?line=1048'>1049</a>\u001b[0m             \u001b[39m+\u001b[39m \u001b[39mb\u001b[39m\u001b[39m'\u001b[39m\u001b[39m\\r\u001b[39;00m\u001b[39m\\n\u001b[39;00m\u001b[39m'\u001b[39m\n\u001b[0;32m-> <a href='file:///home/tudor/.mamba/envs/pytorch/lib/python3.8/http/client.py?line=1049'>1050</a>\u001b[0m     \u001b[39mself\u001b[39;49m\u001b[39m.\u001b[39;49msend(chunk)\n\u001b[1;32m   <a href='file:///home/tudor/.mamba/envs/pytorch/lib/python3.8/http/client.py?line=1051'>1052</a>\u001b[0m \u001b[39mif\u001b[39;00m encode_chunked \u001b[39mand\u001b[39;00m \u001b[39mself\u001b[39m\u001b[39m.\u001b[39m_http_vsn \u001b[39m==\u001b[39m \u001b[39m11\u001b[39m:\n\u001b[1;32m   <a href='file:///home/tudor/.mamba/envs/pytorch/lib/python3.8/http/client.py?line=1052'>1053</a>\u001b[0m     \u001b[39m# end chunked transfer\u001b[39;00m\n\u001b[1;32m   <a href='file:///home/tudor/.mamba/envs/pytorch/lib/python3.8/http/client.py?line=1053'>1054</a>\u001b[0m     \u001b[39mself\u001b[39m\u001b[39m.\u001b[39msend(\u001b[39mb\u001b[39m\u001b[39m'\u001b[39m\u001b[39m0\u001b[39m\u001b[39m\\r\u001b[39;00m\u001b[39m\\n\u001b[39;00m\u001b[39m\\r\u001b[39;00m\u001b[39m\\n\u001b[39;00m\u001b[39m'\u001b[39m)\n",
      "File \u001b[0;32m~/.mamba/envs/pytorch/lib/python3.8/http/client.py:972\u001b[0m, in \u001b[0;36mHTTPConnection.send\u001b[0;34m(self, data)\u001b[0m\n\u001b[1;32m    <a href='file:///home/tudor/.mamba/envs/pytorch/lib/python3.8/http/client.py?line=969'>970</a>\u001b[0m     \u001b[39mreturn\u001b[39;00m\n\u001b[1;32m    <a href='file:///home/tudor/.mamba/envs/pytorch/lib/python3.8/http/client.py?line=970'>971</a>\u001b[0m \u001b[39mtry\u001b[39;00m:\n\u001b[0;32m--> <a href='file:///home/tudor/.mamba/envs/pytorch/lib/python3.8/http/client.py?line=971'>972</a>\u001b[0m     \u001b[39mself\u001b[39;49m\u001b[39m.\u001b[39;49msock\u001b[39m.\u001b[39;49msendall(data)\n\u001b[1;32m    <a href='file:///home/tudor/.mamba/envs/pytorch/lib/python3.8/http/client.py?line=972'>973</a>\u001b[0m \u001b[39mexcept\u001b[39;00m \u001b[39mTypeError\u001b[39;00m:\n\u001b[1;32m    <a href='file:///home/tudor/.mamba/envs/pytorch/lib/python3.8/http/client.py?line=973'>974</a>\u001b[0m     \u001b[39mif\u001b[39;00m \u001b[39misinstance\u001b[39m(data, collections\u001b[39m.\u001b[39mabc\u001b[39m.\u001b[39mIterable):\n",
      "File \u001b[0;32m~/.mamba/envs/pytorch/lib/python3.8/ssl.py:1204\u001b[0m, in \u001b[0;36mSSLSocket.sendall\u001b[0;34m(self, data, flags)\u001b[0m\n\u001b[1;32m   <a href='file:///home/tudor/.mamba/envs/pytorch/lib/python3.8/ssl.py?line=1201'>1202</a>\u001b[0m         amount \u001b[39m=\u001b[39m \u001b[39mlen\u001b[39m(byte_view)\n\u001b[1;32m   <a href='file:///home/tudor/.mamba/envs/pytorch/lib/python3.8/ssl.py?line=1202'>1203</a>\u001b[0m         \u001b[39mwhile\u001b[39;00m count \u001b[39m<\u001b[39m amount:\n\u001b[0;32m-> <a href='file:///home/tudor/.mamba/envs/pytorch/lib/python3.8/ssl.py?line=1203'>1204</a>\u001b[0m             v \u001b[39m=\u001b[39m \u001b[39mself\u001b[39;49m\u001b[39m.\u001b[39;49msend(byte_view[count:])\n\u001b[1;32m   <a href='file:///home/tudor/.mamba/envs/pytorch/lib/python3.8/ssl.py?line=1204'>1205</a>\u001b[0m             count \u001b[39m+\u001b[39m\u001b[39m=\u001b[39m v\n\u001b[1;32m   <a href='file:///home/tudor/.mamba/envs/pytorch/lib/python3.8/ssl.py?line=1205'>1206</a>\u001b[0m \u001b[39melse\u001b[39;00m:\n",
      "File \u001b[0;32m~/.mamba/envs/pytorch/lib/python3.8/ssl.py:1173\u001b[0m, in \u001b[0;36mSSLSocket.send\u001b[0;34m(self, data, flags)\u001b[0m\n\u001b[1;32m   <a href='file:///home/tudor/.mamba/envs/pytorch/lib/python3.8/ssl.py?line=1168'>1169</a>\u001b[0m     \u001b[39mif\u001b[39;00m flags \u001b[39m!=\u001b[39m \u001b[39m0\u001b[39m:\n\u001b[1;32m   <a href='file:///home/tudor/.mamba/envs/pytorch/lib/python3.8/ssl.py?line=1169'>1170</a>\u001b[0m         \u001b[39mraise\u001b[39;00m \u001b[39mValueError\u001b[39;00m(\n\u001b[1;32m   <a href='file:///home/tudor/.mamba/envs/pytorch/lib/python3.8/ssl.py?line=1170'>1171</a>\u001b[0m             \u001b[39m\"\u001b[39m\u001b[39mnon-zero flags not allowed in calls to send() on \u001b[39m\u001b[39m%s\u001b[39;00m\u001b[39m\"\u001b[39m \u001b[39m%\u001b[39m\n\u001b[1;32m   <a href='file:///home/tudor/.mamba/envs/pytorch/lib/python3.8/ssl.py?line=1171'>1172</a>\u001b[0m             \u001b[39mself\u001b[39m\u001b[39m.\u001b[39m\u001b[39m__class__\u001b[39m)\n\u001b[0;32m-> <a href='file:///home/tudor/.mamba/envs/pytorch/lib/python3.8/ssl.py?line=1172'>1173</a>\u001b[0m     \u001b[39mreturn\u001b[39;00m \u001b[39mself\u001b[39;49m\u001b[39m.\u001b[39;49m_sslobj\u001b[39m.\u001b[39;49mwrite(data)\n\u001b[1;32m   <a href='file:///home/tudor/.mamba/envs/pytorch/lib/python3.8/ssl.py?line=1173'>1174</a>\u001b[0m \u001b[39melse\u001b[39;00m:\n\u001b[1;32m   <a href='file:///home/tudor/.mamba/envs/pytorch/lib/python3.8/ssl.py?line=1174'>1175</a>\u001b[0m     \u001b[39mreturn\u001b[39;00m \u001b[39msuper\u001b[39m()\u001b[39m.\u001b[39msend(data, flags)\n",
      "\u001b[0;31mKeyboardInterrupt\u001b[0m: "
     ]
    }
   ],
   "source": [
    "# GET_URL = 'http://127.0.0.1:5000'\n",
    "GET_URL = config['T1_SERVER'] + token\n",
    "systems = [model0, model1, model2, model3, model4]\n",
    "counter = 20 # THIS NEEDS TO BE UPDATED MANUALLY WHEN STOPPING THE LOOP\n",
    "ans = requests.get(GET_URL)\n",
    "ans_dict = json.loads(ans.text)\n",
    "while ans_dict != []:\n",
    "    counter += 1\n",
    "    for run, system in tqdm(enumerate(systems), desc=f\"Submission count {counter}\"):\n",
    "        post_url = config['T1_SUBMISSION'] + token + \"/\" + str(run)\n",
    "        submission = []\n",
    "        for ans in ans_dict:\n",
    "            nick = ans['nick']\n",
    "            text = ans['content']\n",
    "            submission.append({\n",
    "                'nick': nick,\n",
    "                'decision': system.predict(text),\n",
    "                'score': round(random.uniform(0,4),1)\n",
    "            })\n",
    "        post_request = requests.post(post_url, data = json.dumps(submission), headers = HEADER)\n",
    "    ans = requests.get(GET_URL)\n",
    "    ans_dict = json.loads(ans.text)"
   ]
  },
  {
   "cell_type": "code",
   "execution_count": null,
   "metadata": {},
   "outputs": [],
   "source": []
  }
 ],
 "metadata": {
  "interpreter": {
   "hash": "bc7067ad0587ee2533d0568fff1e23349b43564da49d2e99835e9871e4935780"
  },
  "kernelspec": {
   "display_name": "Python 3.8.12 ('pytorch')",
   "language": "python",
   "name": "python3"
  },
  "language_info": {
   "codemirror_mode": {
    "name": "ipython",
    "version": 3
   },
   "file_extension": ".py",
   "mimetype": "text/x-python",
   "name": "python",
   "nbconvert_exporter": "python",
   "pygments_lexer": "ipython3",
   "version": "3.8.12"
  },
  "orig_nbformat": 4
 },
 "nbformat": 4,
 "nbformat_minor": 2
}
