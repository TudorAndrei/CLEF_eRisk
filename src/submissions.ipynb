{
 "cells": [
  {
   "cell_type": "code",
   "execution_count": 40,
   "metadata": {},
   "outputs": [],
   "source": [
    "from dotenv import dotenv_values\n",
    "import requests\n",
    "import json\n",
    "import random\n",
    "\n",
    "config = dotenv_values(\"../.env\")  # config = {\"USER\": \"foo\", \"EMAIL\": \"foo@example.org\"}\n",
    "debug_server = config['DEBUG_SERVER']\n",
    "token = config['TOKEN']\n",
    "submitt_url = config['DEBUG_SERVER_SUBMIT']\n",
    "HEADER = {'content-type': 'application/json'}"
   ]
  },
  {
   "cell_type": "markdown",
   "metadata": {},
   "source": [
    "## DL Model"
   ]
  },
  {
   "cell_type": "code",
   "execution_count": 28,
   "metadata": {},
   "outputs": [],
   "source": [
    "from data import DataModule\n",
    "from models import Transformer\n",
    "from transformers import RobertaTokenizerFast\n",
    "import torch\n",
    "import numpy as np\n",
    "\n",
    "model_path = r\"../models/transformer/model_val_loss0.28.ckpt\"\n",
    "tokenizer_path =  r\"../models/roberta-tokenizer\""
   ]
  },
  {
   "cell_type": "code",
   "execution_count": 29,
   "metadata": {},
   "outputs": [
    {
     "name": "stderr",
     "output_type": "stream",
     "text": [
      "file ../models/roberta-tokenizer/config.json not found\n",
      "file ../models/roberta-tokenizer/config.json not found\n"
     ]
    }
   ],
   "source": [
    "system1 = Transformer(\n",
    "    ntokens=30000,\n",
    "    emsize=128,\n",
    "    d_hid=128,\n",
    "    nlayers=1,\n",
    "    nhead=2,\n",
    "    dropout=0.2,\n",
    ").load_from_checkpoint(model_path)\n",
    "system1.eval()\n",
    "system1_tokenizer = RobertaTokenizerFast.from_pretrained(tokenizer_path)\n"
   ]
  },
  {
   "cell_type": "code",
   "execution_count": 33,
   "metadata": {},
   "outputs": [],
   "source": [
    "def get_prediction(text):\n",
    "    text = system1_tokenizer.encode_plus(\n",
    "    text,\n",
    "    # add_special_tokens=True,\n",
    "    max_length=512,\n",
    "    padding=\"max_length\",\n",
    "    return_tensors=\"pt\",\n",
    "    return_attention_mask=False,\n",
    "    truncation=True,\n",
    "    )\n",
    "    output = torch.sigmoid(system1(text['input_ids'])).detach().numpy()\n",
    "    return np.heaviside(output, 0)"
   ]
  },
  {
   "cell_type": "markdown",
   "metadata": {},
   "source": [
    "# Official Submission"
   ]
  },
  {
   "cell_type": "markdown",
   "metadata": {},
   "source": [
    "## Workflow\n",
    "```\n",
    "getWritings\n",
    "while request not empty:\n",
    "    for run in runs:\n",
    "        POST request\n",
    "    getWritings\n",
    "```"
   ]
  },
  {
   "cell_type": "code",
   "execution_count": 23,
   "metadata": {},
   "outputs": [
    {
     "name": "stdout",
     "output_type": "stream",
     "text": [
      "[]\n"
     ]
    }
   ],
   "source": [
    "GET_URL = 'http://127.0.0.1:5000'\n",
    "systems = [get_prediction, None, None, None, None]\n",
    "ans = requests.get(GET_URL)\n",
    "ans_dict = json.loads(ans.text)\n",
    "while ans_dict != []:\n",
    "    for run, system in enumerate(systems):\n",
    "        post_url = config['T1_SUBMISSION'] + token + \"/\" + str(run)\n",
    "        submission = []\n",
    "        for ans in ans_dict:\n",
    "            nick = ans['nick']\n",
    "            text = ans['content']\n",
    "            submission.append({\n",
    "                'nick': nick,\n",
    "                'decision': system(text),\n",
    "                'score': round(random.uniform(0,4),1)\n",
    "            })\n",
    "        post_request = requests.post(post_url, data = json.dumps(submission), headers = HEADER)\n",
    "    ans = requests.get(GET_URL)\n",
    "    ans_dict = json.loads(ans.text)"
   ]
  },
  {
   "cell_type": "code",
   "execution_count": null,
   "metadata": {},
   "outputs": [],
   "source": []
  }
 ],
 "metadata": {
  "interpreter": {
   "hash": "bc7067ad0587ee2533d0568fff1e23349b43564da49d2e99835e9871e4935780"
  },
  "kernelspec": {
   "display_name": "Python 3.8.12 ('pytorch')",
   "language": "python",
   "name": "python3"
  },
  "language_info": {
   "codemirror_mode": {
    "name": "ipython",
    "version": 3
   },
   "file_extension": ".py",
   "mimetype": "text/x-python",
   "name": "python",
   "nbconvert_exporter": "python",
   "pygments_lexer": "ipython3",
   "version": "3.8.12"
  },
  "orig_nbformat": 4
 },
 "nbformat": 4,
 "nbformat_minor": 2
}
