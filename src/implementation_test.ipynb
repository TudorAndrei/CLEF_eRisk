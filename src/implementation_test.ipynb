{
 "cells": [
  {
   "cell_type": "code",
   "execution_count": 1,
   "metadata": {},
   "outputs": [],
   "source": [
    "from dotenv import dotenv_values\n",
    "import requests\n",
    "import json\n",
    "import random\n",
    "\n",
    "config = dotenv_values(\"../.env\")  # config = {\"USER\": \"foo\", \"EMAIL\": \"foo@example.org\"}\n",
    "debug_server = config['DEBUG_SERVER']\n",
    "token = config['TOKEN']\n",
    "submitt_url = config['DEBUG_SERVER_SUBMIT']"
   ]
  },
  {
   "cell_type": "markdown",
   "metadata": {},
   "source": [
    "## Official "
   ]
  },
  {
   "cell_type": "code",
   "execution_count": 35,
   "metadata": {},
   "outputs": [],
   "source": [
    "url = debug_server+token\n",
    "post_url = submitt_url+token"
   ]
  },
  {
   "cell_type": "code",
   "execution_count": 36,
   "metadata": {},
   "outputs": [
    {
     "data": {
      "text/plain": [
       "'https://erisk.irlab.org/challenge-service/submit/gvq8q2KMn564w+0RADA15Hv3DfqPYXb2c6czyVxI5U8'"
      ]
     },
     "execution_count": 36,
     "metadata": {},
     "output_type": "execute_result"
    }
   ],
   "source": [
    "post_url"
   ]
  },
  {
   "cell_type": "code",
   "execution_count": 37,
   "metadata": {},
   "outputs": [],
   "source": [
    "ans = requests.get(url, headers = {'content-type': 'application/json'})"
   ]
  },
  {
   "cell_type": "code",
   "execution_count": 38,
   "metadata": {},
   "outputs": [],
   "source": [
    "ans_dict = json.loads(ans.text)"
   ]
  },
  {
   "cell_type": "code",
   "execution_count": 40,
   "metadata": {},
   "outputs": [],
   "source": [
    "submission = []\n",
    "for ans in ans_dict:\n",
    "    nick = ans['nick']\n",
    "    submission.append({\n",
    "        'nick': nick,\n",
    "        'decision': random.choice([0,1]),\n",
    "        'score': round(random.uniform(0,4),1)\n",
    "    })\n"
   ]
  },
  {
   "cell_type": "code",
   "execution_count": 41,
   "metadata": {},
   "outputs": [],
   "source": [
    "x = requests.post(url, data = json.dumps(submission), headers = {'content-type': 'application/json'})"
   ]
  },
  {
   "cell_type": "code",
   "execution_count": 43,
   "metadata": {},
   "outputs": [
    {
     "name": "stdout",
     "output_type": "stream",
     "text": [
      "<Response [405]>\n"
     ]
    }
   ],
   "source": [
    "print(x)"
   ]
  },
  {
   "cell_type": "markdown",
   "metadata": {},
   "source": [
    "## Local"
   ]
  },
  {
   "cell_type": "code",
   "execution_count": 37,
   "metadata": {},
   "outputs": [
    {
     "name": "stdout",
     "output_type": "stream",
     "text": [
      "<Response [200]>\n"
     ]
    }
   ],
   "source": [
    "test_url = 'http://127.0.0.1:5000'\n",
    "ans = requests.get(test_url)\n",
    "ans_dict = json.loads(ans.text)\n",
    "print(ans)"
   ]
  },
  {
   "cell_type": "code",
   "execution_count": 39,
   "metadata": {},
   "outputs": [],
   "source": [
    "submission = []\n",
    "for ans in ans_dict:\n",
    "    nick = ans['nick']\n",
    "    text = ans['content']\n",
    "    submission.append({\n",
    "        'nick': nick,\n",
    "        'decision': get_prediction(text),\n",
    "        'score': round(random.uniform(0,4),1)\n",
    "    })"
   ]
  },
  {
   "cell_type": "code",
   "execution_count": 40,
   "metadata": {},
   "outputs": [
    {
     "name": "stdout",
     "output_type": "stream",
     "text": [
      "<Response [200]>\n"
     ]
    }
   ],
   "source": [
    "x = requests.post(test_url, data = json.dumps(submission, indent=2), headers = {'content-type': 'application/json'})\n",
    "print(x)"
   ]
  },
  {
   "cell_type": "markdown",
   "metadata": {},
   "source": [
    "## Test implementation"
   ]
  },
  {
   "cell_type": "code",
   "execution_count": 33,
   "metadata": {},
   "outputs": [],
   "source": [
    "def get_prediction(text):\n",
    "    text = tokenizer.encode_plus(\n",
    "    text,\n",
    "    # add_special_tokens=True,\n",
    "    max_length=512,\n",
    "    padding=\"max_length\",\n",
    "    return_tensors=\"pt\",\n",
    "    return_attention_mask=False,\n",
    "    truncation=True,\n",
    "    )\n",
    "    output = torch.sigmoid(model(text['input_ids'])).detach().numpy()\n",
    "    return np.heaviside(output, 0)"
   ]
  },
  {
   "cell_type": "code",
   "execution_count": 32,
   "metadata": {},
   "outputs": [],
   "source": [
    "from data import DataModule\n",
    "from models import Transformer\n",
    "from transformers import RobertaTokenizerFast\n",
    "import torch\n",
    "import numpy as np\n",
    "\n",
    "model_path = r\"../models/roberta_3/model_val_loss0.28.ckpt\"\n",
    "tokenizer_path =  r\"../models/roberta-tokenizer\""
   ]
  },
  {
   "cell_type": "code",
   "execution_count": 12,
   "metadata": {},
   "outputs": [
    {
     "data": {
      "text/plain": [
       "Transformer(\n",
       "  (model): TransformerModel(\n",
       "    (encoder): Embedding(30000, 128)\n",
       "    (pos_encoder): PositionalEncoding(\n",
       "      (dropout): Dropout(p=0.2, inplace=False)\n",
       "    )\n",
       "    (transformer_encoder): TransformerEncoder(\n",
       "      (layers): ModuleList(\n",
       "        (0): TransformerEncoderLayer(\n",
       "          (self_attn): MultiheadAttention(\n",
       "            (out_proj): NonDynamicallyQuantizableLinear(in_features=128, out_features=128, bias=True)\n",
       "          )\n",
       "          (linear1): Linear(in_features=128, out_features=128, bias=True)\n",
       "          (dropout): Dropout(p=0.2, inplace=False)\n",
       "          (linear2): Linear(in_features=128, out_features=128, bias=True)\n",
       "          (norm1): LayerNorm((128,), eps=1e-05, elementwise_affine=True)\n",
       "          (norm2): LayerNorm((128,), eps=1e-05, elementwise_affine=True)\n",
       "          (dropout1): Dropout(p=0.2, inplace=False)\n",
       "          (dropout2): Dropout(p=0.2, inplace=False)\n",
       "        )\n",
       "      )\n",
       "    )\n",
       "    (decoder): Linear(in_features=128, out_features=1, bias=True)\n",
       "  )\n",
       "  (criterion): BCEWithLogitsLoss()\n",
       ")"
      ]
     },
     "execution_count": 12,
     "metadata": {},
     "output_type": "execute_result"
    }
   ],
   "source": [
    "model = Transformer(\n",
    "    ntokens=30000,\n",
    "    emsize=128,\n",
    "    d_hid=128,\n",
    "    nlayers=1,\n",
    "    nhead=2,\n",
    "    dropout=0.2,\n",
    ").load_from_checkpoint(model_path)\n",
    "model.eval()\n",
    "tokenizer = RobertaTokenizerFast.from_pretrained(tokenizer_path)\n"
   ]
  }
 ],
 "metadata": {
  "interpreter": {
   "hash": "bc7067ad0587ee2533d0568fff1e23349b43564da49d2e99835e9871e4935780"
  },
  "kernelspec": {
   "display_name": "Python 3.8.12 ('pytorch')",
   "language": "python",
   "name": "python3"
  },
  "language_info": {
   "codemirror_mode": {
    "name": "ipython",
    "version": 3
   },
   "file_extension": ".py",
   "mimetype": "text/x-python",
   "name": "python",
   "nbconvert_exporter": "python",
   "pygments_lexer": "ipython3",
   "version": "3.8.12"
  },
  "orig_nbformat": 4
 },
 "nbformat": 4,
 "nbformat_minor": 2
}
